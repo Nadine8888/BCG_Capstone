{
 "cells": [
  {
   "cell_type": "markdown",
   "id": "3d8810fc",
   "metadata": {},
   "source": [
    "# Feature Engineering Client"
   ]
  },
  {
   "cell_type": "code",
   "execution_count": 1,
   "id": "d8db73e3",
   "metadata": {
    "executionInfo": {
     "elapsed": 718,
     "status": "ok",
     "timestamp": 1655136207880,
     "user": {
      "displayName": "Martina Cilia",
      "userId": "17202807632850710798"
     },
     "user_tz": -120
    },
    "id": "d8db73e3"
   },
   "outputs": [],
   "source": [
    "import pandas as pd\n",
    "import numpy as np\n",
    "import seaborn as sns\n",
    "import matplotlib.pyplot as plt"
   ]
  },
  {
   "cell_type": "code",
   "execution_count": 2,
   "id": "84f79a04",
   "metadata": {
    "colab": {
     "base_uri": "https://localhost:8080/",
     "height": 323
    },
    "executionInfo": {
     "elapsed": 360,
     "status": "error",
     "timestamp": 1655136247628,
     "user": {
      "displayName": "Martina Cilia",
      "userId": "17202807632850710798"
     },
     "user_tz": -120
    },
    "id": "84f79a04",
    "outputId": "8fdb04e5-2a93-45b2-f0d3-28f780f92a44"
   },
   "outputs": [],
   "source": [
    "df = pd.read_csv('transactions_dataset.csv', sep=\";\")"
   ]
  },
  {
   "cell_type": "code",
   "execution_count": 3,
   "id": "2b45519c",
   "metadata": {},
   "outputs": [],
   "source": [
    "df['date_order'] = pd.to_datetime(df['date_order'], format='%Y-%m-%d')"
   ]
  },
  {
   "cell_type": "code",
   "execution_count": 4,
   "id": "35c43840",
   "metadata": {},
   "outputs": [],
   "source": [
    "#filtered_df = df.loc[(df['date_order'] >= '2018-01-01') & (df['date_order'] <= '2018-12-31')]\n",
    "filtered_df = df.copy()"
   ]
  },
  {
   "cell_type": "code",
   "execution_count": 5,
   "id": "87b19042",
   "metadata": {},
   "outputs": [
    {
     "name": "stdout",
     "output_type": "stream",
     "text": [
      "2017-09-22 00:00:00\n",
      "2019-09-22 00:00:00\n"
     ]
    }
   ],
   "source": [
    "print(filtered_df['date_order'].min())\n",
    "print(filtered_df['date_order'].max())"
   ]
  },
  {
   "cell_type": "code",
   "execution_count": 6,
   "id": "36e4f430",
   "metadata": {},
   "outputs": [
    {
     "data": {
      "text/plain": [
       "(63319315, 8)"
      ]
     },
     "execution_count": 6,
     "metadata": {},
     "output_type": "execute_result"
    }
   ],
   "source": [
    "filtered_df.shape"
   ]
  },
  {
   "cell_type": "code",
   "execution_count": 7,
   "id": "e7c843aa",
   "metadata": {
    "scrolled": true
   },
   "outputs": [
    {
     "data": {
      "text/html": [
       "<div>\n",
       "<style scoped>\n",
       "    .dataframe tbody tr th:only-of-type {\n",
       "        vertical-align: middle;\n",
       "    }\n",
       "\n",
       "    .dataframe tbody tr th {\n",
       "        vertical-align: top;\n",
       "    }\n",
       "\n",
       "    .dataframe thead th {\n",
       "        text-align: right;\n",
       "    }\n",
       "</style>\n",
       "<table border=\"1\" class=\"dataframe\">\n",
       "  <thead>\n",
       "    <tr style=\"text-align: right;\">\n",
       "      <th></th>\n",
       "      <th>date_order</th>\n",
       "      <th>date_invoice</th>\n",
       "      <th>product_id</th>\n",
       "      <th>client_id</th>\n",
       "      <th>sales_net</th>\n",
       "      <th>quantity</th>\n",
       "      <th>order_channel</th>\n",
       "      <th>branch_id</th>\n",
       "    </tr>\n",
       "  </thead>\n",
       "  <tbody>\n",
       "    <tr>\n",
       "      <th>0</th>\n",
       "      <td>2017-09-25</td>\n",
       "      <td>2017-09-25</td>\n",
       "      <td>2376333</td>\n",
       "      <td>188502</td>\n",
       "      <td>155.44320</td>\n",
       "      <td>3</td>\n",
       "      <td>online</td>\n",
       "      <td>2732</td>\n",
       "    </tr>\n",
       "    <tr>\n",
       "      <th>1</th>\n",
       "      <td>2017-09-25</td>\n",
       "      <td>2017-09-25</td>\n",
       "      <td>2520527</td>\n",
       "      <td>835089</td>\n",
       "      <td>16.39440</td>\n",
       "      <td>3</td>\n",
       "      <td>at the store</td>\n",
       "      <td>10279</td>\n",
       "    </tr>\n",
       "    <tr>\n",
       "      <th>2</th>\n",
       "      <td>2017-09-25</td>\n",
       "      <td>2017-09-25</td>\n",
       "      <td>2536756</td>\n",
       "      <td>1977896</td>\n",
       "      <td>365.76624</td>\n",
       "      <td>21</td>\n",
       "      <td>online</td>\n",
       "      <td>6184</td>\n",
       "    </tr>\n",
       "    <tr>\n",
       "      <th>3</th>\n",
       "      <td>2017-09-25</td>\n",
       "      <td>2017-09-25</td>\n",
       "      <td>3028673</td>\n",
       "      <td>598816</td>\n",
       "      <td>8.59878</td>\n",
       "      <td>201</td>\n",
       "      <td>at the store</td>\n",
       "      <td>4200</td>\n",
       "    </tr>\n",
       "    <tr>\n",
       "      <th>4</th>\n",
       "      <td>2017-09-25</td>\n",
       "      <td>2017-09-25</td>\n",
       "      <td>203377</td>\n",
       "      <td>2086861</td>\n",
       "      <td>1093.37400</td>\n",
       "      <td>3</td>\n",
       "      <td>by phone</td>\n",
       "      <td>7051</td>\n",
       "    </tr>\n",
       "    <tr>\n",
       "      <th>...</th>\n",
       "      <td>...</td>\n",
       "      <td>...</td>\n",
       "      <td>...</td>\n",
       "      <td>...</td>\n",
       "      <td>...</td>\n",
       "      <td>...</td>\n",
       "      <td>...</td>\n",
       "      <td>...</td>\n",
       "    </tr>\n",
       "    <tr>\n",
       "      <th>63319310</th>\n",
       "      <td>2019-06-10</td>\n",
       "      <td>2020-06-12</td>\n",
       "      <td>1596284</td>\n",
       "      <td>245272</td>\n",
       "      <td>-2056.91300</td>\n",
       "      <td>5</td>\n",
       "      <td>by phone</td>\n",
       "      <td>7682</td>\n",
       "    </tr>\n",
       "    <tr>\n",
       "      <th>63319311</th>\n",
       "      <td>2018-12-14</td>\n",
       "      <td>2020-07-15</td>\n",
       "      <td>908253</td>\n",
       "      <td>880496</td>\n",
       "      <td>27.62760</td>\n",
       "      <td>1001</td>\n",
       "      <td>by phone</td>\n",
       "      <td>9375</td>\n",
       "    </tr>\n",
       "    <tr>\n",
       "      <th>63319312</th>\n",
       "      <td>2019-07-26</td>\n",
       "      <td>2020-10-29</td>\n",
       "      <td>1168247</td>\n",
       "      <td>2063314</td>\n",
       "      <td>-204.60984</td>\n",
       "      <td>101</td>\n",
       "      <td>by phone</td>\n",
       "      <td>3014</td>\n",
       "    </tr>\n",
       "    <tr>\n",
       "      <th>63319313</th>\n",
       "      <td>2018-05-23</td>\n",
       "      <td>2020-11-27</td>\n",
       "      <td>2319965</td>\n",
       "      <td>1287654</td>\n",
       "      <td>70.49730</td>\n",
       "      <td>17</td>\n",
       "      <td>by phone</td>\n",
       "      <td>1015</td>\n",
       "    </tr>\n",
       "    <tr>\n",
       "      <th>63319314</th>\n",
       "      <td>2019-09-10</td>\n",
       "      <td>2020-10-20</td>\n",
       "      <td>669067</td>\n",
       "      <td>1030337</td>\n",
       "      <td>-5.49240</td>\n",
       "      <td>3</td>\n",
       "      <td>at the store</td>\n",
       "      <td>9136</td>\n",
       "    </tr>\n",
       "  </tbody>\n",
       "</table>\n",
       "<p>61780198 rows × 8 columns</p>\n",
       "</div>"
      ],
      "text/plain": [
       "         date_order date_invoice  product_id  client_id   sales_net  quantity  \\\n",
       "0        2017-09-25   2017-09-25     2376333     188502   155.44320         3   \n",
       "1        2017-09-25   2017-09-25     2520527     835089    16.39440         3   \n",
       "2        2017-09-25   2017-09-25     2536756    1977896   365.76624        21   \n",
       "3        2017-09-25   2017-09-25     3028673     598816     8.59878       201   \n",
       "4        2017-09-25   2017-09-25      203377    2086861  1093.37400         3   \n",
       "...             ...          ...         ...        ...         ...       ...   \n",
       "63319310 2019-06-10   2020-06-12     1596284     245272 -2056.91300         5   \n",
       "63319311 2018-12-14   2020-07-15      908253     880496    27.62760      1001   \n",
       "63319312 2019-07-26   2020-10-29     1168247    2063314  -204.60984       101   \n",
       "63319313 2018-05-23   2020-11-27     2319965    1287654    70.49730        17   \n",
       "63319314 2019-09-10   2020-10-20      669067    1030337    -5.49240         3   \n",
       "\n",
       "         order_channel  branch_id  \n",
       "0               online       2732  \n",
       "1         at the store      10279  \n",
       "2               online       6184  \n",
       "3         at the store       4200  \n",
       "4             by phone       7051  \n",
       "...                ...        ...  \n",
       "63319310      by phone       7682  \n",
       "63319311      by phone       9375  \n",
       "63319312      by phone       3014  \n",
       "63319313      by phone       1015  \n",
       "63319314  at the store       9136  \n",
       "\n",
       "[61780198 rows x 8 columns]"
      ]
     },
     "execution_count": 7,
     "metadata": {},
     "output_type": "execute_result"
    }
   ],
   "source": [
    "filtered_df.drop_duplicates()"
   ]
  },
  {
   "cell_type": "code",
   "execution_count": 8,
   "id": "59c18b51",
   "metadata": {
    "scrolled": true
   },
   "outputs": [],
   "source": [
    "filtered_df = filtered_df.drop(['date_invoice'],axis=1)"
   ]
  },
  {
   "cell_type": "code",
   "execution_count": 9,
   "id": "6e3839f1",
   "metadata": {},
   "outputs": [],
   "source": [
    "filtered_df = filtered_df.drop(['order_channel'],axis=1)"
   ]
  },
  {
   "cell_type": "code",
   "execution_count": 10,
   "id": "40fc25c8",
   "metadata": {},
   "outputs": [
    {
     "data": {
      "text/html": [
       "<div>\n",
       "<style scoped>\n",
       "    .dataframe tbody tr th:only-of-type {\n",
       "        vertical-align: middle;\n",
       "    }\n",
       "\n",
       "    .dataframe tbody tr th {\n",
       "        vertical-align: top;\n",
       "    }\n",
       "\n",
       "    .dataframe thead th {\n",
       "        text-align: right;\n",
       "    }\n",
       "</style>\n",
       "<table border=\"1\" class=\"dataframe\">\n",
       "  <thead>\n",
       "    <tr style=\"text-align: right;\">\n",
       "      <th></th>\n",
       "      <th>date_order</th>\n",
       "      <th>product_id</th>\n",
       "      <th>client_id</th>\n",
       "      <th>sales_net</th>\n",
       "      <th>quantity</th>\n",
       "      <th>branch_id</th>\n",
       "    </tr>\n",
       "  </thead>\n",
       "  <tbody>\n",
       "    <tr>\n",
       "      <th>0</th>\n",
       "      <td>2017-09-25</td>\n",
       "      <td>2376333</td>\n",
       "      <td>188502</td>\n",
       "      <td>155.44320</td>\n",
       "      <td>3</td>\n",
       "      <td>2732</td>\n",
       "    </tr>\n",
       "    <tr>\n",
       "      <th>1</th>\n",
       "      <td>2017-09-25</td>\n",
       "      <td>2520527</td>\n",
       "      <td>835089</td>\n",
       "      <td>16.39440</td>\n",
       "      <td>3</td>\n",
       "      <td>10279</td>\n",
       "    </tr>\n",
       "    <tr>\n",
       "      <th>2</th>\n",
       "      <td>2017-09-25</td>\n",
       "      <td>2536756</td>\n",
       "      <td>1977896</td>\n",
       "      <td>365.76624</td>\n",
       "      <td>21</td>\n",
       "      <td>6184</td>\n",
       "    </tr>\n",
       "    <tr>\n",
       "      <th>3</th>\n",
       "      <td>2017-09-25</td>\n",
       "      <td>3028673</td>\n",
       "      <td>598816</td>\n",
       "      <td>8.59878</td>\n",
       "      <td>201</td>\n",
       "      <td>4200</td>\n",
       "    </tr>\n",
       "    <tr>\n",
       "      <th>4</th>\n",
       "      <td>2017-09-25</td>\n",
       "      <td>203377</td>\n",
       "      <td>2086861</td>\n",
       "      <td>1093.37400</td>\n",
       "      <td>3</td>\n",
       "      <td>7051</td>\n",
       "    </tr>\n",
       "  </tbody>\n",
       "</table>\n",
       "</div>"
      ],
      "text/plain": [
       "  date_order  product_id  client_id   sales_net  quantity  branch_id\n",
       "0 2017-09-25     2376333     188502   155.44320         3       2732\n",
       "1 2017-09-25     2520527     835089    16.39440         3      10279\n",
       "2 2017-09-25     2536756    1977896   365.76624        21       6184\n",
       "3 2017-09-25     3028673     598816     8.59878       201       4200\n",
       "4 2017-09-25      203377    2086861  1093.37400         3       7051"
      ]
     },
     "execution_count": 10,
     "metadata": {},
     "output_type": "execute_result"
    }
   ],
   "source": [
    "filtered_df.head()"
   ]
  },
  {
   "cell_type": "code",
   "execution_count": 11,
   "id": "489cb0b0",
   "metadata": {
    "scrolled": false
   },
   "outputs": [
    {
     "data": {
      "image/png": "[encoded data removed]",
      "text/plain": [
       "<Figure size 432x288 with 2 Axes>"
      ]
     },
     "metadata": {
      "needs_background": "light"
     },
     "output_type": "display_data"
    }
   ],
   "source": [
    "sns.heatmap(data=filtered_df[['date_order', 'sales_net','quantity']].corr(),\n",
    "            annot=True, cmap='coolwarm');"
   ]
  },
  {
   "cell_type": "code",
   "execution_count": 12,
   "id": "4dd3146d",
   "metadata": {},
   "outputs": [
    {
     "name": "stdout",
     "output_type": "stream",
     "text": [
      "sales_net: 4411763\n",
      "quantity: 9812964\n"
     ]
    }
   ],
   "source": [
    "# Checking for outliers\n",
    "\n",
    "cols_for_distrib = ['sales_net','quantity',]\n",
    "\n",
    "def outlier_function(df, col_name):\n",
    "    ''' this function detects first and third quartile and interquartile range for a given column of a dataframe\n",
    "    then calculates upper and lower limits to determine outliers conservatively\n",
    "    returns the number of lower and uper limit and number of outliers respectively\n",
    "    '''\n",
    "    first_quartile = np.percentile(np.array(df[col_name].tolist()), 25)\n",
    "    third_quartile = np.percentile(np.array(df[col_name].tolist()), 75)\n",
    "    IQR = third_quartile - first_quartile\n",
    "                      \n",
    "    upper_limit = third_quartile+(3*IQR)\n",
    "    lower_limit = first_quartile-(3*IQR)\n",
    "    outlier_count = 0\n",
    "                      \n",
    "    for value in df[col_name].tolist():\n",
    "        if (value < lower_limit) | (value > upper_limit):\n",
    "            outlier_count +=1\n",
    "    return lower_limit, upper_limit, outlier_count\n",
    "\n",
    "for x in cols_for_distrib:\n",
    "    print(f\"{x}: {outlier_function(filtered_df,x)[2]}\")"
   ]
  },
  {
   "cell_type": "markdown",
   "id": "603608d5",
   "metadata": {},
   "source": [
    "# Outlier Detection"
   ]
  },
  {
   "cell_type": "code",
   "execution_count": 13,
   "id": "99e21398",
   "metadata": {},
   "outputs": [
    {
     "data": {
      "text/plain": [
       "<AxesSubplot:ylabel='sales_net'>"
      ]
     },
     "execution_count": 13,
     "metadata": {},
     "output_type": "execute_result"
    },
    {
     "data": {
      "image/png": "[encoded data removed]",
      "text/plain": [
       "<Figure size 432x288 with 1 Axes>"
      ]
     },
     "metadata": {},
     "output_type": "display_data"
    }
   ],
   "source": [
    "sns.set(style=\"whitegrid\")\n",
    "sns.boxplot(y=filtered_df['sales_net']) #sales_net is very sparse "
   ]
  },
  {
   "cell_type": "code",
   "execution_count": 14,
   "id": "c366878a",
   "metadata": {},
   "outputs": [
    {
     "data": {
      "text/plain": [
       "<AxesSubplot:ylabel='quantity'>"
      ]
     },
     "execution_count": 14,
     "metadata": {},
     "output_type": "execute_result"
    },
    {
     "data": {
      "image/png": "[encoded data removed]",
      "text/plain": [
       "<Figure size 432x288 with 1 Axes>"
      ]
     },
     "metadata": {},
     "output_type": "display_data"
    }
   ],
   "source": [
    "sns.set(style=\"whitegrid\")\n",
    "sns.boxplot(y=df['quantity'])"
   ]
  },
  {
   "cell_type": "markdown",
   "id": "91460b60",
   "metadata": {},
   "source": [
    "# Removing Outliers for sales_net"
   ]
  },
  {
   "cell_type": "code",
   "execution_count": 15,
   "id": "f5fcb8cc",
   "metadata": {},
   "outputs": [
    {
     "data": {
      "text/html": [
       "<div>\n",
       "<style scoped>\n",
       "    .dataframe tbody tr th:only-of-type {\n",
       "        vertical-align: middle;\n",
       "    }\n",
       "\n",
       "    .dataframe tbody tr th {\n",
       "        vertical-align: top;\n",
       "    }\n",
       "\n",
       "    .dataframe thead th {\n",
       "        text-align: right;\n",
       "    }\n",
       "</style>\n",
       "<table border=\"1\" class=\"dataframe\">\n",
       "  <thead>\n",
       "    <tr style=\"text-align: right;\">\n",
       "      <th></th>\n",
       "      <th>date_order</th>\n",
       "      <th>product_id</th>\n",
       "      <th>client_id</th>\n",
       "      <th>sales_net</th>\n",
       "      <th>quantity</th>\n",
       "      <th>branch_id</th>\n",
       "    </tr>\n",
       "  </thead>\n",
       "  <tbody>\n",
       "    <tr>\n",
       "      <th>0</th>\n",
       "      <td>2017-09-25</td>\n",
       "      <td>2376333</td>\n",
       "      <td>188502</td>\n",
       "      <td>155.44320</td>\n",
       "      <td>3</td>\n",
       "      <td>2732</td>\n",
       "    </tr>\n",
       "    <tr>\n",
       "      <th>1</th>\n",
       "      <td>2017-09-25</td>\n",
       "      <td>2520527</td>\n",
       "      <td>835089</td>\n",
       "      <td>16.39440</td>\n",
       "      <td>3</td>\n",
       "      <td>10279</td>\n",
       "    </tr>\n",
       "    <tr>\n",
       "      <th>2</th>\n",
       "      <td>2017-09-25</td>\n",
       "      <td>2536756</td>\n",
       "      <td>1977896</td>\n",
       "      <td>365.76624</td>\n",
       "      <td>21</td>\n",
       "      <td>6184</td>\n",
       "    </tr>\n",
       "    <tr>\n",
       "      <th>3</th>\n",
       "      <td>2017-09-25</td>\n",
       "      <td>3028673</td>\n",
       "      <td>598816</td>\n",
       "      <td>8.59878</td>\n",
       "      <td>201</td>\n",
       "      <td>4200</td>\n",
       "    </tr>\n",
       "    <tr>\n",
       "      <th>5</th>\n",
       "      <td>2017-09-25</td>\n",
       "      <td>793319</td>\n",
       "      <td>564878</td>\n",
       "      <td>116.70384</td>\n",
       "      <td>11</td>\n",
       "      <td>35</td>\n",
       "    </tr>\n",
       "  </tbody>\n",
       "</table>\n",
       "</div>"
      ],
      "text/plain": [
       "  date_order  product_id  client_id  sales_net  quantity  branch_id\n",
       "0 2017-09-25     2376333     188502  155.44320         3       2732\n",
       "1 2017-09-25     2520527     835089   16.39440         3      10279\n",
       "2 2017-09-25     2536756    1977896  365.76624        21       6184\n",
       "3 2017-09-25     3028673     598816    8.59878       201       4200\n",
       "5 2017-09-25      793319     564878  116.70384        11         35"
      ]
     },
     "execution_count": 15,
     "metadata": {},
     "output_type": "execute_result"
    }
   ],
   "source": [
    "filtered_df = filtered_df[(filtered_df['sales_net'] > outlier_function(filtered_df,'sales_net')[0]) &\n",
    "              (filtered_df['sales_net'] < outlier_function(filtered_df,'sales_net')[1])]\n",
    "filtered_df.head()"
   ]
  },
  {
   "cell_type": "code",
   "execution_count": 16,
   "id": "77e75dc3",
   "metadata": {},
   "outputs": [
    {
     "data": {
      "text/plain": [
       "(58907546, 6)"
      ]
     },
     "execution_count": 16,
     "metadata": {},
     "output_type": "execute_result"
    }
   ],
   "source": [
    "filtered_df.shape"
   ]
  },
  {
   "cell_type": "code",
   "execution_count": 17,
   "id": "35d2f46c",
   "metadata": {
    "scrolled": true
   },
   "outputs": [
    {
     "data": {
      "text/plain": [
       "date_order        731\n",
       "product_id     411447\n",
       "client_id      168416\n",
       "sales_net     1307082\n",
       "quantity         2329\n",
       "branch_id         576\n",
       "dtype: int64"
      ]
     },
     "execution_count": 17,
     "metadata": {},
     "output_type": "execute_result"
    }
   ],
   "source": [
    "filtered_df.nunique()"
   ]
  },
  {
   "cell_type": "markdown",
   "id": "7b5f5904",
   "metadata": {},
   "source": [
    "# Definiting Churn"
   ]
  },
  {
   "cell_type": "code",
   "execution_count": 18,
   "id": "ab662ed1",
   "metadata": {},
   "outputs": [
    {
     "data": {
      "text/html": [
       "<div>\n",
       "<style scoped>\n",
       "    .dataframe tbody tr th:only-of-type {\n",
       "        vertical-align: middle;\n",
       "    }\n",
       "\n",
       "    .dataframe tbody tr th {\n",
       "        vertical-align: top;\n",
       "    }\n",
       "\n",
       "    .dataframe thead th {\n",
       "        text-align: right;\n",
       "    }\n",
       "</style>\n",
       "<table border=\"1\" class=\"dataframe\">\n",
       "  <thead>\n",
       "    <tr style=\"text-align: right;\">\n",
       "      <th></th>\n",
       "      <th>client_id</th>\n",
       "      <th>LastPurchaseDate</th>\n",
       "      <th>Recency</th>\n",
       "    </tr>\n",
       "  </thead>\n",
       "  <tbody>\n",
       "    <tr>\n",
       "      <th>0</th>\n",
       "      <td>6</td>\n",
       "      <td>2019-08-13</td>\n",
       "      <td>40</td>\n",
       "    </tr>\n",
       "    <tr>\n",
       "      <th>1</th>\n",
       "      <td>7</td>\n",
       "      <td>2018-12-24</td>\n",
       "      <td>272</td>\n",
       "    </tr>\n",
       "    <tr>\n",
       "      <th>2</th>\n",
       "      <td>14</td>\n",
       "      <td>2019-09-20</td>\n",
       "      <td>2</td>\n",
       "    </tr>\n",
       "    <tr>\n",
       "      <th>3</th>\n",
       "      <td>18</td>\n",
       "      <td>2019-09-12</td>\n",
       "      <td>10</td>\n",
       "    </tr>\n",
       "    <tr>\n",
       "      <th>4</th>\n",
       "      <td>25</td>\n",
       "      <td>2018-10-10</td>\n",
       "      <td>347</td>\n",
       "    </tr>\n",
       "  </tbody>\n",
       "</table>\n",
       "</div>"
      ],
      "text/plain": [
       "   client_id LastPurchaseDate  Recency\n",
       "0          6       2019-08-13       40\n",
       "1          7       2018-12-24      272\n",
       "2         14       2019-09-20        2\n",
       "3         18       2019-09-12       10\n",
       "4         25       2018-10-10      347"
      ]
     },
     "execution_count": 18,
     "metadata": {},
     "output_type": "execute_result"
    }
   ],
   "source": [
    "#Calculating Recency\n",
    "\n",
    "df_recency = filtered_df.groupby(by='client_id',\n",
    "                        as_index=False)['date_order'].max()\n",
    "df_recency.columns = ['client_id', 'LastPurchaseDate']\n",
    "recent_date = df_recency['LastPurchaseDate'].max()\n",
    "df_recency['Recency'] = df_recency['LastPurchaseDate'].apply(\n",
    "    lambda x: (recent_date - x).days)\n",
    "df_recency.head()"
   ]
  },
  {
   "cell_type": "code",
   "execution_count": 19,
   "id": "e6e91228",
   "metadata": {
    "scrolled": true
   },
   "outputs": [
    {
     "data": {
      "text/html": [
       "<div>\n",
       "<style scoped>\n",
       "    .dataframe tbody tr th:only-of-type {\n",
       "        vertical-align: middle;\n",
       "    }\n",
       "\n",
       "    .dataframe tbody tr th {\n",
       "        vertical-align: top;\n",
       "    }\n",
       "\n",
       "    .dataframe thead th {\n",
       "        text-align: right;\n",
       "    }\n",
       "</style>\n",
       "<table border=\"1\" class=\"dataframe\">\n",
       "  <thead>\n",
       "    <tr style=\"text-align: right;\">\n",
       "      <th></th>\n",
       "      <th>client_id</th>\n",
       "      <th>LastPurchaseDate</th>\n",
       "      <th>Recency</th>\n",
       "      <th>I_Recency</th>\n",
       "    </tr>\n",
       "  </thead>\n",
       "  <tbody>\n",
       "    <tr>\n",
       "      <th>0</th>\n",
       "      <td>6</td>\n",
       "      <td>2019-08-13</td>\n",
       "      <td>40</td>\n",
       "      <td>0.024390</td>\n",
       "    </tr>\n",
       "    <tr>\n",
       "      <th>1</th>\n",
       "      <td>7</td>\n",
       "      <td>2018-12-24</td>\n",
       "      <td>272</td>\n",
       "      <td>0.003663</td>\n",
       "    </tr>\n",
       "    <tr>\n",
       "      <th>2</th>\n",
       "      <td>14</td>\n",
       "      <td>2019-09-20</td>\n",
       "      <td>2</td>\n",
       "      <td>0.333333</td>\n",
       "    </tr>\n",
       "    <tr>\n",
       "      <th>3</th>\n",
       "      <td>18</td>\n",
       "      <td>2019-09-12</td>\n",
       "      <td>10</td>\n",
       "      <td>0.090909</td>\n",
       "    </tr>\n",
       "    <tr>\n",
       "      <th>4</th>\n",
       "      <td>25</td>\n",
       "      <td>2018-10-10</td>\n",
       "      <td>347</td>\n",
       "      <td>0.002874</td>\n",
       "    </tr>\n",
       "  </tbody>\n",
       "</table>\n",
       "</div>"
      ],
      "text/plain": [
       "   client_id LastPurchaseDate  Recency  I_Recency\n",
       "0          6       2019-08-13       40   0.024390\n",
       "1          7       2018-12-24      272   0.003663\n",
       "2         14       2019-09-20        2   0.333333\n",
       "3         18       2019-09-12       10   0.090909\n",
       "4         25       2018-10-10      347   0.002874"
      ]
     },
     "execution_count": 19,
     "metadata": {},
     "output_type": "execute_result"
    }
   ],
   "source": [
    "df_recency['I_Recency'] = 1/(df_recency['Recency']+1) #because the lower the recency the better and to avoid nulls\n",
    "df_recency.head()"
   ]
  },
  {
   "cell_type": "code",
   "execution_count": 20,
   "id": "0992dcc5",
   "metadata": {
    "scrolled": true
   },
   "outputs": [
    {
     "data": {
      "text/plain": [
       "(168416, 4)"
      ]
     },
     "execution_count": 20,
     "metadata": {},
     "output_type": "execute_result"
    }
   ],
   "source": [
    "df_recency.shape"
   ]
  },
  {
   "cell_type": "code",
   "execution_count": 21,
   "id": "57731ff7",
   "metadata": {
    "scrolled": true
   },
   "outputs": [
    {
     "data": {
      "text/html": [
       "<div>\n",
       "<style scoped>\n",
       "    .dataframe tbody tr th:only-of-type {\n",
       "        vertical-align: middle;\n",
       "    }\n",
       "\n",
       "    .dataframe tbody tr th {\n",
       "        vertical-align: top;\n",
       "    }\n",
       "\n",
       "    .dataframe thead th {\n",
       "        text-align: right;\n",
       "    }\n",
       "</style>\n",
       "<table border=\"1\" class=\"dataframe\">\n",
       "  <thead>\n",
       "    <tr style=\"text-align: right;\">\n",
       "      <th></th>\n",
       "      <th>client_id</th>\n",
       "      <th>Frequency</th>\n",
       "    </tr>\n",
       "  </thead>\n",
       "  <tbody>\n",
       "    <tr>\n",
       "      <th>0</th>\n",
       "      <td>6</td>\n",
       "      <td>13</td>\n",
       "    </tr>\n",
       "    <tr>\n",
       "      <th>1</th>\n",
       "      <td>7</td>\n",
       "      <td>2</td>\n",
       "    </tr>\n",
       "    <tr>\n",
       "      <th>2</th>\n",
       "      <td>14</td>\n",
       "      <td>505</td>\n",
       "    </tr>\n",
       "    <tr>\n",
       "      <th>3</th>\n",
       "      <td>18</td>\n",
       "      <td>283</td>\n",
       "    </tr>\n",
       "    <tr>\n",
       "      <th>4</th>\n",
       "      <td>25</td>\n",
       "      <td>1</td>\n",
       "    </tr>\n",
       "  </tbody>\n",
       "</table>\n",
       "</div>"
      ],
      "text/plain": [
       "   client_id  Frequency\n",
       "0          6         13\n",
       "1          7          2\n",
       "2         14        505\n",
       "3         18        283\n",
       "4         25          1"
      ]
     },
     "execution_count": 21,
     "metadata": {},
     "output_type": "execute_result"
    }
   ],
   "source": [
    "#Calculating Frequency\n",
    "frequency_df = filtered_df.groupby(\n",
    "    by=['client_id'], as_index=False)['date_order'].nunique()\n",
    "frequency_df.columns = ['client_id', 'Frequency']\n",
    "frequency_df.head()"
   ]
  },
  {
   "cell_type": "code",
   "execution_count": 22,
   "id": "8b694739",
   "metadata": {
    "scrolled": true
   },
   "outputs": [
    {
     "data": {
      "text/plain": [
       "(168416, 2)"
      ]
     },
     "execution_count": 22,
     "metadata": {},
     "output_type": "execute_result"
    }
   ],
   "source": [
    "frequency_df.shape"
   ]
  },
  {
   "cell_type": "code",
   "execution_count": 23,
   "id": "f3023581",
   "metadata": {},
   "outputs": [
    {
     "data": {
      "text/html": [
       "<div>\n",
       "<style scoped>\n",
       "    .dataframe tbody tr th:only-of-type {\n",
       "        vertical-align: middle;\n",
       "    }\n",
       "\n",
       "    .dataframe tbody tr th {\n",
       "        vertical-align: top;\n",
       "    }\n",
       "\n",
       "    .dataframe thead th {\n",
       "        text-align: right;\n",
       "    }\n",
       "</style>\n",
       "<table border=\"1\" class=\"dataframe\">\n",
       "  <thead>\n",
       "    <tr style=\"text-align: right;\">\n",
       "      <th></th>\n",
       "      <th>client_id</th>\n",
       "      <th>Monetary</th>\n",
       "    </tr>\n",
       "  </thead>\n",
       "  <tbody>\n",
       "    <tr>\n",
       "      <th>0</th>\n",
       "      <td>6</td>\n",
       "      <td>3.222781e+03</td>\n",
       "    </tr>\n",
       "    <tr>\n",
       "      <th>1</th>\n",
       "      <td>7</td>\n",
       "      <td>1.190777e+03</td>\n",
       "    </tr>\n",
       "    <tr>\n",
       "      <th>2</th>\n",
       "      <td>14</td>\n",
       "      <td>1.297435e+06</td>\n",
       "    </tr>\n",
       "    <tr>\n",
       "      <th>3</th>\n",
       "      <td>18</td>\n",
       "      <td>1.106206e+05</td>\n",
       "    </tr>\n",
       "    <tr>\n",
       "      <th>4</th>\n",
       "      <td>25</td>\n",
       "      <td>3.745861e+02</td>\n",
       "    </tr>\n",
       "  </tbody>\n",
       "</table>\n",
       "</div>"
      ],
      "text/plain": [
       "   client_id      Monetary\n",
       "0          6  3.222781e+03\n",
       "1          7  1.190777e+03\n",
       "2         14  1.297435e+06\n",
       "3         18  1.106206e+05\n",
       "4         25  3.745861e+02"
      ]
     },
     "execution_count": 23,
     "metadata": {},
     "output_type": "execute_result"
    }
   ],
   "source": [
    "#Calculating Monetary Value\n",
    "monetary_df = filtered_df.groupby(by='client_id', as_index=False)['sales_net'].sum()\n",
    "monetary_df.columns = ['client_id', 'Monetary']\n",
    "monetary_df.head()"
   ]
  },
  {
   "cell_type": "code",
   "execution_count": 24,
   "id": "06cf8241",
   "metadata": {
    "scrolled": true
   },
   "outputs": [
    {
     "data": {
      "text/plain": [
       "(168416, 2)"
      ]
     },
     "execution_count": 24,
     "metadata": {},
     "output_type": "execute_result"
    }
   ],
   "source": [
    "monetary_df.shape"
   ]
  },
  {
   "cell_type": "code",
   "execution_count": 25,
   "id": "f925b62b",
   "metadata": {},
   "outputs": [],
   "source": [
    "monetary_df['Monetary']=monetary_df['Monetary'].astype('int64')"
   ]
  },
  {
   "cell_type": "code",
   "execution_count": 26,
   "id": "3d2856a3",
   "metadata": {},
   "outputs": [
    {
     "data": {
      "text/plain": [
       "client_id    int64\n",
       "Monetary     int64\n",
       "dtype: object"
      ]
     },
     "execution_count": 26,
     "metadata": {},
     "output_type": "execute_result"
    }
   ],
   "source": [
    "monetary_df.dtypes"
   ]
  },
  {
   "cell_type": "code",
   "execution_count": 27,
   "id": "b836294c",
   "metadata": {},
   "outputs": [
    {
     "data": {
      "text/html": [
       "<div>\n",
       "<style scoped>\n",
       "    .dataframe tbody tr th:only-of-type {\n",
       "        vertical-align: middle;\n",
       "    }\n",
       "\n",
       "    .dataframe tbody tr th {\n",
       "        vertical-align: top;\n",
       "    }\n",
       "\n",
       "    .dataframe thead th {\n",
       "        text-align: right;\n",
       "    }\n",
       "</style>\n",
       "<table border=\"1\" class=\"dataframe\">\n",
       "  <thead>\n",
       "    <tr style=\"text-align: right;\">\n",
       "      <th></th>\n",
       "      <th>client_id</th>\n",
       "      <th>Recency</th>\n",
       "      <th>I_Recency</th>\n",
       "      <th>Frequency</th>\n",
       "      <th>Monetary</th>\n",
       "    </tr>\n",
       "  </thead>\n",
       "  <tbody>\n",
       "    <tr>\n",
       "      <th>0</th>\n",
       "      <td>6</td>\n",
       "      <td>40</td>\n",
       "      <td>0.024390</td>\n",
       "      <td>13</td>\n",
       "      <td>3222</td>\n",
       "    </tr>\n",
       "    <tr>\n",
       "      <th>1</th>\n",
       "      <td>7</td>\n",
       "      <td>272</td>\n",
       "      <td>0.003663</td>\n",
       "      <td>2</td>\n",
       "      <td>1190</td>\n",
       "    </tr>\n",
       "    <tr>\n",
       "      <th>2</th>\n",
       "      <td>14</td>\n",
       "      <td>2</td>\n",
       "      <td>0.333333</td>\n",
       "      <td>505</td>\n",
       "      <td>1297435</td>\n",
       "    </tr>\n",
       "    <tr>\n",
       "      <th>3</th>\n",
       "      <td>18</td>\n",
       "      <td>10</td>\n",
       "      <td>0.090909</td>\n",
       "      <td>283</td>\n",
       "      <td>110620</td>\n",
       "    </tr>\n",
       "    <tr>\n",
       "      <th>4</th>\n",
       "      <td>25</td>\n",
       "      <td>347</td>\n",
       "      <td>0.002874</td>\n",
       "      <td>1</td>\n",
       "      <td>374</td>\n",
       "    </tr>\n",
       "  </tbody>\n",
       "</table>\n",
       "</div>"
      ],
      "text/plain": [
       "   client_id  Recency  I_Recency  Frequency  Monetary\n",
       "0          6       40   0.024390         13      3222\n",
       "1          7      272   0.003663          2      1190\n",
       "2         14        2   0.333333        505   1297435\n",
       "3         18       10   0.090909        283    110620\n",
       "4         25      347   0.002874          1       374"
      ]
     },
     "execution_count": 27,
     "metadata": {},
     "output_type": "execute_result"
    }
   ],
   "source": [
    "#Merging all three columns in one dataframe\n",
    "rf_df = df_recency.merge(frequency_df, on='client_id')\n",
    "rfm_df = rf_df.merge(monetary_df, on='client_id').drop(\n",
    "    columns=['LastPurchaseDate'])\n",
    "rfm_df.head()"
   ]
  },
  {
   "cell_type": "code",
   "execution_count": 28,
   "id": "643dfa9d",
   "metadata": {},
   "outputs": [],
   "source": [
    "rfm_table = rfm_df.copy()"
   ]
  },
  {
   "cell_type": "code",
   "execution_count": 29,
   "id": "3f7131f3",
   "metadata": {},
   "outputs": [],
   "source": [
    "# Calculating Lifespan value\n",
    "df_lifespam_max = filtered_df.groupby(by='client_id',\n",
    "                        as_index=False)['date_order'].max()\n",
    "df_lifespam_max.columns = ['client_id', 'LastPurchaseDate']"
   ]
  },
  {
   "cell_type": "code",
   "execution_count": 30,
   "id": "90452c15",
   "metadata": {
    "scrolled": true
   },
   "outputs": [
    {
     "data": {
      "text/html": [
       "<div>\n",
       "<style scoped>\n",
       "    .dataframe tbody tr th:only-of-type {\n",
       "        vertical-align: middle;\n",
       "    }\n",
       "\n",
       "    .dataframe tbody tr th {\n",
       "        vertical-align: top;\n",
       "    }\n",
       "\n",
       "    .dataframe thead th {\n",
       "        text-align: right;\n",
       "    }\n",
       "</style>\n",
       "<table border=\"1\" class=\"dataframe\">\n",
       "  <thead>\n",
       "    <tr style=\"text-align: right;\">\n",
       "      <th></th>\n",
       "      <th>client_id</th>\n",
       "      <th>LastPurchaseDate</th>\n",
       "    </tr>\n",
       "  </thead>\n",
       "  <tbody>\n",
       "    <tr>\n",
       "      <th>0</th>\n",
       "      <td>6</td>\n",
       "      <td>2019-08-13</td>\n",
       "    </tr>\n",
       "    <tr>\n",
       "      <th>1</th>\n",
       "      <td>7</td>\n",
       "      <td>2018-12-24</td>\n",
       "    </tr>\n",
       "    <tr>\n",
       "      <th>2</th>\n",
       "      <td>14</td>\n",
       "      <td>2019-09-20</td>\n",
       "    </tr>\n",
       "    <tr>\n",
       "      <th>3</th>\n",
       "      <td>18</td>\n",
       "      <td>2019-09-12</td>\n",
       "    </tr>\n",
       "    <tr>\n",
       "      <th>4</th>\n",
       "      <td>25</td>\n",
       "      <td>2018-10-10</td>\n",
       "    </tr>\n",
       "  </tbody>\n",
       "</table>\n",
       "</div>"
      ],
      "text/plain": [
       "   client_id LastPurchaseDate\n",
       "0          6       2019-08-13\n",
       "1          7       2018-12-24\n",
       "2         14       2019-09-20\n",
       "3         18       2019-09-12\n",
       "4         25       2018-10-10"
      ]
     },
     "execution_count": 30,
     "metadata": {},
     "output_type": "execute_result"
    }
   ],
   "source": [
    "df_lifespam_max.head()"
   ]
  },
  {
   "cell_type": "code",
   "execution_count": 31,
   "id": "79978530",
   "metadata": {},
   "outputs": [
    {
     "data": {
      "text/plain": [
       "(168416, 2)"
      ]
     },
     "execution_count": 31,
     "metadata": {},
     "output_type": "execute_result"
    }
   ],
   "source": [
    "df_lifespam_max.shape"
   ]
  },
  {
   "cell_type": "code",
   "execution_count": 32,
   "id": "a2e7a3f3",
   "metadata": {},
   "outputs": [
    {
     "data": {
      "text/html": [
       "<div>\n",
       "<style scoped>\n",
       "    .dataframe tbody tr th:only-of-type {\n",
       "        vertical-align: middle;\n",
       "    }\n",
       "\n",
       "    .dataframe tbody tr th {\n",
       "        vertical-align: top;\n",
       "    }\n",
       "\n",
       "    .dataframe thead th {\n",
       "        text-align: right;\n",
       "    }\n",
       "</style>\n",
       "<table border=\"1\" class=\"dataframe\">\n",
       "  <thead>\n",
       "    <tr style=\"text-align: right;\">\n",
       "      <th></th>\n",
       "      <th>client_id</th>\n",
       "      <th>FirstPurchaseDate</th>\n",
       "    </tr>\n",
       "  </thead>\n",
       "  <tbody>\n",
       "    <tr>\n",
       "      <th>0</th>\n",
       "      <td>6</td>\n",
       "      <td>2017-10-27</td>\n",
       "    </tr>\n",
       "    <tr>\n",
       "      <th>1</th>\n",
       "      <td>7</td>\n",
       "      <td>2018-07-16</td>\n",
       "    </tr>\n",
       "    <tr>\n",
       "      <th>2</th>\n",
       "      <td>14</td>\n",
       "      <td>2017-09-25</td>\n",
       "    </tr>\n",
       "    <tr>\n",
       "      <th>3</th>\n",
       "      <td>18</td>\n",
       "      <td>2017-09-26</td>\n",
       "    </tr>\n",
       "    <tr>\n",
       "      <th>4</th>\n",
       "      <td>25</td>\n",
       "      <td>2018-10-10</td>\n",
       "    </tr>\n",
       "  </tbody>\n",
       "</table>\n",
       "</div>"
      ],
      "text/plain": [
       "   client_id FirstPurchaseDate\n",
       "0          6        2017-10-27\n",
       "1          7        2018-07-16\n",
       "2         14        2017-09-25\n",
       "3         18        2017-09-26\n",
       "4         25        2018-10-10"
      ]
     },
     "execution_count": 32,
     "metadata": {},
     "output_type": "execute_result"
    }
   ],
   "source": [
    "df_lifespam_min = filtered_df.groupby(by='client_id',\n",
    "                        as_index=False)['date_order'].min()\n",
    "df_lifespam_min.columns = ['client_id', 'FirstPurchaseDate']\n",
    "df_lifespam_min.head()"
   ]
  },
  {
   "cell_type": "code",
   "execution_count": 33,
   "id": "d73858ef",
   "metadata": {},
   "outputs": [
    {
     "data": {
      "text/plain": [
       "(168416, 2)"
      ]
     },
     "execution_count": 33,
     "metadata": {},
     "output_type": "execute_result"
    }
   ],
   "source": [
    "df_lifespam_min.shape"
   ]
  },
  {
   "cell_type": "code",
   "execution_count": 34,
   "id": "9ae9a7ee",
   "metadata": {
    "scrolled": true
   },
   "outputs": [
    {
     "data": {
      "text/html": [
       "<div>\n",
       "<style scoped>\n",
       "    .dataframe tbody tr th:only-of-type {\n",
       "        vertical-align: middle;\n",
       "    }\n",
       "\n",
       "    .dataframe tbody tr th {\n",
       "        vertical-align: top;\n",
       "    }\n",
       "\n",
       "    .dataframe thead th {\n",
       "        text-align: right;\n",
       "    }\n",
       "</style>\n",
       "<table border=\"1\" class=\"dataframe\">\n",
       "  <thead>\n",
       "    <tr style=\"text-align: right;\">\n",
       "      <th></th>\n",
       "      <th>client_id</th>\n",
       "      <th>LastPurchaseDate</th>\n",
       "      <th>FirstPurchaseDate</th>\n",
       "    </tr>\n",
       "  </thead>\n",
       "  <tbody>\n",
       "    <tr>\n",
       "      <th>0</th>\n",
       "      <td>6</td>\n",
       "      <td>2019-08-13</td>\n",
       "      <td>2017-10-27</td>\n",
       "    </tr>\n",
       "    <tr>\n",
       "      <th>1</th>\n",
       "      <td>7</td>\n",
       "      <td>2018-12-24</td>\n",
       "      <td>2018-07-16</td>\n",
       "    </tr>\n",
       "    <tr>\n",
       "      <th>2</th>\n",
       "      <td>14</td>\n",
       "      <td>2019-09-20</td>\n",
       "      <td>2017-09-25</td>\n",
       "    </tr>\n",
       "    <tr>\n",
       "      <th>3</th>\n",
       "      <td>18</td>\n",
       "      <td>2019-09-12</td>\n",
       "      <td>2017-09-26</td>\n",
       "    </tr>\n",
       "    <tr>\n",
       "      <th>4</th>\n",
       "      <td>25</td>\n",
       "      <td>2018-10-10</td>\n",
       "      <td>2018-10-10</td>\n",
       "    </tr>\n",
       "  </tbody>\n",
       "</table>\n",
       "</div>"
      ],
      "text/plain": [
       "   client_id LastPurchaseDate FirstPurchaseDate\n",
       "0          6       2019-08-13        2017-10-27\n",
       "1          7       2018-12-24        2018-07-16\n",
       "2         14       2019-09-20        2017-09-25\n",
       "3         18       2019-09-12        2017-09-26\n",
       "4         25       2018-10-10        2018-10-10"
      ]
     },
     "execution_count": 34,
     "metadata": {},
     "output_type": "execute_result"
    }
   ],
   "source": [
    "df_lifespam = df_lifespam_max.merge(df_lifespam_min, on='client_id')\n",
    "df_lifespam.head()"
   ]
  },
  {
   "cell_type": "code",
   "execution_count": 35,
   "id": "4416fb60",
   "metadata": {
    "scrolled": true
   },
   "outputs": [
    {
     "data": {
      "text/plain": [
       "client_id                     int64\n",
       "LastPurchaseDate     datetime64[ns]\n",
       "FirstPurchaseDate    datetime64[ns]\n",
       "dtype: object"
      ]
     },
     "execution_count": 35,
     "metadata": {},
     "output_type": "execute_result"
    }
   ],
   "source": [
    "df_lifespam.dtypes"
   ]
  },
  {
   "cell_type": "code",
   "execution_count": 36,
   "id": "13b0174f",
   "metadata": {},
   "outputs": [
    {
     "data": {
      "text/plain": [
       "(168416, 3)"
      ]
     },
     "execution_count": 36,
     "metadata": {},
     "output_type": "execute_result"
    }
   ],
   "source": [
    "df_lifespam.shape"
   ]
  },
  {
   "cell_type": "code",
   "execution_count": 37,
   "id": "64e424a0",
   "metadata": {},
   "outputs": [],
   "source": [
    "df_lifespam['lifespam'] = (df_lifespam['LastPurchaseDate'] - df_lifespam['FirstPurchaseDate'])"
   ]
  },
  {
   "cell_type": "code",
   "execution_count": 38,
   "id": "f80d0259",
   "metadata": {
    "scrolled": true
   },
   "outputs": [
    {
     "data": {
      "text/html": [
       "<div>\n",
       "<style scoped>\n",
       "    .dataframe tbody tr th:only-of-type {\n",
       "        vertical-align: middle;\n",
       "    }\n",
       "\n",
       "    .dataframe tbody tr th {\n",
       "        vertical-align: top;\n",
       "    }\n",
       "\n",
       "    .dataframe thead th {\n",
       "        text-align: right;\n",
       "    }\n",
       "</style>\n",
       "<table border=\"1\" class=\"dataframe\">\n",
       "  <thead>\n",
       "    <tr style=\"text-align: right;\">\n",
       "      <th></th>\n",
       "      <th>client_id</th>\n",
       "      <th>LastPurchaseDate</th>\n",
       "      <th>FirstPurchaseDate</th>\n",
       "      <th>lifespam</th>\n",
       "    </tr>\n",
       "  </thead>\n",
       "  <tbody>\n",
       "    <tr>\n",
       "      <th>0</th>\n",
       "      <td>6</td>\n",
       "      <td>2019-08-13</td>\n",
       "      <td>2017-10-27</td>\n",
       "      <td>655 days</td>\n",
       "    </tr>\n",
       "    <tr>\n",
       "      <th>1</th>\n",
       "      <td>7</td>\n",
       "      <td>2018-12-24</td>\n",
       "      <td>2018-07-16</td>\n",
       "      <td>161 days</td>\n",
       "    </tr>\n",
       "    <tr>\n",
       "      <th>2</th>\n",
       "      <td>14</td>\n",
       "      <td>2019-09-20</td>\n",
       "      <td>2017-09-25</td>\n",
       "      <td>725 days</td>\n",
       "    </tr>\n",
       "    <tr>\n",
       "      <th>3</th>\n",
       "      <td>18</td>\n",
       "      <td>2019-09-12</td>\n",
       "      <td>2017-09-26</td>\n",
       "      <td>716 days</td>\n",
       "    </tr>\n",
       "    <tr>\n",
       "      <th>4</th>\n",
       "      <td>25</td>\n",
       "      <td>2018-10-10</td>\n",
       "      <td>2018-10-10</td>\n",
       "      <td>0 days</td>\n",
       "    </tr>\n",
       "  </tbody>\n",
       "</table>\n",
       "</div>"
      ],
      "text/plain": [
       "   client_id LastPurchaseDate FirstPurchaseDate lifespam\n",
       "0          6       2019-08-13        2017-10-27 655 days\n",
       "1          7       2018-12-24        2018-07-16 161 days\n",
       "2         14       2019-09-20        2017-09-25 725 days\n",
       "3         18       2019-09-12        2017-09-26 716 days\n",
       "4         25       2018-10-10        2018-10-10   0 days"
      ]
     },
     "execution_count": 38,
     "metadata": {},
     "output_type": "execute_result"
    }
   ],
   "source": [
    "df_lifespam.head()"
   ]
  },
  {
   "cell_type": "code",
   "execution_count": 39,
   "id": "eee934c5",
   "metadata": {},
   "outputs": [],
   "source": [
    "df_lifespam['lifespam'] = df_lifespam['lifespam'].astype(str)"
   ]
  },
  {
   "cell_type": "code",
   "execution_count": 40,
   "id": "ccb40b69",
   "metadata": {
    "scrolled": true
   },
   "outputs": [
    {
     "data": {
      "text/html": [
       "<div>\n",
       "<style scoped>\n",
       "    .dataframe tbody tr th:only-of-type {\n",
       "        vertical-align: middle;\n",
       "    }\n",
       "\n",
       "    .dataframe tbody tr th {\n",
       "        vertical-align: top;\n",
       "    }\n",
       "\n",
       "    .dataframe thead th {\n",
       "        text-align: right;\n",
       "    }\n",
       "</style>\n",
       "<table border=\"1\" class=\"dataframe\">\n",
       "  <thead>\n",
       "    <tr style=\"text-align: right;\">\n",
       "      <th></th>\n",
       "      <th>client_id</th>\n",
       "      <th>LastPurchaseDate</th>\n",
       "      <th>FirstPurchaseDate</th>\n",
       "      <th>lifespam</th>\n",
       "    </tr>\n",
       "  </thead>\n",
       "  <tbody>\n",
       "    <tr>\n",
       "      <th>0</th>\n",
       "      <td>6</td>\n",
       "      <td>2019-08-13</td>\n",
       "      <td>2017-10-27</td>\n",
       "      <td>655 days</td>\n",
       "    </tr>\n",
       "    <tr>\n",
       "      <th>1</th>\n",
       "      <td>7</td>\n",
       "      <td>2018-12-24</td>\n",
       "      <td>2018-07-16</td>\n",
       "      <td>161 days</td>\n",
       "    </tr>\n",
       "    <tr>\n",
       "      <th>2</th>\n",
       "      <td>14</td>\n",
       "      <td>2019-09-20</td>\n",
       "      <td>2017-09-25</td>\n",
       "      <td>725 days</td>\n",
       "    </tr>\n",
       "    <tr>\n",
       "      <th>3</th>\n",
       "      <td>18</td>\n",
       "      <td>2019-09-12</td>\n",
       "      <td>2017-09-26</td>\n",
       "      <td>716 days</td>\n",
       "    </tr>\n",
       "    <tr>\n",
       "      <th>4</th>\n",
       "      <td>25</td>\n",
       "      <td>2018-10-10</td>\n",
       "      <td>2018-10-10</td>\n",
       "      <td>0 days</td>\n",
       "    </tr>\n",
       "  </tbody>\n",
       "</table>\n",
       "</div>"
      ],
      "text/plain": [
       "   client_id LastPurchaseDate FirstPurchaseDate  lifespam\n",
       "0          6       2019-08-13        2017-10-27  655 days\n",
       "1          7       2018-12-24        2018-07-16  161 days\n",
       "2         14       2019-09-20        2017-09-25  725 days\n",
       "3         18       2019-09-12        2017-09-26  716 days\n",
       "4         25       2018-10-10        2018-10-10    0 days"
      ]
     },
     "execution_count": 40,
     "metadata": {},
     "output_type": "execute_result"
    }
   ],
   "source": [
    "df_lifespam.head()"
   ]
  },
  {
   "cell_type": "code",
   "execution_count": 41,
   "id": "adbcc624",
   "metadata": {},
   "outputs": [],
   "source": [
    "df_lifespam['lifespam'] = df_lifespam[\"lifespam\"].str.split(\" days\").str[0].astype(int)"
   ]
  },
  {
   "cell_type": "code",
   "execution_count": 42,
   "id": "2b760d02",
   "metadata": {
    "scrolled": true
   },
   "outputs": [
    {
     "data": {
      "text/html": [
       "<div>\n",
       "<style scoped>\n",
       "    .dataframe tbody tr th:only-of-type {\n",
       "        vertical-align: middle;\n",
       "    }\n",
       "\n",
       "    .dataframe tbody tr th {\n",
       "        vertical-align: top;\n",
       "    }\n",
       "\n",
       "    .dataframe thead th {\n",
       "        text-align: right;\n",
       "    }\n",
       "</style>\n",
       "<table border=\"1\" class=\"dataframe\">\n",
       "  <thead>\n",
       "    <tr style=\"text-align: right;\">\n",
       "      <th></th>\n",
       "      <th>client_id</th>\n",
       "      <th>LastPurchaseDate</th>\n",
       "      <th>FirstPurchaseDate</th>\n",
       "      <th>lifespam</th>\n",
       "    </tr>\n",
       "  </thead>\n",
       "  <tbody>\n",
       "    <tr>\n",
       "      <th>0</th>\n",
       "      <td>6</td>\n",
       "      <td>2019-08-13</td>\n",
       "      <td>2017-10-27</td>\n",
       "      <td>655</td>\n",
       "    </tr>\n",
       "    <tr>\n",
       "      <th>1</th>\n",
       "      <td>7</td>\n",
       "      <td>2018-12-24</td>\n",
       "      <td>2018-07-16</td>\n",
       "      <td>161</td>\n",
       "    </tr>\n",
       "    <tr>\n",
       "      <th>2</th>\n",
       "      <td>14</td>\n",
       "      <td>2019-09-20</td>\n",
       "      <td>2017-09-25</td>\n",
       "      <td>725</td>\n",
       "    </tr>\n",
       "    <tr>\n",
       "      <th>3</th>\n",
       "      <td>18</td>\n",
       "      <td>2019-09-12</td>\n",
       "      <td>2017-09-26</td>\n",
       "      <td>716</td>\n",
       "    </tr>\n",
       "    <tr>\n",
       "      <th>4</th>\n",
       "      <td>25</td>\n",
       "      <td>2018-10-10</td>\n",
       "      <td>2018-10-10</td>\n",
       "      <td>0</td>\n",
       "    </tr>\n",
       "  </tbody>\n",
       "</table>\n",
       "</div>"
      ],
      "text/plain": [
       "   client_id LastPurchaseDate FirstPurchaseDate  lifespam\n",
       "0          6       2019-08-13        2017-10-27       655\n",
       "1          7       2018-12-24        2018-07-16       161\n",
       "2         14       2019-09-20        2017-09-25       725\n",
       "3         18       2019-09-12        2017-09-26       716\n",
       "4         25       2018-10-10        2018-10-10         0"
      ]
     },
     "execution_count": 42,
     "metadata": {},
     "output_type": "execute_result"
    }
   ],
   "source": [
    "df_lifespam.head()"
   ]
  },
  {
   "cell_type": "code",
   "execution_count": 43,
   "id": "f0acc100",
   "metadata": {
    "scrolled": true
   },
   "outputs": [
    {
     "data": {
      "text/plain": [
       "client_id                     int64\n",
       "LastPurchaseDate     datetime64[ns]\n",
       "FirstPurchaseDate    datetime64[ns]\n",
       "lifespam                      int32\n",
       "dtype: object"
      ]
     },
     "execution_count": 43,
     "metadata": {},
     "output_type": "execute_result"
    }
   ],
   "source": [
    "df_lifespam.dtypes"
   ]
  },
  {
   "cell_type": "code",
   "execution_count": 44,
   "id": "4462392e",
   "metadata": {},
   "outputs": [],
   "source": [
    "df_lifespam['lifespam'] = df_lifespam['lifespam'].astype('int64')"
   ]
  },
  {
   "cell_type": "code",
   "execution_count": 45,
   "id": "283246e0",
   "metadata": {},
   "outputs": [
    {
     "data": {
      "text/plain": [
       "client_id                     int64\n",
       "LastPurchaseDate     datetime64[ns]\n",
       "FirstPurchaseDate    datetime64[ns]\n",
       "lifespam                      int64\n",
       "dtype: object"
      ]
     },
     "execution_count": 45,
     "metadata": {},
     "output_type": "execute_result"
    }
   ],
   "source": [
    "df_lifespam.dtypes"
   ]
  },
  {
   "cell_type": "code",
   "execution_count": 46,
   "id": "29f3f69e",
   "metadata": {
    "scrolled": true
   },
   "outputs": [
    {
     "data": {
      "text/html": [
       "<div>\n",
       "<style scoped>\n",
       "    .dataframe tbody tr th:only-of-type {\n",
       "        vertical-align: middle;\n",
       "    }\n",
       "\n",
       "    .dataframe tbody tr th {\n",
       "        vertical-align: top;\n",
       "    }\n",
       "\n",
       "    .dataframe thead th {\n",
       "        text-align: right;\n",
       "    }\n",
       "</style>\n",
       "<table border=\"1\" class=\"dataframe\">\n",
       "  <thead>\n",
       "    <tr style=\"text-align: right;\">\n",
       "      <th></th>\n",
       "      <th>client_id</th>\n",
       "      <th>Recency</th>\n",
       "      <th>I_Recency</th>\n",
       "      <th>Frequency</th>\n",
       "      <th>Monetary</th>\n",
       "      <th>LastPurchaseDate</th>\n",
       "      <th>FirstPurchaseDate</th>\n",
       "      <th>lifespam</th>\n",
       "    </tr>\n",
       "  </thead>\n",
       "  <tbody>\n",
       "    <tr>\n",
       "      <th>0</th>\n",
       "      <td>6</td>\n",
       "      <td>40</td>\n",
       "      <td>0.024390</td>\n",
       "      <td>13</td>\n",
       "      <td>3222</td>\n",
       "      <td>2019-08-13</td>\n",
       "      <td>2017-10-27</td>\n",
       "      <td>655</td>\n",
       "    </tr>\n",
       "    <tr>\n",
       "      <th>1</th>\n",
       "      <td>7</td>\n",
       "      <td>272</td>\n",
       "      <td>0.003663</td>\n",
       "      <td>2</td>\n",
       "      <td>1190</td>\n",
       "      <td>2018-12-24</td>\n",
       "      <td>2018-07-16</td>\n",
       "      <td>161</td>\n",
       "    </tr>\n",
       "    <tr>\n",
       "      <th>2</th>\n",
       "      <td>14</td>\n",
       "      <td>2</td>\n",
       "      <td>0.333333</td>\n",
       "      <td>505</td>\n",
       "      <td>1297435</td>\n",
       "      <td>2019-09-20</td>\n",
       "      <td>2017-09-25</td>\n",
       "      <td>725</td>\n",
       "    </tr>\n",
       "    <tr>\n",
       "      <th>3</th>\n",
       "      <td>18</td>\n",
       "      <td>10</td>\n",
       "      <td>0.090909</td>\n",
       "      <td>283</td>\n",
       "      <td>110620</td>\n",
       "      <td>2019-09-12</td>\n",
       "      <td>2017-09-26</td>\n",
       "      <td>716</td>\n",
       "    </tr>\n",
       "    <tr>\n",
       "      <th>4</th>\n",
       "      <td>25</td>\n",
       "      <td>347</td>\n",
       "      <td>0.002874</td>\n",
       "      <td>1</td>\n",
       "      <td>374</td>\n",
       "      <td>2018-10-10</td>\n",
       "      <td>2018-10-10</td>\n",
       "      <td>0</td>\n",
       "    </tr>\n",
       "  </tbody>\n",
       "</table>\n",
       "</div>"
      ],
      "text/plain": [
       "   client_id  Recency  I_Recency  Frequency  Monetary LastPurchaseDate  \\\n",
       "0          6       40   0.024390         13      3222       2019-08-13   \n",
       "1          7      272   0.003663          2      1190       2018-12-24   \n",
       "2         14        2   0.333333        505   1297435       2019-09-20   \n",
       "3         18       10   0.090909        283    110620       2019-09-12   \n",
       "4         25      347   0.002874          1       374       2018-10-10   \n",
       "\n",
       "  FirstPurchaseDate  lifespam  \n",
       "0        2017-10-27       655  \n",
       "1        2018-07-16       161  \n",
       "2        2017-09-25       725  \n",
       "3        2017-09-26       716  \n",
       "4        2018-10-10         0  "
      ]
     },
     "execution_count": 46,
     "metadata": {},
     "output_type": "execute_result"
    }
   ],
   "source": [
    "#Merging all three columns in one dataframe\n",
    "rfm_lifespam = rfm_df.merge(df_lifespam, on='client_id')\n",
    "rfm_lifespam.head()"
   ]
  },
  {
   "cell_type": "code",
   "execution_count": 47,
   "id": "c1f4c32e",
   "metadata": {},
   "outputs": [
    {
     "data": {
      "text/plain": [
       "(168416, 8)"
      ]
     },
     "execution_count": 47,
     "metadata": {},
     "output_type": "execute_result"
    }
   ],
   "source": [
    "rfm_lifespam.shape"
   ]
  },
  {
   "cell_type": "code",
   "execution_count": 48,
   "id": "f4e8c0db",
   "metadata": {
    "scrolled": true
   },
   "outputs": [
    {
     "data": {
      "text/html": [
       "<div>\n",
       "<style scoped>\n",
       "    .dataframe tbody tr th:only-of-type {\n",
       "        vertical-align: middle;\n",
       "    }\n",
       "\n",
       "    .dataframe tbody tr th {\n",
       "        vertical-align: top;\n",
       "    }\n",
       "\n",
       "    .dataframe thead th {\n",
       "        text-align: right;\n",
       "    }\n",
       "</style>\n",
       "<table border=\"1\" class=\"dataframe\">\n",
       "  <thead>\n",
       "    <tr style=\"text-align: right;\">\n",
       "      <th></th>\n",
       "      <th>client_id</th>\n",
       "      <th>Recency</th>\n",
       "      <th>I_Recency</th>\n",
       "      <th>Frequency</th>\n",
       "      <th>Monetary</th>\n",
       "      <th>lifespam</th>\n",
       "    </tr>\n",
       "  </thead>\n",
       "  <tbody>\n",
       "    <tr>\n",
       "      <th>0</th>\n",
       "      <td>6</td>\n",
       "      <td>40</td>\n",
       "      <td>0.024390</td>\n",
       "      <td>13</td>\n",
       "      <td>3222</td>\n",
       "      <td>655</td>\n",
       "    </tr>\n",
       "    <tr>\n",
       "      <th>1</th>\n",
       "      <td>7</td>\n",
       "      <td>272</td>\n",
       "      <td>0.003663</td>\n",
       "      <td>2</td>\n",
       "      <td>1190</td>\n",
       "      <td>161</td>\n",
       "    </tr>\n",
       "    <tr>\n",
       "      <th>2</th>\n",
       "      <td>14</td>\n",
       "      <td>2</td>\n",
       "      <td>0.333333</td>\n",
       "      <td>505</td>\n",
       "      <td>1297435</td>\n",
       "      <td>725</td>\n",
       "    </tr>\n",
       "    <tr>\n",
       "      <th>3</th>\n",
       "      <td>18</td>\n",
       "      <td>10</td>\n",
       "      <td>0.090909</td>\n",
       "      <td>283</td>\n",
       "      <td>110620</td>\n",
       "      <td>716</td>\n",
       "    </tr>\n",
       "    <tr>\n",
       "      <th>4</th>\n",
       "      <td>25</td>\n",
       "      <td>347</td>\n",
       "      <td>0.002874</td>\n",
       "      <td>1</td>\n",
       "      <td>374</td>\n",
       "      <td>0</td>\n",
       "    </tr>\n",
       "  </tbody>\n",
       "</table>\n",
       "</div>"
      ],
      "text/plain": [
       "   client_id  Recency  I_Recency  Frequency  Monetary  lifespam\n",
       "0          6       40   0.024390         13      3222       655\n",
       "1          7      272   0.003663          2      1190       161\n",
       "2         14        2   0.333333        505   1297435       725\n",
       "3         18       10   0.090909        283    110620       716\n",
       "4         25      347   0.002874          1       374         0"
      ]
     },
     "execution_count": 48,
     "metadata": {},
     "output_type": "execute_result"
    }
   ],
   "source": [
    "rfm_lifespam = rfm_lifespam.drop(['LastPurchaseDate', 'FirstPurchaseDate'], axis=1)\n",
    "rfm_lifespam.head()"
   ]
  },
  {
   "cell_type": "code",
   "execution_count": 49,
   "id": "7fd04a94",
   "metadata": {
    "scrolled": true
   },
   "outputs": [
    {
     "data": {
      "text/plain": [
       "(168416, 6)"
      ]
     },
     "execution_count": 49,
     "metadata": {},
     "output_type": "execute_result"
    }
   ],
   "source": [
    "rfm_lifespam.shape"
   ]
  },
  {
   "cell_type": "code",
   "execution_count": 50,
   "id": "8f8a6330",
   "metadata": {},
   "outputs": [
    {
     "data": {
      "text/plain": [
       "client_id      int64\n",
       "Recency        int64\n",
       "I_Recency    float64\n",
       "Frequency      int64\n",
       "Monetary       int64\n",
       "lifespam       int64\n",
       "dtype: object"
      ]
     },
     "execution_count": 50,
     "metadata": {},
     "output_type": "execute_result"
    }
   ],
   "source": [
    "rfm_lifespam.dtypes"
   ]
  },
  {
   "cell_type": "code",
   "execution_count": 51,
   "id": "5ab86b93",
   "metadata": {},
   "outputs": [
    {
     "data": {
      "text/html": [
       "<div>\n",
       "<style scoped>\n",
       "    .dataframe tbody tr th:only-of-type {\n",
       "        vertical-align: middle;\n",
       "    }\n",
       "\n",
       "    .dataframe tbody tr th {\n",
       "        vertical-align: top;\n",
       "    }\n",
       "\n",
       "    .dataframe thead th {\n",
       "        text-align: right;\n",
       "    }\n",
       "</style>\n",
       "<table border=\"1\" class=\"dataframe\">\n",
       "  <thead>\n",
       "    <tr style=\"text-align: right;\">\n",
       "      <th></th>\n",
       "      <th>client_id</th>\n",
       "      <th>monetary_avg</th>\n",
       "    </tr>\n",
       "  </thead>\n",
       "  <tbody>\n",
       "    <tr>\n",
       "      <th>0</th>\n",
       "      <td>6</td>\n",
       "      <td>89.521686</td>\n",
       "    </tr>\n",
       "    <tr>\n",
       "      <th>1</th>\n",
       "      <td>7</td>\n",
       "      <td>79.385139</td>\n",
       "    </tr>\n",
       "    <tr>\n",
       "      <th>2</th>\n",
       "      <td>14</td>\n",
       "      <td>115.348083</td>\n",
       "    </tr>\n",
       "    <tr>\n",
       "      <th>3</th>\n",
       "      <td>18</td>\n",
       "      <td>52.130358</td>\n",
       "    </tr>\n",
       "    <tr>\n",
       "      <th>4</th>\n",
       "      <td>25</td>\n",
       "      <td>93.646524</td>\n",
       "    </tr>\n",
       "  </tbody>\n",
       "</table>\n",
       "</div>"
      ],
      "text/plain": [
       "   client_id  monetary_avg\n",
       "0          6     89.521686\n",
       "1          7     79.385139\n",
       "2         14    115.348083\n",
       "3         18     52.130358\n",
       "4         25     93.646524"
      ]
     },
     "execution_count": 51,
     "metadata": {},
     "output_type": "execute_result"
    }
   ],
   "source": [
    "#Calculating CLV\n",
    "clv_df = filtered_df.groupby(by='client_id', as_index=False)['sales_net'].mean()\n",
    "clv_df.columns = ['client_id', 'monetary_avg']\n",
    "clv_df.head()"
   ]
  },
  {
   "cell_type": "code",
   "execution_count": 52,
   "id": "3e7e1070",
   "metadata": {},
   "outputs": [
    {
     "data": {
      "text/plain": [
       "client_id       int64\n",
       "monetary_avg    int64\n",
       "dtype: object"
      ]
     },
     "execution_count": 52,
     "metadata": {},
     "output_type": "execute_result"
    }
   ],
   "source": [
    "clv_df['monetary_avg']=clv_df['monetary_avg'].astype('int64')\n",
    "clv_df.dtypes"
   ]
  },
  {
   "cell_type": "code",
   "execution_count": 53,
   "id": "8df0c2be",
   "metadata": {},
   "outputs": [
    {
     "data": {
      "text/plain": [
       "(168416, 2)"
      ]
     },
     "execution_count": 53,
     "metadata": {},
     "output_type": "execute_result"
    }
   ],
   "source": [
    "clv_df.shape"
   ]
  },
  {
   "cell_type": "code",
   "execution_count": 54,
   "id": "b1df8d57",
   "metadata": {},
   "outputs": [
    {
     "data": {
      "text/html": [
       "<div>\n",
       "<style scoped>\n",
       "    .dataframe tbody tr th:only-of-type {\n",
       "        vertical-align: middle;\n",
       "    }\n",
       "\n",
       "    .dataframe tbody tr th {\n",
       "        vertical-align: top;\n",
       "    }\n",
       "\n",
       "    .dataframe thead th {\n",
       "        text-align: right;\n",
       "    }\n",
       "</style>\n",
       "<table border=\"1\" class=\"dataframe\">\n",
       "  <thead>\n",
       "    <tr style=\"text-align: right;\">\n",
       "      <th></th>\n",
       "      <th>client_id</th>\n",
       "      <th>monetary_avg</th>\n",
       "      <th>Frequency</th>\n",
       "    </tr>\n",
       "  </thead>\n",
       "  <tbody>\n",
       "    <tr>\n",
       "      <th>0</th>\n",
       "      <td>6</td>\n",
       "      <td>89</td>\n",
       "      <td>13</td>\n",
       "    </tr>\n",
       "    <tr>\n",
       "      <th>1</th>\n",
       "      <td>7</td>\n",
       "      <td>79</td>\n",
       "      <td>2</td>\n",
       "    </tr>\n",
       "    <tr>\n",
       "      <th>2</th>\n",
       "      <td>14</td>\n",
       "      <td>115</td>\n",
       "      <td>505</td>\n",
       "    </tr>\n",
       "    <tr>\n",
       "      <th>3</th>\n",
       "      <td>18</td>\n",
       "      <td>52</td>\n",
       "      <td>283</td>\n",
       "    </tr>\n",
       "    <tr>\n",
       "      <th>4</th>\n",
       "      <td>25</td>\n",
       "      <td>93</td>\n",
       "      <td>1</td>\n",
       "    </tr>\n",
       "  </tbody>\n",
       "</table>\n",
       "</div>"
      ],
      "text/plain": [
       "   client_id  monetary_avg  Frequency\n",
       "0          6            89         13\n",
       "1          7            79          2\n",
       "2         14           115        505\n",
       "3         18            52        283\n",
       "4         25            93          1"
      ]
     },
     "execution_count": 54,
     "metadata": {},
     "output_type": "execute_result"
    }
   ],
   "source": [
    "#Merging all three columns in one dataframe\n",
    "clv = clv_df.merge(frequency_df, on='client_id')\n",
    "clv.head()"
   ]
  },
  {
   "cell_type": "code",
   "execution_count": 55,
   "id": "123476ff",
   "metadata": {},
   "outputs": [
    {
     "data": {
      "text/html": [
       "<div>\n",
       "<style scoped>\n",
       "    .dataframe tbody tr th:only-of-type {\n",
       "        vertical-align: middle;\n",
       "    }\n",
       "\n",
       "    .dataframe tbody tr th {\n",
       "        vertical-align: top;\n",
       "    }\n",
       "\n",
       "    .dataframe thead th {\n",
       "        text-align: right;\n",
       "    }\n",
       "</style>\n",
       "<table border=\"1\" class=\"dataframe\">\n",
       "  <thead>\n",
       "    <tr style=\"text-align: right;\">\n",
       "      <th></th>\n",
       "      <th>client_id</th>\n",
       "      <th>monetary_avg</th>\n",
       "      <th>Frequency</th>\n",
       "      <th>clv</th>\n",
       "    </tr>\n",
       "  </thead>\n",
       "  <tbody>\n",
       "    <tr>\n",
       "      <th>0</th>\n",
       "      <td>6</td>\n",
       "      <td>89</td>\n",
       "      <td>13</td>\n",
       "      <td>1157</td>\n",
       "    </tr>\n",
       "    <tr>\n",
       "      <th>1</th>\n",
       "      <td>7</td>\n",
       "      <td>79</td>\n",
       "      <td>2</td>\n",
       "      <td>158</td>\n",
       "    </tr>\n",
       "    <tr>\n",
       "      <th>2</th>\n",
       "      <td>14</td>\n",
       "      <td>115</td>\n",
       "      <td>505</td>\n",
       "      <td>58075</td>\n",
       "    </tr>\n",
       "    <tr>\n",
       "      <th>3</th>\n",
       "      <td>18</td>\n",
       "      <td>52</td>\n",
       "      <td>283</td>\n",
       "      <td>14716</td>\n",
       "    </tr>\n",
       "    <tr>\n",
       "      <th>4</th>\n",
       "      <td>25</td>\n",
       "      <td>93</td>\n",
       "      <td>1</td>\n",
       "      <td>93</td>\n",
       "    </tr>\n",
       "  </tbody>\n",
       "</table>\n",
       "</div>"
      ],
      "text/plain": [
       "   client_id  monetary_avg  Frequency    clv\n",
       "0          6            89         13   1157\n",
       "1          7            79          2    158\n",
       "2         14           115        505  58075\n",
       "3         18            52        283  14716\n",
       "4         25            93          1     93"
      ]
     },
     "execution_count": 55,
     "metadata": {},
     "output_type": "execute_result"
    }
   ],
   "source": [
    "clv['clv'] = clv['monetary_avg'] * clv['Frequency']\n",
    "clv.head()"
   ]
  },
  {
   "cell_type": "code",
   "execution_count": 56,
   "id": "8830c99d",
   "metadata": {},
   "outputs": [
    {
     "data": {
      "text/plain": [
       "(168416, 4)"
      ]
     },
     "execution_count": 56,
     "metadata": {},
     "output_type": "execute_result"
    }
   ],
   "source": [
    "clv.shape"
   ]
  },
  {
   "cell_type": "code",
   "execution_count": 57,
   "id": "53d72f0f",
   "metadata": {},
   "outputs": [],
   "source": [
    "del clv['Frequency']"
   ]
  },
  {
   "cell_type": "code",
   "execution_count": 58,
   "id": "c66fb613",
   "metadata": {},
   "outputs": [
    {
     "data": {
      "text/html": [
       "<div>\n",
       "<style scoped>\n",
       "    .dataframe tbody tr th:only-of-type {\n",
       "        vertical-align: middle;\n",
       "    }\n",
       "\n",
       "    .dataframe tbody tr th {\n",
       "        vertical-align: top;\n",
       "    }\n",
       "\n",
       "    .dataframe thead th {\n",
       "        text-align: right;\n",
       "    }\n",
       "</style>\n",
       "<table border=\"1\" class=\"dataframe\">\n",
       "  <thead>\n",
       "    <tr style=\"text-align: right;\">\n",
       "      <th></th>\n",
       "      <th>client_id</th>\n",
       "      <th>monetary_avg</th>\n",
       "      <th>clv</th>\n",
       "    </tr>\n",
       "  </thead>\n",
       "  <tbody>\n",
       "    <tr>\n",
       "      <th>0</th>\n",
       "      <td>6</td>\n",
       "      <td>89</td>\n",
       "      <td>1157</td>\n",
       "    </tr>\n",
       "    <tr>\n",
       "      <th>1</th>\n",
       "      <td>7</td>\n",
       "      <td>79</td>\n",
       "      <td>158</td>\n",
       "    </tr>\n",
       "    <tr>\n",
       "      <th>2</th>\n",
       "      <td>14</td>\n",
       "      <td>115</td>\n",
       "      <td>58075</td>\n",
       "    </tr>\n",
       "    <tr>\n",
       "      <th>3</th>\n",
       "      <td>18</td>\n",
       "      <td>52</td>\n",
       "      <td>14716</td>\n",
       "    </tr>\n",
       "    <tr>\n",
       "      <th>4</th>\n",
       "      <td>25</td>\n",
       "      <td>93</td>\n",
       "      <td>93</td>\n",
       "    </tr>\n",
       "  </tbody>\n",
       "</table>\n",
       "</div>"
      ],
      "text/plain": [
       "   client_id  monetary_avg    clv\n",
       "0          6            89   1157\n",
       "1          7            79    158\n",
       "2         14           115  58075\n",
       "3         18            52  14716\n",
       "4         25            93     93"
      ]
     },
     "execution_count": 58,
     "metadata": {},
     "output_type": "execute_result"
    }
   ],
   "source": [
    "clv.head()"
   ]
  },
  {
   "cell_type": "code",
   "execution_count": 59,
   "id": "8d6a82af",
   "metadata": {},
   "outputs": [
    {
     "data": {
      "text/html": [
       "<div>\n",
       "<style scoped>\n",
       "    .dataframe tbody tr th:only-of-type {\n",
       "        vertical-align: middle;\n",
       "    }\n",
       "\n",
       "    .dataframe tbody tr th {\n",
       "        vertical-align: top;\n",
       "    }\n",
       "\n",
       "    .dataframe thead th {\n",
       "        text-align: right;\n",
       "    }\n",
       "</style>\n",
       "<table border=\"1\" class=\"dataframe\">\n",
       "  <thead>\n",
       "    <tr style=\"text-align: right;\">\n",
       "      <th></th>\n",
       "      <th>client_id</th>\n",
       "      <th>Recency</th>\n",
       "      <th>I_Recency</th>\n",
       "      <th>Frequency</th>\n",
       "      <th>Monetary</th>\n",
       "      <th>lifespam</th>\n",
       "      <th>monetary_avg</th>\n",
       "      <th>clv</th>\n",
       "    </tr>\n",
       "  </thead>\n",
       "  <tbody>\n",
       "    <tr>\n",
       "      <th>0</th>\n",
       "      <td>6</td>\n",
       "      <td>40</td>\n",
       "      <td>0.024390</td>\n",
       "      <td>13</td>\n",
       "      <td>3222</td>\n",
       "      <td>655</td>\n",
       "      <td>89</td>\n",
       "      <td>1157</td>\n",
       "    </tr>\n",
       "    <tr>\n",
       "      <th>1</th>\n",
       "      <td>7</td>\n",
       "      <td>272</td>\n",
       "      <td>0.003663</td>\n",
       "      <td>2</td>\n",
       "      <td>1190</td>\n",
       "      <td>161</td>\n",
       "      <td>79</td>\n",
       "      <td>158</td>\n",
       "    </tr>\n",
       "    <tr>\n",
       "      <th>2</th>\n",
       "      <td>14</td>\n",
       "      <td>2</td>\n",
       "      <td>0.333333</td>\n",
       "      <td>505</td>\n",
       "      <td>1297435</td>\n",
       "      <td>725</td>\n",
       "      <td>115</td>\n",
       "      <td>58075</td>\n",
       "    </tr>\n",
       "    <tr>\n",
       "      <th>3</th>\n",
       "      <td>18</td>\n",
       "      <td>10</td>\n",
       "      <td>0.090909</td>\n",
       "      <td>283</td>\n",
       "      <td>110620</td>\n",
       "      <td>716</td>\n",
       "      <td>52</td>\n",
       "      <td>14716</td>\n",
       "    </tr>\n",
       "    <tr>\n",
       "      <th>4</th>\n",
       "      <td>25</td>\n",
       "      <td>347</td>\n",
       "      <td>0.002874</td>\n",
       "      <td>1</td>\n",
       "      <td>374</td>\n",
       "      <td>0</td>\n",
       "      <td>93</td>\n",
       "      <td>93</td>\n",
       "    </tr>\n",
       "  </tbody>\n",
       "</table>\n",
       "</div>"
      ],
      "text/plain": [
       "   client_id  Recency  I_Recency  Frequency  Monetary  lifespam  monetary_avg  \\\n",
       "0          6       40   0.024390         13      3222       655            89   \n",
       "1          7      272   0.003663          2      1190       161            79   \n",
       "2         14        2   0.333333        505   1297435       725           115   \n",
       "3         18       10   0.090909        283    110620       716            52   \n",
       "4         25      347   0.002874          1       374         0            93   \n",
       "\n",
       "     clv  \n",
       "0   1157  \n",
       "1    158  \n",
       "2  58075  \n",
       "3  14716  \n",
       "4     93  "
      ]
     },
     "execution_count": 59,
     "metadata": {},
     "output_type": "execute_result"
    }
   ],
   "source": [
    "rfm = rfm_lifespam.merge(clv, on='client_id')\n",
    "rfm.head()"
   ]
  },
  {
   "cell_type": "code",
   "execution_count": 60,
   "id": "a9f900cb",
   "metadata": {},
   "outputs": [],
   "source": [
    "del rfm['monetary_avg']"
   ]
  },
  {
   "cell_type": "code",
   "execution_count": 61,
   "id": "a689834f",
   "metadata": {
    "scrolled": true
   },
   "outputs": [
    {
     "data": {
      "image/png": "[encoded data removed]",
      "text/plain": [
       "<Figure size 432x288 with 2 Axes>"
      ]
     },
     "metadata": {},
     "output_type": "display_data"
    }
   ],
   "source": [
    "sns.heatmap(data=rfm[['client_id', 'Recency', 'I_Recency','Frequency','Monetary','lifespam','clv']].corr(),\n",
    "            annot=True, cmap='coolwarm');"
   ]
  },
  {
   "cell_type": "code",
   "execution_count": 62,
   "id": "c9fa4e26",
   "metadata": {},
   "outputs": [],
   "source": [
    "rfm1 = rfm.copy()"
   ]
  },
  {
   "cell_type": "code",
   "execution_count": 63,
   "id": "0f1bfd03",
   "metadata": {},
   "outputs": [],
   "source": [
    "# Dropping Frequency column as it is highly correlated with clv and recency and i_recency we know the correlation is 1 but will\n",
    "#keep them for the comparisons\n",
    "\n",
    "del rfm1['Frequency']"
   ]
  },
  {
   "cell_type": "code",
   "execution_count": 64,
   "id": "2bbad9f0",
   "metadata": {},
   "outputs": [
    {
     "data": {
      "image/png": "[encoded data removed]",
      "text/plain": [
       "<Figure size 432x288 with 2 Axes>"
      ]
     },
     "metadata": {},
     "output_type": "display_data"
    }
   ],
   "source": [
    "sns.heatmap(data=rfm[['client_id', 'Recency','Monetary','lifespam','clv']].corr(),\n",
    "            annot=True, cmap='coolwarm');"
   ]
  },
  {
   "cell_type": "code",
   "execution_count": 65,
   "id": "0ae88b63",
   "metadata": {},
   "outputs": [
    {
     "name": "stdout",
     "output_type": "stream",
     "text": [
      "client_id: 0\n",
      "Recency: 0\n",
      "Monetary: 16008\n",
      "lifespam: 0\n",
      "clv: 13014\n"
     ]
    }
   ],
   "source": [
    "# Checking for outliers\n",
    "\n",
    "cols_for_distrib = ['client_id', 'Recency','Monetary','lifespam','clv']\n",
    "\n",
    "def outlier_function(df, col_name):\n",
    "    ''' this function detects first and third quartile and interquartile range for a given column of a dataframe\n",
    "    then calculates upper and lower limits to determine outliers conservatively\n",
    "    returns the number of lower and uper limit and number of outliers respectively\n",
    "    '''\n",
    "    first_quartile = np.percentile(np.array(df[col_name].tolist()), 25)\n",
    "    third_quartile = np.percentile(np.array(df[col_name].tolist()), 75)\n",
    "    IQR = third_quartile - first_quartile\n",
    "                      \n",
    "    upper_limit = third_quartile+(3*IQR)\n",
    "    lower_limit = first_quartile-(3*IQR)\n",
    "    outlier_count = 0\n",
    "                      \n",
    "    for value in df[col_name].tolist():\n",
    "        if (value < lower_limit) | (value > upper_limit):\n",
    "            outlier_count +=1\n",
    "    return lower_limit, upper_limit, outlier_count\n",
    "\n",
    "for x in cols_for_distrib:\n",
    "    print(f\"{x}: {outlier_function(rfm1,x)[2]}\")"
   ]
  },
  {
   "cell_type": "markdown",
   "id": "5befc39e",
   "metadata": {},
   "source": [
    "# Outlier detection for the new features"
   ]
  },
  {
   "cell_type": "code",
   "execution_count": 66,
   "id": "b8b39096",
   "metadata": {
    "scrolled": true
   },
   "outputs": [
    {
     "data": {
      "text/plain": [
       "<AxesSubplot:ylabel='Monetary'>"
      ]
     },
     "execution_count": 66,
     "metadata": {},
     "output_type": "execute_result"
    },
    {
     "data": {
      "image/png": "[encoded data removed]",
      "text/plain": [
       "<Figure size 432x288 with 1 Axes>"
      ]
     },
     "metadata": {},
     "output_type": "display_data"
    }
   ],
   "source": [
    "sns.set(style=\"whitegrid\")\n",
    "sns.boxplot(y=rfm1['Monetary'])"
   ]
  },
  {
   "cell_type": "code",
   "execution_count": 67,
   "id": "a9536e7a",
   "metadata": {
    "scrolled": false
   },
   "outputs": [
    {
     "data": {
      "text/plain": [
       "<AxesSubplot:ylabel='clv'>"
      ]
     },
     "execution_count": 67,
     "metadata": {},
     "output_type": "execute_result"
    },
    {
     "data": {
      "image/png": "[encoded data removed]",
      "text/plain": [
       "<Figure size 432x288 with 1 Axes>"
      ]
     },
     "metadata": {},
     "output_type": "display_data"
    }
   ],
   "source": [
    "sns.set(style=\"whitegrid\")\n",
    "sns.boxplot(y=rfm1['clv'])"
   ]
  },
  {
   "cell_type": "code",
   "execution_count": 68,
   "id": "03c4c962",
   "metadata": {
    "scrolled": false
   },
   "outputs": [
    {
     "data": {
      "text/plain": [
       "<AxesSubplot:xlabel='lifespam', ylabel='clv'>"
      ]
     },
     "execution_count": 68,
     "metadata": {},
     "output_type": "execute_result"
    },
    {
     "data": {
      "image/png": "[encoded data removed]",
      "text/plain": [
       "<Figure size 432x288 with 1 Axes>"
      ]
     },
     "metadata": {},
     "output_type": "display_data"
    }
   ],
   "source": [
    "sns.scatterplot(x=rfm1['lifespam'], y=rfm1['clv'])"
   ]
  },
  {
   "cell_type": "code",
   "execution_count": 69,
   "id": "6e44cab8",
   "metadata": {
    "scrolled": false
   },
   "outputs": [
    {
     "data": {
      "text/plain": [
       "<AxesSubplot:xlabel='Monetary', ylabel='clv'>"
      ]
     },
     "execution_count": 69,
     "metadata": {},
     "output_type": "execute_result"
    },
    {
     "data": {
      "image/png": "[encoded data removed]",
      "text/plain": [
       "<Figure size 432x288 with 1 Axes>"
      ]
     },
     "metadata": {},
     "output_type": "display_data"
    }
   ],
   "source": [
    "sns.scatterplot(x=rfm1['Monetary'], y=rfm1['clv'])"
   ]
  },
  {
   "cell_type": "code",
   "execution_count": 70,
   "id": "b557c8bd",
   "metadata": {
    "scrolled": false
   },
   "outputs": [
    {
     "data": {
      "text/html": [
       "<div>\n",
       "<style scoped>\n",
       "    .dataframe tbody tr th:only-of-type {\n",
       "        vertical-align: middle;\n",
       "    }\n",
       "\n",
       "    .dataframe tbody tr th {\n",
       "        vertical-align: top;\n",
       "    }\n",
       "\n",
       "    .dataframe thead th {\n",
       "        text-align: right;\n",
       "    }\n",
       "</style>\n",
       "<table border=\"1\" class=\"dataframe\">\n",
       "  <thead>\n",
       "    <tr style=\"text-align: right;\">\n",
       "      <th></th>\n",
       "      <th>client_id</th>\n",
       "      <th>Recency</th>\n",
       "      <th>I_Recency</th>\n",
       "      <th>Monetary</th>\n",
       "      <th>lifespam</th>\n",
       "      <th>clv</th>\n",
       "    </tr>\n",
       "  </thead>\n",
       "  <tbody>\n",
       "    <tr>\n",
       "      <th>0</th>\n",
       "      <td>6</td>\n",
       "      <td>40</td>\n",
       "      <td>0.024390</td>\n",
       "      <td>3222</td>\n",
       "      <td>655</td>\n",
       "      <td>1157</td>\n",
       "    </tr>\n",
       "    <tr>\n",
       "      <th>1</th>\n",
       "      <td>7</td>\n",
       "      <td>272</td>\n",
       "      <td>0.003663</td>\n",
       "      <td>1190</td>\n",
       "      <td>161</td>\n",
       "      <td>158</td>\n",
       "    </tr>\n",
       "    <tr>\n",
       "      <th>4</th>\n",
       "      <td>25</td>\n",
       "      <td>347</td>\n",
       "      <td>0.002874</td>\n",
       "      <td>374</td>\n",
       "      <td>0</td>\n",
       "      <td>93</td>\n",
       "    </tr>\n",
       "    <tr>\n",
       "      <th>5</th>\n",
       "      <td>37</td>\n",
       "      <td>109</td>\n",
       "      <td>0.009091</td>\n",
       "      <td>2803</td>\n",
       "      <td>568</td>\n",
       "      <td>780</td>\n",
       "    </tr>\n",
       "    <tr>\n",
       "      <th>6</th>\n",
       "      <td>40</td>\n",
       "      <td>20</td>\n",
       "      <td>0.047619</td>\n",
       "      <td>14889</td>\n",
       "      <td>707</td>\n",
       "      <td>4418</td>\n",
       "    </tr>\n",
       "  </tbody>\n",
       "</table>\n",
       "</div>"
      ],
      "text/plain": [
       "   client_id  Recency  I_Recency  Monetary  lifespam   clv\n",
       "0          6       40   0.024390      3222       655  1157\n",
       "1          7      272   0.003663      1190       161   158\n",
       "4         25      347   0.002874       374         0    93\n",
       "5         37      109   0.009091      2803       568   780\n",
       "6         40       20   0.047619     14889       707  4418"
      ]
     },
     "execution_count": 70,
     "metadata": {},
     "output_type": "execute_result"
    }
   ],
   "source": [
    "rfm1 = rfm1[(rfm1['Monetary'] > outlier_function(rfm1,'Monetary')[0]) &\n",
    "              (rfm1['Monetary'] < outlier_function(rfm1,'Monetary')[1])]\n",
    "rfm1.head() #remove outliers of monetary "
   ]
  },
  {
   "cell_type": "code",
   "execution_count": 71,
   "id": "470c2c6d",
   "metadata": {
    "scrolled": true
   },
   "outputs": [
    {
     "data": {
      "text/plain": [
       "(152407, 6)"
      ]
     },
     "execution_count": 71,
     "metadata": {},
     "output_type": "execute_result"
    }
   ],
   "source": [
    "rfm1.shape"
   ]
  },
  {
   "cell_type": "code",
   "execution_count": 72,
   "id": "4cc6dbc0",
   "metadata": {},
   "outputs": [
    {
     "data": {
      "text/plain": [
       "<AxesSubplot:xlabel='Monetary', ylabel='clv'>"
      ]
     },
     "execution_count": 72,
     "metadata": {},
     "output_type": "execute_result"
    },
    {
     "data": {
      "image/png": "[encoded data removed]",
      "text/plain": [
       "<Figure size 432x288 with 1 Axes>"
      ]
     },
     "metadata": {},
     "output_type": "display_data"
    }
   ],
   "source": [
    "sns.scatterplot(x=rfm1['Monetary'], y=rfm1['clv'])"
   ]
  },
  {
   "cell_type": "markdown",
   "id": "e03cb030",
   "metadata": {},
   "source": [
    "# Defining Churn"
   ]
  },
  {
   "cell_type": "code",
   "execution_count": 73,
   "id": "2a446c69",
   "metadata": {},
   "outputs": [
    {
     "name": "stdout",
     "output_type": "stream",
     "text": [
      "1771.5527961314112 704.0 220.0 704.0 2209.0\n"
     ]
    }
   ],
   "source": [
    "#sample of quartile analysis we will use\n",
    "print(rfm1.clv.mean(),\n",
    "rfm1.clv.median(),\n",
    "rfm1.clv.quantile(0.25),\n",
    "rfm1.clv.quantile(0.5), \n",
    "rfm1.clv.quantile(0.75))"
   ]
  },
  {
   "cell_type": "code",
   "execution_count": 74,
   "id": "ba3a0417-09c3-4db5-8328-f757df25779f",
   "metadata": {},
   "outputs": [],
   "source": [
    "def score(x,p,d):\n",
    "    if x <= d[p][0.25]:\n",
    "        return 1\n",
    "    if x <= d[p][0.5] and x >d[p][0.25]:\n",
    "        return 2\n",
    "    if x <= d[p][0.75] and x >d[p][0.5]: \n",
    "        return 3\n",
    "    if x >d[p][0.75]:\n",
    "        return 4"
   ]
  },
  {
   "cell_type": "code",
   "execution_count": 75,
   "id": "5f8034bd-6304-4aa7-8d9e-a889d4950f8d",
   "metadata": {},
   "outputs": [
    {
     "data": {
      "text/html": [
       "<div>\n",
       "<style scoped>\n",
       "    .dataframe tbody tr th:only-of-type {\n",
       "        vertical-align: middle;\n",
       "    }\n",
       "\n",
       "    .dataframe tbody tr th {\n",
       "        vertical-align: top;\n",
       "    }\n",
       "\n",
       "    .dataframe thead th {\n",
       "        text-align: right;\n",
       "    }\n",
       "</style>\n",
       "<table border=\"1\" class=\"dataframe\">\n",
       "  <thead>\n",
       "    <tr style=\"text-align: right;\">\n",
       "      <th></th>\n",
       "      <th>client_id</th>\n",
       "      <th>Recency</th>\n",
       "      <th>I_Recency</th>\n",
       "      <th>Monetary</th>\n",
       "      <th>lifespam</th>\n",
       "      <th>clv</th>\n",
       "    </tr>\n",
       "  </thead>\n",
       "  <tbody>\n",
       "    <tr>\n",
       "      <th>0.25</th>\n",
       "      <td>569789.0</td>\n",
       "      <td>18.0</td>\n",
       "      <td>0.003623</td>\n",
       "      <td>660.0</td>\n",
       "      <td>112.0</td>\n",
       "      <td>220.0</td>\n",
       "    </tr>\n",
       "    <tr>\n",
       "      <th>0.50</th>\n",
       "      <td>1139006.0</td>\n",
       "      <td>65.0</td>\n",
       "      <td>0.015152</td>\n",
       "      <td>2649.0</td>\n",
       "      <td>458.0</td>\n",
       "      <td>704.0</td>\n",
       "    </tr>\n",
       "    <tr>\n",
       "      <th>0.75</th>\n",
       "      <td>1709773.5</td>\n",
       "      <td>275.0</td>\n",
       "      <td>0.052632</td>\n",
       "      <td>9537.0</td>\n",
       "      <td>668.0</td>\n",
       "      <td>2209.0</td>\n",
       "    </tr>\n",
       "  </tbody>\n",
       "</table>\n",
       "</div>"
      ],
      "text/plain": [
       "      client_id  Recency  I_Recency  Monetary  lifespam     clv\n",
       "0.25   569789.0     18.0   0.003623     660.0     112.0   220.0\n",
       "0.50  1139006.0     65.0   0.015152    2649.0     458.0   704.0\n",
       "0.75  1709773.5    275.0   0.052632    9537.0     668.0  2209.0"
      ]
     },
     "execution_count": 75,
     "metadata": {},
     "output_type": "execute_result"
    }
   ],
   "source": [
    "quantiles = rfm1.quantile(q=[0.25,0.50,0.75])\n",
    "quantiles"
   ]
  },
  {
   "cell_type": "code",
   "execution_count": 76,
   "id": "a01a89cc-36fb-46ac-a388-c2816d31852c",
   "metadata": {},
   "outputs": [],
   "source": [
    "quantiles = quantiles.to_dict()\n",
    "rfm1['clv_Tile'] = rfm1['clv'].apply(score, args=('clv',quantiles))"
   ]
  },
  {
   "cell_type": "code",
   "execution_count": 77,
   "id": "b4d8e9ee-aef6-43a4-869d-ab1ab9c94e67",
   "metadata": {},
   "outputs": [
    {
     "data": {
      "text/plain": [
       "2    38192\n",
       "1    38124\n",
       "4    38100\n",
       "3    37991\n",
       "Name: clv_Tile, dtype: int64"
      ]
     },
     "execution_count": 77,
     "metadata": {},
     "output_type": "execute_result"
    }
   ],
   "source": [
    "rfm1['clv_Tile'].value_counts()"
   ]
  },
  {
   "cell_type": "code",
   "execution_count": null,
   "id": "5da8cfb4-f5bb-40f0-a10a-7c909e0abd1d",
   "metadata": {},
   "outputs": [],
   "source": []
  },
  {
   "cell_type": "code",
   "execution_count": 78,
   "id": "5b2519d8-d43b-4e69-be67-87f81d15f1b6",
   "metadata": {},
   "outputs": [],
   "source": [
    "def score_recency(x,p,d):\n",
    "    if x <= d[p][0.25]:\n",
    "        return 4\n",
    "    if x <= d[p][0.5] and x >d[p][0.25]:\n",
    "        return 3\n",
    "    if x <= d[p][0.75] and x >d[p][0.5]: \n",
    "        return 2\n",
    "    if x >d[p][0.75]:\n",
    "        return 1"
   ]
  },
  {
   "cell_type": "code",
   "execution_count": 79,
   "id": "693ee494-716e-4c07-8691-6221c01bb00b",
   "metadata": {},
   "outputs": [],
   "source": [
    "rfm1['Rec_Tile'] = rfm1['Recency'].apply(score_recency, args=('Recency',quantiles,))"
   ]
  },
  {
   "cell_type": "code",
   "execution_count": 80,
   "id": "d417706c-c076-4cd4-9040-36ae7f536b4a",
   "metadata": {},
   "outputs": [
    {
     "data": {
      "text/plain": [
       "4    39390\n",
       "1    38101\n",
       "2    37629\n",
       "3    37287\n",
       "Name: Rec_Tile, dtype: int64"
      ]
     },
     "execution_count": 80,
     "metadata": {},
     "output_type": "execute_result"
    }
   ],
   "source": [
    "rfm1['Rec_Tile'].value_counts()"
   ]
  },
  {
   "cell_type": "code",
   "execution_count": 81,
   "id": "6954637a",
   "metadata": {},
   "outputs": [],
   "source": [
    "rfm1['I_Rec_Tile'] = rfm1['I_Recency'].apply(score, args=('I_Recency',quantiles))"
   ]
  },
  {
   "cell_type": "code",
   "execution_count": 82,
   "id": "3626819c",
   "metadata": {},
   "outputs": [
    {
     "data": {
      "text/plain": [
       "3    39266\n",
       "1    38276\n",
       "2    37960\n",
       "4    36905\n",
       "Name: I_Rec_Tile, dtype: int64"
      ]
     },
     "execution_count": 82,
     "metadata": {},
     "output_type": "execute_result"
    }
   ],
   "source": [
    "rfm1['I_Rec_Tile'].value_counts()"
   ]
  },
  {
   "cell_type": "code",
   "execution_count": null,
   "id": "df3f0d2b-6508-478a-9335-a2e096f7f7a6",
   "metadata": {},
   "outputs": [],
   "source": []
  },
  {
   "cell_type": "code",
   "execution_count": 83,
   "id": "c2e7fbac-7b8d-46a3-a78f-af84b6645b90",
   "metadata": {
    "scrolled": true
   },
   "outputs": [
    {
     "data": {
      "text/plain": [
       "1    38108\n",
       "2    38102\n",
       "4    38099\n",
       "3    38098\n",
       "Name: Mone_Tile, dtype: int64"
      ]
     },
     "execution_count": 83,
     "metadata": {},
     "output_type": "execute_result"
    }
   ],
   "source": [
    "rfm1['Mone_Tile'] = rfm1['Monetary'].apply(score, args=('Monetary',quantiles,))\n",
    "rfm1['Mone_Tile'].value_counts()"
   ]
  },
  {
   "cell_type": "code",
   "execution_count": null,
   "id": "258706a2-917f-4426-b3d1-5911fe1780c2",
   "metadata": {},
   "outputs": [],
   "source": []
  },
  {
   "cell_type": "code",
   "execution_count": 84,
   "id": "06a9678e-39e0-419b-8e75-d1c303807ac8",
   "metadata": {
    "scrolled": true
   },
   "outputs": [
    {
     "data": {
      "text/plain": [
       "2    38168\n",
       "1    38112\n",
       "4    38096\n",
       "3    38031\n",
       "Name: lifespam_Tile, dtype: int64"
      ]
     },
     "execution_count": 84,
     "metadata": {},
     "output_type": "execute_result"
    }
   ],
   "source": [
    "rfm1['lifespam_Tile'] = rfm1['lifespam'].apply(score, args=('lifespam',quantiles,))\n",
    "rfm1['lifespam_Tile'].value_counts()"
   ]
  },
  {
   "cell_type": "code",
   "execution_count": null,
   "id": "1712c6aa-59ef-43e9-87ee-ced6508a02a9",
   "metadata": {},
   "outputs": [],
   "source": []
  },
  {
   "cell_type": "code",
   "execution_count": 85,
   "id": "1a4c5996",
   "metadata": {},
   "outputs": [
    {
     "data": {
      "text/html": [
       "<div>\n",
       "<style scoped>\n",
       "    .dataframe tbody tr th:only-of-type {\n",
       "        vertical-align: middle;\n",
       "    }\n",
       "\n",
       "    .dataframe tbody tr th {\n",
       "        vertical-align: top;\n",
       "    }\n",
       "\n",
       "    .dataframe thead th {\n",
       "        text-align: right;\n",
       "    }\n",
       "</style>\n",
       "<table border=\"1\" class=\"dataframe\">\n",
       "  <thead>\n",
       "    <tr style=\"text-align: right;\">\n",
       "      <th></th>\n",
       "      <th>client_id</th>\n",
       "      <th>Recency</th>\n",
       "      <th>I_Recency</th>\n",
       "      <th>Monetary</th>\n",
       "      <th>lifespam</th>\n",
       "      <th>clv</th>\n",
       "      <th>clv_Tile</th>\n",
       "      <th>Rec_Tile</th>\n",
       "      <th>I_Rec_Tile</th>\n",
       "      <th>Mone_Tile</th>\n",
       "      <th>lifespam_Tile</th>\n",
       "      <th>score_v1</th>\n",
       "    </tr>\n",
       "  </thead>\n",
       "  <tbody>\n",
       "    <tr>\n",
       "      <th>0</th>\n",
       "      <td>6</td>\n",
       "      <td>40</td>\n",
       "      <td>0.024390</td>\n",
       "      <td>3222</td>\n",
       "      <td>655</td>\n",
       "      <td>1157</td>\n",
       "      <td>3</td>\n",
       "      <td>3</td>\n",
       "      <td>3</td>\n",
       "      <td>3</td>\n",
       "      <td>3</td>\n",
       "      <td>3333</td>\n",
       "    </tr>\n",
       "    <tr>\n",
       "      <th>1</th>\n",
       "      <td>7</td>\n",
       "      <td>272</td>\n",
       "      <td>0.003663</td>\n",
       "      <td>1190</td>\n",
       "      <td>161</td>\n",
       "      <td>158</td>\n",
       "      <td>1</td>\n",
       "      <td>2</td>\n",
       "      <td>2</td>\n",
       "      <td>2</td>\n",
       "      <td>2</td>\n",
       "      <td>1222</td>\n",
       "    </tr>\n",
       "    <tr>\n",
       "      <th>4</th>\n",
       "      <td>25</td>\n",
       "      <td>347</td>\n",
       "      <td>0.002874</td>\n",
       "      <td>374</td>\n",
       "      <td>0</td>\n",
       "      <td>93</td>\n",
       "      <td>1</td>\n",
       "      <td>1</td>\n",
       "      <td>1</td>\n",
       "      <td>1</td>\n",
       "      <td>1</td>\n",
       "      <td>1111</td>\n",
       "    </tr>\n",
       "    <tr>\n",
       "      <th>5</th>\n",
       "      <td>37</td>\n",
       "      <td>109</td>\n",
       "      <td>0.009091</td>\n",
       "      <td>2803</td>\n",
       "      <td>568</td>\n",
       "      <td>780</td>\n",
       "      <td>3</td>\n",
       "      <td>2</td>\n",
       "      <td>2</td>\n",
       "      <td>3</td>\n",
       "      <td>3</td>\n",
       "      <td>3233</td>\n",
       "    </tr>\n",
       "    <tr>\n",
       "      <th>6</th>\n",
       "      <td>40</td>\n",
       "      <td>20</td>\n",
       "      <td>0.047619</td>\n",
       "      <td>14889</td>\n",
       "      <td>707</td>\n",
       "      <td>4418</td>\n",
       "      <td>4</td>\n",
       "      <td>3</td>\n",
       "      <td>3</td>\n",
       "      <td>4</td>\n",
       "      <td>4</td>\n",
       "      <td>4344</td>\n",
       "    </tr>\n",
       "  </tbody>\n",
       "</table>\n",
       "</div>"
      ],
      "text/plain": [
       "   client_id  Recency  I_Recency  Monetary  lifespam   clv  clv_Tile  \\\n",
       "0          6       40   0.024390      3222       655  1157         3   \n",
       "1          7      272   0.003663      1190       161   158         1   \n",
       "4         25      347   0.002874       374         0    93         1   \n",
       "5         37      109   0.009091      2803       568   780         3   \n",
       "6         40       20   0.047619     14889       707  4418         4   \n",
       "\n",
       "   Rec_Tile  I_Rec_Tile  Mone_Tile  lifespam_Tile score_v1  \n",
       "0         3           3          3              3     3333  \n",
       "1         2           2          2              2     1222  \n",
       "4         1           1          1              1     1111  \n",
       "5         2           2          3              3     3233  \n",
       "6         3           3          4              4     4344  "
      ]
     },
     "execution_count": 85,
     "metadata": {},
     "output_type": "execute_result"
    }
   ],
   "source": [
    "# Add to dataframe - we will use only the ones of I_Rec not Rec\n",
    "rfm1['score_v1'] = rfm1['clv_Tile'].map(str) + rfm1['I_Rec_Tile'].map(str) + rfm1['Mone_Tile'].map(str) + rfm1['lifespam_Tile'].map(str)\n",
    "rfm1.head()"
   ]
  },
  {
   "cell_type": "code",
   "execution_count": 86,
   "id": "d6287c28",
   "metadata": {
    "scrolled": true
   },
   "outputs": [
    {
     "data": {
      "text/plain": [
       "'1111'"
      ]
     },
     "execution_count": 86,
     "metadata": {},
     "output_type": "execute_result"
    }
   ],
   "source": [
    "rfm1.score_v1.min()"
   ]
  },
  {
   "cell_type": "code",
   "execution_count": 87,
   "id": "13144570",
   "metadata": {},
   "outputs": [
    {
     "data": {
      "text/plain": [
       "client_id        14830\n",
       "Recency          14830\n",
       "I_Recency        14830\n",
       "Monetary         14830\n",
       "lifespam         14830\n",
       "clv              14830\n",
       "clv_Tile         14830\n",
       "Rec_Tile         14830\n",
       "I_Rec_Tile       14830\n",
       "Mone_Tile        14830\n",
       "lifespam_Tile    14830\n",
       "score_v1         14830\n",
       "dtype: int64"
      ]
     },
     "execution_count": 87,
     "metadata": {},
     "output_type": "execute_result"
    }
   ],
   "source": [
    "#Who are the lost customers?\n",
    "\n",
    "#Customers who's recency, frequency as well as monetary values are low \n",
    "\n",
    "rfm1[rfm1['score_v1'] == '1111'].sort_values('I_Recency',ascending=False).count()"
   ]
  },
  {
   "cell_type": "code",
   "execution_count": 88,
   "id": "649a3ea5-b1e4-4413-a3bb-4088683000ee",
   "metadata": {},
   "outputs": [
    {
     "data": {
      "text/html": [
       "<div>\n",
       "<style scoped>\n",
       "    .dataframe tbody tr th:only-of-type {\n",
       "        vertical-align: middle;\n",
       "    }\n",
       "\n",
       "    .dataframe tbody tr th {\n",
       "        vertical-align: top;\n",
       "    }\n",
       "\n",
       "    .dataframe thead th {\n",
       "        text-align: right;\n",
       "    }\n",
       "</style>\n",
       "<table border=\"1\" class=\"dataframe\">\n",
       "  <thead>\n",
       "    <tr style=\"text-align: right;\">\n",
       "      <th></th>\n",
       "      <th>client_id</th>\n",
       "      <th>Recency</th>\n",
       "      <th>I_Recency</th>\n",
       "      <th>Monetary</th>\n",
       "      <th>lifespam</th>\n",
       "      <th>clv</th>\n",
       "      <th>clv_Tile</th>\n",
       "      <th>Rec_Tile</th>\n",
       "      <th>I_Rec_Tile</th>\n",
       "      <th>Mone_Tile</th>\n",
       "      <th>lifespam_Tile</th>\n",
       "      <th>score_v1</th>\n",
       "      <th>score</th>\n",
       "    </tr>\n",
       "  </thead>\n",
       "  <tbody>\n",
       "    <tr>\n",
       "      <th>0</th>\n",
       "      <td>6</td>\n",
       "      <td>40</td>\n",
       "      <td>0.024390</td>\n",
       "      <td>3222</td>\n",
       "      <td>655</td>\n",
       "      <td>1157</td>\n",
       "      <td>3</td>\n",
       "      <td>3</td>\n",
       "      <td>3</td>\n",
       "      <td>3</td>\n",
       "      <td>3</td>\n",
       "      <td>3333</td>\n",
       "      <td>12</td>\n",
       "    </tr>\n",
       "    <tr>\n",
       "      <th>1</th>\n",
       "      <td>7</td>\n",
       "      <td>272</td>\n",
       "      <td>0.003663</td>\n",
       "      <td>1190</td>\n",
       "      <td>161</td>\n",
       "      <td>158</td>\n",
       "      <td>1</td>\n",
       "      <td>2</td>\n",
       "      <td>2</td>\n",
       "      <td>2</td>\n",
       "      <td>2</td>\n",
       "      <td>1222</td>\n",
       "      <td>7</td>\n",
       "    </tr>\n",
       "    <tr>\n",
       "      <th>4</th>\n",
       "      <td>25</td>\n",
       "      <td>347</td>\n",
       "      <td>0.002874</td>\n",
       "      <td>374</td>\n",
       "      <td>0</td>\n",
       "      <td>93</td>\n",
       "      <td>1</td>\n",
       "      <td>1</td>\n",
       "      <td>1</td>\n",
       "      <td>1</td>\n",
       "      <td>1</td>\n",
       "      <td>1111</td>\n",
       "      <td>4</td>\n",
       "    </tr>\n",
       "    <tr>\n",
       "      <th>5</th>\n",
       "      <td>37</td>\n",
       "      <td>109</td>\n",
       "      <td>0.009091</td>\n",
       "      <td>2803</td>\n",
       "      <td>568</td>\n",
       "      <td>780</td>\n",
       "      <td>3</td>\n",
       "      <td>2</td>\n",
       "      <td>2</td>\n",
       "      <td>3</td>\n",
       "      <td>3</td>\n",
       "      <td>3233</td>\n",
       "      <td>11</td>\n",
       "    </tr>\n",
       "    <tr>\n",
       "      <th>6</th>\n",
       "      <td>40</td>\n",
       "      <td>20</td>\n",
       "      <td>0.047619</td>\n",
       "      <td>14889</td>\n",
       "      <td>707</td>\n",
       "      <td>4418</td>\n",
       "      <td>4</td>\n",
       "      <td>3</td>\n",
       "      <td>3</td>\n",
       "      <td>4</td>\n",
       "      <td>4</td>\n",
       "      <td>4344</td>\n",
       "      <td>15</td>\n",
       "    </tr>\n",
       "  </tbody>\n",
       "</table>\n",
       "</div>"
      ],
      "text/plain": [
       "   client_id  Recency  I_Recency  Monetary  lifespam   clv  clv_Tile  \\\n",
       "0          6       40   0.024390      3222       655  1157         3   \n",
       "1          7      272   0.003663      1190       161   158         1   \n",
       "4         25      347   0.002874       374         0    93         1   \n",
       "5         37      109   0.009091      2803       568   780         3   \n",
       "6         40       20   0.047619     14889       707  4418         4   \n",
       "\n",
       "   Rec_Tile  I_Rec_Tile  Mone_Tile  lifespam_Tile score_v1  score  \n",
       "0         3           3          3              3     3333     12  \n",
       "1         2           2          2              2     1222      7  \n",
       "4         1           1          1              1     1111      4  \n",
       "5         2           2          3              3     3233     11  \n",
       "6         3           3          4              4     4344     15  "
      ]
     },
     "execution_count": 88,
     "metadata": {},
     "output_type": "execute_result"
    }
   ],
   "source": [
    "#Summing the RFM Score\n",
    "rfm1['score'] = rfm1[['clv_Tile','I_Rec_Tile','Mone_Tile','lifespam_Tile']].sum(axis=1)\n",
    "rfm1.head()"
   ]
  },
  {
   "cell_type": "code",
   "execution_count": 89,
   "id": "1f0b2c3c",
   "metadata": {},
   "outputs": [
    {
     "name": "stdout",
     "output_type": "stream",
     "text": [
      "9.989186848373107 10.0 16 4 7.0 10.0 13.0\n"
     ]
    }
   ],
   "source": [
    "print(rfm1.score.mean(),\n",
    "rfm1.score.median(),\n",
    "rfm1.score.max(),\n",
    "rfm1.score.min(),     \n",
    "rfm1.score.quantile(0.25),\n",
    "rfm1.score.quantile(0.5), \n",
    "rfm1.score.quantile(0.75))"
   ]
  },
  {
   "cell_type": "code",
   "execution_count": 90,
   "id": "90f6ce8e-681e-4f82-beec-8676c43709c5",
   "metadata": {
    "scrolled": true
   },
   "outputs": [
    {
     "data": {
      "text/plain": [
       "16    16619\n",
       "4     14830\n",
       "11    12999\n",
       "5     12298\n",
       "9     12058\n",
       "7     11493\n",
       "13    11054\n",
       "15    10648\n",
       "6     10577\n",
       "10    10312\n",
       "12    10107\n",
       "8      9885\n",
       "14     9527\n",
       "Name: score, dtype: int64"
      ]
     },
     "execution_count": 90,
     "metadata": {},
     "output_type": "execute_result"
    }
   ],
   "source": [
    "rfm1.score.value_counts()"
   ]
  },
  {
   "cell_type": "code",
   "execution_count": 91,
   "id": "c1f89860-77a3-4b3d-942d-7975b28bc02d",
   "metadata": {},
   "outputs": [],
   "source": [
    "def score_level(df):\n",
    "    if df['score']<=7:\n",
    "        return 'Churned'\n",
    "    if df['score'] >7 and df['score'] <=10:\n",
    "        return 'Regular'\n",
    "    if df['score'] >10 and df['score'] <=13:\n",
    "        return 'Loyal'\n",
    "    if df['score'] >13:\n",
    "        return 'Premium'"
   ]
  },
  {
   "cell_type": "code",
   "execution_count": 92,
   "id": "739cbebb",
   "metadata": {},
   "outputs": [
    {
     "data": {
      "text/html": [
       "<div>\n",
       "<style scoped>\n",
       "    .dataframe tbody tr th:only-of-type {\n",
       "        vertical-align: middle;\n",
       "    }\n",
       "\n",
       "    .dataframe tbody tr th {\n",
       "        vertical-align: top;\n",
       "    }\n",
       "\n",
       "    .dataframe thead th {\n",
       "        text-align: right;\n",
       "    }\n",
       "</style>\n",
       "<table border=\"1\" class=\"dataframe\">\n",
       "  <thead>\n",
       "    <tr style=\"text-align: right;\">\n",
       "      <th></th>\n",
       "      <th>client_id</th>\n",
       "      <th>Recency</th>\n",
       "      <th>I_Recency</th>\n",
       "      <th>Monetary</th>\n",
       "      <th>lifespam</th>\n",
       "      <th>clv</th>\n",
       "      <th>clv_Tile</th>\n",
       "      <th>Rec_Tile</th>\n",
       "      <th>I_Rec_Tile</th>\n",
       "      <th>Mone_Tile</th>\n",
       "      <th>lifespam_Tile</th>\n",
       "      <th>score_v1</th>\n",
       "      <th>score</th>\n",
       "      <th>score_level</th>\n",
       "    </tr>\n",
       "  </thead>\n",
       "  <tbody>\n",
       "    <tr>\n",
       "      <th>0</th>\n",
       "      <td>6</td>\n",
       "      <td>40</td>\n",
       "      <td>0.024390</td>\n",
       "      <td>3222</td>\n",
       "      <td>655</td>\n",
       "      <td>1157</td>\n",
       "      <td>3</td>\n",
       "      <td>3</td>\n",
       "      <td>3</td>\n",
       "      <td>3</td>\n",
       "      <td>3</td>\n",
       "      <td>3333</td>\n",
       "      <td>12</td>\n",
       "      <td>Loyal</td>\n",
       "    </tr>\n",
       "    <tr>\n",
       "      <th>1</th>\n",
       "      <td>7</td>\n",
       "      <td>272</td>\n",
       "      <td>0.003663</td>\n",
       "      <td>1190</td>\n",
       "      <td>161</td>\n",
       "      <td>158</td>\n",
       "      <td>1</td>\n",
       "      <td>2</td>\n",
       "      <td>2</td>\n",
       "      <td>2</td>\n",
       "      <td>2</td>\n",
       "      <td>1222</td>\n",
       "      <td>7</td>\n",
       "      <td>Churned</td>\n",
       "    </tr>\n",
       "    <tr>\n",
       "      <th>4</th>\n",
       "      <td>25</td>\n",
       "      <td>347</td>\n",
       "      <td>0.002874</td>\n",
       "      <td>374</td>\n",
       "      <td>0</td>\n",
       "      <td>93</td>\n",
       "      <td>1</td>\n",
       "      <td>1</td>\n",
       "      <td>1</td>\n",
       "      <td>1</td>\n",
       "      <td>1</td>\n",
       "      <td>1111</td>\n",
       "      <td>4</td>\n",
       "      <td>Churned</td>\n",
       "    </tr>\n",
       "    <tr>\n",
       "      <th>5</th>\n",
       "      <td>37</td>\n",
       "      <td>109</td>\n",
       "      <td>0.009091</td>\n",
       "      <td>2803</td>\n",
       "      <td>568</td>\n",
       "      <td>780</td>\n",
       "      <td>3</td>\n",
       "      <td>2</td>\n",
       "      <td>2</td>\n",
       "      <td>3</td>\n",
       "      <td>3</td>\n",
       "      <td>3233</td>\n",
       "      <td>11</td>\n",
       "      <td>Loyal</td>\n",
       "    </tr>\n",
       "    <tr>\n",
       "      <th>6</th>\n",
       "      <td>40</td>\n",
       "      <td>20</td>\n",
       "      <td>0.047619</td>\n",
       "      <td>14889</td>\n",
       "      <td>707</td>\n",
       "      <td>4418</td>\n",
       "      <td>4</td>\n",
       "      <td>3</td>\n",
       "      <td>3</td>\n",
       "      <td>4</td>\n",
       "      <td>4</td>\n",
       "      <td>4344</td>\n",
       "      <td>15</td>\n",
       "      <td>Premium</td>\n",
       "    </tr>\n",
       "  </tbody>\n",
       "</table>\n",
       "</div>"
      ],
      "text/plain": [
       "   client_id  Recency  I_Recency  Monetary  lifespam   clv  clv_Tile  \\\n",
       "0          6       40   0.024390      3222       655  1157         3   \n",
       "1          7      272   0.003663      1190       161   158         1   \n",
       "4         25      347   0.002874       374         0    93         1   \n",
       "5         37      109   0.009091      2803       568   780         3   \n",
       "6         40       20   0.047619     14889       707  4418         4   \n",
       "\n",
       "   Rec_Tile  I_Rec_Tile  Mone_Tile  lifespam_Tile score_v1  score score_level  \n",
       "0         3           3          3              3     3333     12       Loyal  \n",
       "1         2           2          2              2     1222      7     Churned  \n",
       "4         1           1          1              1     1111      4     Churned  \n",
       "5         2           2          3              3     3233     11       Loyal  \n",
       "6         3           3          4              4     4344     15     Premium  "
      ]
     },
     "execution_count": 92,
     "metadata": {},
     "output_type": "execute_result"
    }
   ],
   "source": [
    "# Create a new variable RFM_Level\n",
    "rfm1['score_level'] = rfm1.apply(score_level, axis=1)\n",
    "\n",
    "# Print the header with top 5 rows to the console\n",
    "rfm1.head()"
   ]
  },
  {
   "cell_type": "code",
   "execution_count": 93,
   "id": "698aed0e-903d-4ef2-8f35-5bfd6cce9838",
   "metadata": {},
   "outputs": [],
   "source": [
    "rfm1.to_csv('client_clustering_2.csv', sep=',', index = False)"
   ]
  },
  {
   "cell_type": "code",
   "execution_count": null,
   "id": "ac9bd0e8-b04d-4141-afb9-8b893257ebd4",
   "metadata": {},
   "outputs": [],
   "source": []
  },
  {
   "cell_type": "code",
   "execution_count": 94,
   "id": "53b5e129",
   "metadata": {
    "scrolled": false
   },
   "outputs": [
    {
     "data": {
      "text/plain": [
       "Churned    49198\n",
       "Premium    36794\n",
       "Loyal      34160\n",
       "Regular    32255\n",
       "Name: score_level, dtype: int64"
      ]
     },
     "execution_count": 94,
     "metadata": {},
     "output_type": "execute_result"
    }
   ],
   "source": [
    "rfm1[\"score_level\"].value_counts()"
   ]
  },
  {
   "cell_type": "code",
   "execution_count": 95,
   "id": "15cfa9b3-deaf-4663-aefa-8e9d3dcfee05",
   "metadata": {
    "scrolled": true
   },
   "outputs": [
    {
     "data": {
      "image/png": "[encoded data removed]",
      "text/plain": [
       "<Figure size 432x288 with 1 Axes>"
      ]
     },
     "metadata": {},
     "output_type": "display_data"
    }
   ],
   "source": [
    "plt.pie(rfm1.score_level.value_counts(),\n",
    "        labels=rfm1.score_level.value_counts().index,\n",
    "        autopct='%.0f%%')\n",
    "plt.show()"
   ]
  },
  {
   "cell_type": "code",
   "execution_count": null,
   "id": "2c5a243f",
   "metadata": {},
   "outputs": [],
   "source": []
  }
 ],
 "metadata": {
  "colab": {
   "name": "EDA-V2_Krish.ipynb",
   "provenance": []
  },
  "kernelspec": {
   "display_name": "Python 3 (ipykernel)",
   "language": "python",
   "name": "python3"
  },
  "language_info": {
   "codemirror_mode": {
    "name": "ipython",
    "version": 3
   },
   "file_extension": ".py",
   "mimetype": "text/x-python",
   "name": "python",
   "nbconvert_exporter": "python",
   "pygments_lexer": "ipython3",
   "version": "3.9.7"
  }
 },
 "nbformat": 4,
 "nbformat_minor": 5
}
