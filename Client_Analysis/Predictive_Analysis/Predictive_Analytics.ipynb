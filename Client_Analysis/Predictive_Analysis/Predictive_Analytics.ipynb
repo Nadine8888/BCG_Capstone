{
 "cells": [
  {
   "cell_type": "markdown",
   "id": "6b64304a",
   "metadata": {},
   "source": [
    "# BOSTON CONSULTING GROUP (BCG) - Explaining and Predicting Churn \n",
    "# Team N:\n",
    "## Martina Cilia, Nadine Raad, Krishna Agrawal, Ignacio Gonzalez, Eric Von Stockar, George Moukheiber, Mikhael Dzhaneryan"
   ]
  },
  {
   "cell_type": "markdown",
   "id": "b7e228af",
   "metadata": {},
   "source": [
    "## Predictive Analytics"
   ]
  },
  {
   "cell_type": "code",
   "execution_count": 1,
   "id": "bbc64622",
   "metadata": {},
   "outputs": [],
   "source": [
    "# Importing all the required libraries\n",
    "import pandas as pd\n",
    "import numpy as np\n",
    "import seaborn as sns\n",
    "import timeit\n",
    "import pickle\n",
    "import sys\n",
    "import matplotlib.pyplot as plt\n",
    "from sklearn.preprocessing import LabelEncoder, OneHotEncoder, StandardScaler\n",
    "from sklearn.feature_selection import RFE\n",
    "from sklearn.linear_model import LogisticRegression\n",
    "from sklearn.neighbors import KNeighborsClassifier\n",
    "from sklearn.naive_bayes import GaussianNB\n",
    "from sklearn.ensemble import RandomForestClassifier,BaggingClassifier,RandomForestRegressor\n",
    "from sklearn.svm import SVC\n",
    "from sklearn.decomposition import PCA\n",
    "from sklearn.tree import DecisionTreeClassifier, export_graphviz\n",
    "from sklearn.pipeline import Pipeline\n",
    "from sklearn.model_selection import train_test_split,KFold, cross_val_score\n",
    "from sklearn.metrics import roc_auc_score, recall_score, confusion_matrix, classification_report,precision_score,\\\n",
    "f1_score,fbeta_score,precision_recall_curve, roc_curve, accuracy_score\n",
    "from sklearn.exceptions import NotFittedError\n",
    "from fast_ml.model_development import train_valid_test_split"
   ]
  },
  {
   "cell_type": "code",
   "execution_count": 2,
   "id": "30abd525",
   "metadata": {},
   "outputs": [
    {
     "data": {
      "text/html": [
       "<div>\n",
       "<style scoped>\n",
       "    .dataframe tbody tr th:only-of-type {\n",
       "        vertical-align: middle;\n",
       "    }\n",
       "\n",
       "    .dataframe tbody tr th {\n",
       "        vertical-align: top;\n",
       "    }\n",
       "\n",
       "    .dataframe thead th {\n",
       "        text-align: right;\n",
       "    }\n",
       "</style>\n",
       "<table border=\"1\" class=\"dataframe\">\n",
       "  <thead>\n",
       "    <tr style=\"text-align: right;\">\n",
       "      <th></th>\n",
       "      <th>client_id</th>\n",
       "      <th>recency</th>\n",
       "      <th>monetary</th>\n",
       "      <th>lifespan</th>\n",
       "      <th>clv</th>\n",
       "      <th>cluster_labels</th>\n",
       "    </tr>\n",
       "  </thead>\n",
       "  <tbody>\n",
       "    <tr>\n",
       "      <th>0</th>\n",
       "      <td>1146680</td>\n",
       "      <td>0</td>\n",
       "      <td>11412</td>\n",
       "      <td>363</td>\n",
       "      <td>3450</td>\n",
       "      <td>loyal</td>\n",
       "    </tr>\n",
       "    <tr>\n",
       "      <th>1</th>\n",
       "      <td>1474013</td>\n",
       "      <td>0</td>\n",
       "      <td>90</td>\n",
       "      <td>0</td>\n",
       "      <td>30</td>\n",
       "      <td>potential_churner</td>\n",
       "    </tr>\n",
       "    <tr>\n",
       "      <th>2</th>\n",
       "      <td>816507</td>\n",
       "      <td>0</td>\n",
       "      <td>17730</td>\n",
       "      <td>363</td>\n",
       "      <td>4810</td>\n",
       "      <td>loyal</td>\n",
       "    </tr>\n",
       "    <tr>\n",
       "      <th>3</th>\n",
       "      <td>2051002</td>\n",
       "      <td>0</td>\n",
       "      <td>5149</td>\n",
       "      <td>132</td>\n",
       "      <td>600</td>\n",
       "      <td>potential_churner</td>\n",
       "    </tr>\n",
       "    <tr>\n",
       "      <th>4</th>\n",
       "      <td>224223</td>\n",
       "      <td>0</td>\n",
       "      <td>33042</td>\n",
       "      <td>361</td>\n",
       "      <td>6566</td>\n",
       "      <td>loyal</td>\n",
       "    </tr>\n",
       "  </tbody>\n",
       "</table>\n",
       "</div>"
      ],
      "text/plain": [
       "   client_id  recency  monetary  lifespan   clv     cluster_labels\n",
       "0    1146680        0     11412       363  3450              loyal\n",
       "1    1474013        0        90         0    30  potential_churner\n",
       "2     816507        0     17730       363  4810              loyal\n",
       "3    2051002        0      5149       132   600  potential_churner\n",
       "4     224223        0     33042       361  6566              loyal"
      ]
     },
     "execution_count": 2,
     "metadata": {},
     "output_type": "execute_result"
    }
   ],
   "source": [
    "# Importing the dataset and evluating data structure\n",
    "df = pd.read_csv('clusteringtouse.csv', sep = ',')\n",
    "df.head()"
   ]
  },
  {
   "cell_type": "code",
   "execution_count": 3,
   "id": "a269df6d",
   "metadata": {},
   "outputs": [
    {
     "data": {
      "text/plain": [
       "(128285, 6)"
      ]
     },
     "execution_count": 3,
     "metadata": {},
     "output_type": "execute_result"
    }
   ],
   "source": [
    "# Checking number of rows and columns\n",
    "df.shape"
   ]
  },
  {
   "cell_type": "code",
   "execution_count": 4,
   "id": "cf229c51",
   "metadata": {},
   "outputs": [
    {
     "data": {
      "text/plain": [
       "client_id          int64\n",
       "recency            int64\n",
       "monetary           int64\n",
       "lifespan           int64\n",
       "clv                int64\n",
       "cluster_labels    object\n",
       "dtype: object"
      ]
     },
     "execution_count": 4,
     "metadata": {},
     "output_type": "execute_result"
    }
   ],
   "source": [
    "# Checking data type for each column\n",
    "df.dtypes"
   ]
  },
  {
   "cell_type": "code",
   "execution_count": 5,
   "id": "c12dfc0d",
   "metadata": {},
   "outputs": [
    {
     "data": {
      "text/html": [
       "<div>\n",
       "<style scoped>\n",
       "    .dataframe tbody tr th:only-of-type {\n",
       "        vertical-align: middle;\n",
       "    }\n",
       "\n",
       "    .dataframe tbody tr th {\n",
       "        vertical-align: top;\n",
       "    }\n",
       "\n",
       "    .dataframe thead th {\n",
       "        text-align: right;\n",
       "    }\n",
       "</style>\n",
       "<table border=\"1\" class=\"dataframe\">\n",
       "  <thead>\n",
       "    <tr style=\"text-align: right;\">\n",
       "      <th></th>\n",
       "      <th>recency</th>\n",
       "      <th>monetary</th>\n",
       "      <th>lifespan</th>\n",
       "      <th>clv</th>\n",
       "      <th>cluster_labels</th>\n",
       "    </tr>\n",
       "    <tr>\n",
       "      <th>client_id</th>\n",
       "      <th></th>\n",
       "      <th></th>\n",
       "      <th></th>\n",
       "      <th></th>\n",
       "      <th></th>\n",
       "    </tr>\n",
       "  </thead>\n",
       "  <tbody>\n",
       "    <tr>\n",
       "      <th>1146680</th>\n",
       "      <td>0</td>\n",
       "      <td>11412</td>\n",
       "      <td>363</td>\n",
       "      <td>3450</td>\n",
       "      <td>loyal</td>\n",
       "    </tr>\n",
       "    <tr>\n",
       "      <th>1474013</th>\n",
       "      <td>0</td>\n",
       "      <td>90</td>\n",
       "      <td>0</td>\n",
       "      <td>30</td>\n",
       "      <td>potential_churner</td>\n",
       "    </tr>\n",
       "    <tr>\n",
       "      <th>816507</th>\n",
       "      <td>0</td>\n",
       "      <td>17730</td>\n",
       "      <td>363</td>\n",
       "      <td>4810</td>\n",
       "      <td>loyal</td>\n",
       "    </tr>\n",
       "  </tbody>\n",
       "</table>\n",
       "</div>"
      ],
      "text/plain": [
       "           recency  monetary  lifespan   clv     cluster_labels\n",
       "client_id                                                      \n",
       "1146680          0     11412       363  3450              loyal\n",
       "1474013          0        90         0    30  potential_churner\n",
       "816507           0     17730       363  4810              loyal"
      ]
     },
     "execution_count": 5,
     "metadata": {},
     "output_type": "execute_result"
    }
   ],
   "source": [
    "# Resetting the index as client_id\n",
    "df.set_index('client_id', inplace=True)\n",
    "df.head(3)"
   ]
  },
  {
   "cell_type": "code",
   "execution_count": 6,
   "id": "dd6e0d5e",
   "metadata": {},
   "outputs": [
    {
     "data": {
      "text/plain": [
       "churned              55669\n",
       "potential_churner    33956\n",
       "new_customers        20912\n",
       "loyal                17748\n",
       "Name: cluster_labels, dtype: int64"
      ]
     },
     "execution_count": 6,
     "metadata": {},
     "output_type": "execute_result"
    }
   ],
   "source": [
    "# Checking distribution of the cluster labels\n",
    "df.cluster_labels.value_counts()"
   ]
  },
  {
   "cell_type": "code",
   "execution_count": 7,
   "id": "78e0803a",
   "metadata": {},
   "outputs": [
    {
     "name": "stdout",
     "output_type": "stream",
     "text": [
      "Churners: 43.0\n",
      "Potential Churners: 26.0\n",
      "New Customers: 16.0\n",
      "Loyal Customers: 14.000000000000002\n"
     ]
    }
   ],
   "source": [
    "# Calculating the percentage of each cluster label\n",
    "churners = (round((55669) / (128285),2)*100)\n",
    "potential_churners = (round((33956) / (128285),2)*100)\n",
    "new_customers = (round((20912) / (128285),2)*100)\n",
    "loyal_customers = (round((17748) / (128285),2)*100)\n",
    "\n",
    "print(f'Churners: {churners}')\n",
    "print(f'Potential Churners: {potential_churners}')\n",
    "print(f'New Customers: {new_customers}')\n",
    "print(f'Loyal Customers: {loyal_customers}')"
   ]
  },
  {
   "cell_type": "code",
   "execution_count": 8,
   "id": "5fc4c43c",
   "metadata": {},
   "outputs": [
    {
     "data": {
      "text/html": [
       "<div>\n",
       "<style scoped>\n",
       "    .dataframe tbody tr th:only-of-type {\n",
       "        vertical-align: middle;\n",
       "    }\n",
       "\n",
       "    .dataframe tbody tr th {\n",
       "        vertical-align: top;\n",
       "    }\n",
       "\n",
       "    .dataframe thead th {\n",
       "        text-align: right;\n",
       "    }\n",
       "</style>\n",
       "<table border=\"1\" class=\"dataframe\">\n",
       "  <thead>\n",
       "    <tr style=\"text-align: right;\">\n",
       "      <th></th>\n",
       "      <th>count</th>\n",
       "      <th>mean</th>\n",
       "      <th>std</th>\n",
       "      <th>min</th>\n",
       "      <th>25%</th>\n",
       "      <th>50%</th>\n",
       "      <th>75%</th>\n",
       "      <th>max</th>\n",
       "    </tr>\n",
       "  </thead>\n",
       "  <tbody>\n",
       "    <tr>\n",
       "      <th>recency</th>\n",
       "      <td>128285.0</td>\n",
       "      <td>79.619745</td>\n",
       "      <td>94.144824</td>\n",
       "      <td>0.0</td>\n",
       "      <td>10.0</td>\n",
       "      <td>38.0</td>\n",
       "      <td>124.0</td>\n",
       "      <td>364.0</td>\n",
       "    </tr>\n",
       "    <tr>\n",
       "      <th>monetary</th>\n",
       "      <td>128285.0</td>\n",
       "      <td>5299.416385</td>\n",
       "      <td>7664.598769</td>\n",
       "      <td>-3203.0</td>\n",
       "      <td>513.0</td>\n",
       "      <td>1901.0</td>\n",
       "      <td>6556.0</td>\n",
       "      <td>37967.0</td>\n",
       "    </tr>\n",
       "    <tr>\n",
       "      <th>lifespan</th>\n",
       "      <td>128285.0</td>\n",
       "      <td>199.088413</td>\n",
       "      <td>136.355212</td>\n",
       "      <td>0.0</td>\n",
       "      <td>50.0</td>\n",
       "      <td>236.0</td>\n",
       "      <td>330.0</td>\n",
       "      <td>364.0</td>\n",
       "    </tr>\n",
       "    <tr>\n",
       "      <th>clv</th>\n",
       "      <td>128285.0</td>\n",
       "      <td>1180.445500</td>\n",
       "      <td>1579.049670</td>\n",
       "      <td>-330.0</td>\n",
       "      <td>177.0</td>\n",
       "      <td>518.0</td>\n",
       "      <td>1520.0</td>\n",
       "      <td>18725.0</td>\n",
       "    </tr>\n",
       "  </tbody>\n",
       "</table>\n",
       "</div>"
      ],
      "text/plain": [
       "             count         mean          std     min    25%     50%     75%  \\\n",
       "recency   128285.0    79.619745    94.144824     0.0   10.0    38.0   124.0   \n",
       "monetary  128285.0  5299.416385  7664.598769 -3203.0  513.0  1901.0  6556.0   \n",
       "lifespan  128285.0   199.088413   136.355212     0.0   50.0   236.0   330.0   \n",
       "clv       128285.0  1180.445500  1579.049670  -330.0  177.0   518.0  1520.0   \n",
       "\n",
       "              max  \n",
       "recency     364.0  \n",
       "monetary  37967.0  \n",
       "lifespan    364.0  \n",
       "clv       18725.0  "
      ]
     },
     "execution_count": 8,
     "metadata": {},
     "output_type": "execute_result"
    }
   ],
   "source": [
    "# Brief statistical summary of the dataset\n",
    "df.describe().T"
   ]
  },
  {
   "cell_type": "code",
   "execution_count": 9,
   "id": "945cbb1b",
   "metadata": {},
   "outputs": [],
   "source": [
    "# Defining functions to help us explore the dataset\n",
    "def summarize_columns(df, show_levels=False):\n",
    "    \"\"\"\n",
    "        Display uniqueness in each column\n",
    "    \"\"\"\n",
    "    data = [[df[c].unique(), len(df[c].unique()), df[c].isnull().sum()] for c in df.columns]\n",
    "    df_temp = pd.DataFrame(data, index=df.columns,\n",
    "                           columns=['Levels', 'No. of Levels', 'No. of Missing Values'])\n",
    "    return df_temp.iloc[:, 0 if show_levels else 1:]\n",
    "\n",
    "\n",
    "def find_categorical(df, cutoff=10):\n",
    "    \"\"\"\n",
    "        Function to find categorical columns in the dataframe.\n",
    "    \"\"\"\n",
    "    cat_cols = []\n",
    "    for col in df.columns:\n",
    "        if len(df[col].unique()) <= cutoff:\n",
    "            cat_cols.append(col)\n",
    "    return cat_cols"
   ]
  },
  {
   "cell_type": "code",
   "execution_count": 10,
   "id": "f4e1dc85",
   "metadata": {},
   "outputs": [
    {
     "data": {
      "text/html": [
       "<div>\n",
       "<style scoped>\n",
       "    .dataframe tbody tr th:only-of-type {\n",
       "        vertical-align: middle;\n",
       "    }\n",
       "\n",
       "    .dataframe tbody tr th {\n",
       "        vertical-align: top;\n",
       "    }\n",
       "\n",
       "    .dataframe thead th {\n",
       "        text-align: right;\n",
       "    }\n",
       "</style>\n",
       "<table border=\"1\" class=\"dataframe\">\n",
       "  <thead>\n",
       "    <tr style=\"text-align: right;\">\n",
       "      <th></th>\n",
       "      <th>Levels</th>\n",
       "      <th>No. of Levels</th>\n",
       "      <th>No. of Missing Values</th>\n",
       "    </tr>\n",
       "  </thead>\n",
       "  <tbody>\n",
       "    <tr>\n",
       "      <th>recency</th>\n",
       "      <td>[0, 1, 2, 3, 4, 5, 6, 7, 8, 9, 10, 11, 12, 13,...</td>\n",
       "      <td>304</td>\n",
       "      <td>0</td>\n",
       "    </tr>\n",
       "    <tr>\n",
       "      <th>monetary</th>\n",
       "      <td>[11412, 90, 17730, 5149, 33042, 1290, 2051, 59...</td>\n",
       "      <td>24049</td>\n",
       "      <td>0</td>\n",
       "    </tr>\n",
       "    <tr>\n",
       "      <th>lifespan</th>\n",
       "      <td>[363, 0, 132, 361, 222, 47, 75, 346, 341, 360,...</td>\n",
       "      <td>365</td>\n",
       "      <td>0</td>\n",
       "    </tr>\n",
       "    <tr>\n",
       "      <th>clv</th>\n",
       "      <td>[3450, 30, 4810, 600, 6566, 245, 525, 880, 284...</td>\n",
       "      <td>4524</td>\n",
       "      <td>0</td>\n",
       "    </tr>\n",
       "    <tr>\n",
       "      <th>cluster_labels</th>\n",
       "      <td>[loyal, potential_churner, churned, new_custom...</td>\n",
       "      <td>4</td>\n",
       "      <td>0</td>\n",
       "    </tr>\n",
       "  </tbody>\n",
       "</table>\n",
       "</div>"
      ],
      "text/plain": [
       "                                                           Levels  \\\n",
       "recency         [0, 1, 2, 3, 4, 5, 6, 7, 8, 9, 10, 11, 12, 13,...   \n",
       "monetary        [11412, 90, 17730, 5149, 33042, 1290, 2051, 59...   \n",
       "lifespan        [363, 0, 132, 361, 222, 47, 75, 346, 341, 360,...   \n",
       "clv             [3450, 30, 4810, 600, 6566, 245, 525, 880, 284...   \n",
       "cluster_labels  [loyal, potential_churner, churned, new_custom...   \n",
       "\n",
       "                No. of Levels  No. of Missing Values  \n",
       "recency                   304                      0  \n",
       "monetary                24049                      0  \n",
       "lifespan                  365                      0  \n",
       "clv                      4524                      0  \n",
       "cluster_labels              4                      0  "
      ]
     },
     "execution_count": 10,
     "metadata": {},
     "output_type": "execute_result"
    }
   ],
   "source": [
    "# Displaying the unique information for each column\n",
    "summarize_columns(df, show_levels=True)"
   ]
  },
  {
   "cell_type": "code",
   "execution_count": 11,
   "id": "db5f5895",
   "metadata": {},
   "outputs": [
    {
     "data": {
      "image/png": "[encoded data removed]",
      "text/plain": [
       "<Figure size 1440x720 with 1 Axes>"
      ]
     },
     "metadata": {
      "needs_background": "light"
     },
     "output_type": "display_data"
    }
   ],
   "source": [
    "# Visual display of the distribution of the cluster labels\n",
    "plt.figure(figsize = (20,10))\n",
    "ax=sns.countplot(x = df['cluster_labels'], data = df)\n",
    "ax.set_title(\"Count for each Cluster Label\", fontsize = 20)\n",
    "plt.xlabel(\"Cluster Labels\",fontsize=17)\n",
    "plt.ylabel(\"Count\", fontsize=17)\n",
    "for p in ax.patches:\n",
    "    ax.annotate(f'\\n{p.get_height()}', (p.get_x()+0.2, p.get_height()), color='black', size=15, ha=\"center\")"
   ]
  },
  {
   "cell_type": "code",
   "execution_count": 12,
   "id": "adcf3ee6",
   "metadata": {},
   "outputs": [
    {
     "data": {
      "text/html": [
       "<div>\n",
       "<style scoped>\n",
       "    .dataframe tbody tr th:only-of-type {\n",
       "        vertical-align: middle;\n",
       "    }\n",
       "\n",
       "    .dataframe tbody tr th {\n",
       "        vertical-align: top;\n",
       "    }\n",
       "\n",
       "    .dataframe thead th {\n",
       "        text-align: right;\n",
       "    }\n",
       "</style>\n",
       "<table border=\"1\" class=\"dataframe\">\n",
       "  <thead>\n",
       "    <tr style=\"text-align: right;\">\n",
       "      <th></th>\n",
       "      <th>recency</th>\n",
       "      <th>monetary</th>\n",
       "      <th>lifespan</th>\n",
       "      <th>clv</th>\n",
       "      <th>cluster_labels</th>\n",
       "      <th>cluster_number</th>\n",
       "    </tr>\n",
       "    <tr>\n",
       "      <th>client_id</th>\n",
       "      <th></th>\n",
       "      <th></th>\n",
       "      <th></th>\n",
       "      <th></th>\n",
       "      <th></th>\n",
       "      <th></th>\n",
       "    </tr>\n",
       "  </thead>\n",
       "  <tbody>\n",
       "    <tr>\n",
       "      <th>1146680</th>\n",
       "      <td>0</td>\n",
       "      <td>11412</td>\n",
       "      <td>363</td>\n",
       "      <td>3450</td>\n",
       "      <td>loyal</td>\n",
       "      <td>4</td>\n",
       "    </tr>\n",
       "    <tr>\n",
       "      <th>1474013</th>\n",
       "      <td>0</td>\n",
       "      <td>90</td>\n",
       "      <td>0</td>\n",
       "      <td>30</td>\n",
       "      <td>potential_churner</td>\n",
       "      <td>2</td>\n",
       "    </tr>\n",
       "    <tr>\n",
       "      <th>816507</th>\n",
       "      <td>0</td>\n",
       "      <td>17730</td>\n",
       "      <td>363</td>\n",
       "      <td>4810</td>\n",
       "      <td>loyal</td>\n",
       "      <td>4</td>\n",
       "    </tr>\n",
       "    <tr>\n",
       "      <th>2051002</th>\n",
       "      <td>0</td>\n",
       "      <td>5149</td>\n",
       "      <td>132</td>\n",
       "      <td>600</td>\n",
       "      <td>potential_churner</td>\n",
       "      <td>2</td>\n",
       "    </tr>\n",
       "    <tr>\n",
       "      <th>224223</th>\n",
       "      <td>0</td>\n",
       "      <td>33042</td>\n",
       "      <td>361</td>\n",
       "      <td>6566</td>\n",
       "      <td>loyal</td>\n",
       "      <td>4</td>\n",
       "    </tr>\n",
       "  </tbody>\n",
       "</table>\n",
       "</div>"
      ],
      "text/plain": [
       "           recency  monetary  lifespan   clv     cluster_labels  \\\n",
       "client_id                                                         \n",
       "1146680          0     11412       363  3450              loyal   \n",
       "1474013          0        90         0    30  potential_churner   \n",
       "816507           0     17730       363  4810              loyal   \n",
       "2051002          0      5149       132   600  potential_churner   \n",
       "224223           0     33042       361  6566              loyal   \n",
       "\n",
       "           cluster_number  \n",
       "client_id                  \n",
       "1146680                 4  \n",
       "1474013                 2  \n",
       "816507                  4  \n",
       "2051002                 2  \n",
       "224223                  4  "
      ]
     },
     "execution_count": 12,
     "metadata": {},
     "output_type": "execute_result"
    }
   ],
   "source": [
    "# Defining function to number cluster labels accordingly\n",
    "def cluster_number(column):\n",
    "    if column['cluster_labels'] == 'churned':\n",
    "        return 1\n",
    "    if column['cluster_labels'] == 'potential_churner':\n",
    "        return 2\n",
    "    if column['cluster_labels'] == 'new_customers':\n",
    "        return 3\n",
    "    if column['cluster_labels'] == 'loyal':\n",
    "        return 4\n",
    "    \n",
    "df['cluster_number'] = df.apply (lambda column: cluster_number(column), axis=1)\n",
    "df.head()"
   ]
  },
  {
   "cell_type": "code",
   "execution_count": 13,
   "id": "5dbf651a",
   "metadata": {},
   "outputs": [
    {
     "data": {
      "text/plain": [
       "(128285, 6)"
      ]
     },
     "execution_count": 13,
     "metadata": {},
     "output_type": "execute_result"
    }
   ],
   "source": [
    "# Re-checking data shape to confirm no loss of data\n",
    "df.shape"
   ]
  },
  {
   "cell_type": "code",
   "execution_count": 14,
   "id": "d24bdd52",
   "metadata": {},
   "outputs": [
    {
     "data": {
      "text/html": [
       "<div>\n",
       "<style scoped>\n",
       "    .dataframe tbody tr th:only-of-type {\n",
       "        vertical-align: middle;\n",
       "    }\n",
       "\n",
       "    .dataframe tbody tr th {\n",
       "        vertical-align: top;\n",
       "    }\n",
       "\n",
       "    .dataframe thead th {\n",
       "        text-align: right;\n",
       "    }\n",
       "</style>\n",
       "<table border=\"1\" class=\"dataframe\">\n",
       "  <thead>\n",
       "    <tr style=\"text-align: right;\">\n",
       "      <th></th>\n",
       "      <th>recency</th>\n",
       "      <th>monetary</th>\n",
       "      <th>lifespan</th>\n",
       "      <th>clv</th>\n",
       "      <th>cluster_labels</th>\n",
       "      <th>cluster_number</th>\n",
       "    </tr>\n",
       "    <tr>\n",
       "      <th>client_id</th>\n",
       "      <th></th>\n",
       "      <th></th>\n",
       "      <th></th>\n",
       "      <th></th>\n",
       "      <th></th>\n",
       "      <th></th>\n",
       "    </tr>\n",
       "  </thead>\n",
       "  <tbody>\n",
       "    <tr>\n",
       "      <th>1146680</th>\n",
       "      <td>0</td>\n",
       "      <td>11412</td>\n",
       "      <td>363</td>\n",
       "      <td>3450</td>\n",
       "      <td>loyal</td>\n",
       "      <td>4</td>\n",
       "    </tr>\n",
       "    <tr>\n",
       "      <th>1474013</th>\n",
       "      <td>0</td>\n",
       "      <td>90</td>\n",
       "      <td>0</td>\n",
       "      <td>30</td>\n",
       "      <td>potential_churner</td>\n",
       "      <td>2</td>\n",
       "    </tr>\n",
       "    <tr>\n",
       "      <th>816507</th>\n",
       "      <td>0</td>\n",
       "      <td>17730</td>\n",
       "      <td>363</td>\n",
       "      <td>4810</td>\n",
       "      <td>loyal</td>\n",
       "      <td>4</td>\n",
       "    </tr>\n",
       "    <tr>\n",
       "      <th>2051002</th>\n",
       "      <td>0</td>\n",
       "      <td>5149</td>\n",
       "      <td>132</td>\n",
       "      <td>600</td>\n",
       "      <td>potential_churner</td>\n",
       "      <td>2</td>\n",
       "    </tr>\n",
       "    <tr>\n",
       "      <th>224223</th>\n",
       "      <td>0</td>\n",
       "      <td>33042</td>\n",
       "      <td>361</td>\n",
       "      <td>6566</td>\n",
       "      <td>loyal</td>\n",
       "      <td>4</td>\n",
       "    </tr>\n",
       "  </tbody>\n",
       "</table>\n",
       "</div>"
      ],
      "text/plain": [
       "           recency  monetary  lifespan   clv     cluster_labels  \\\n",
       "client_id                                                         \n",
       "1146680          0     11412       363  3450              loyal   \n",
       "1474013          0        90         0    30  potential_churner   \n",
       "816507           0     17730       363  4810              loyal   \n",
       "2051002          0      5149       132   600  potential_churner   \n",
       "224223           0     33042       361  6566              loyal   \n",
       "\n",
       "           cluster_number  \n",
       "client_id                  \n",
       "1146680                 4  \n",
       "1474013                 2  \n",
       "816507                  4  \n",
       "2051002                 2  \n",
       "224223                  4  "
      ]
     },
     "execution_count": 14,
     "metadata": {},
     "output_type": "execute_result"
    }
   ],
   "source": [
    "# Copying the dataset\n",
    "dfc = df.copy()\n",
    "dfc.head()"
   ]
  },
  {
   "cell_type": "code",
   "execution_count": 15,
   "id": "2a7bfd52",
   "metadata": {},
   "outputs": [
    {
     "data": {
      "text/html": [
       "<div>\n",
       "<style scoped>\n",
       "    .dataframe tbody tr th:only-of-type {\n",
       "        vertical-align: middle;\n",
       "    }\n",
       "\n",
       "    .dataframe tbody tr th {\n",
       "        vertical-align: top;\n",
       "    }\n",
       "\n",
       "    .dataframe thead th {\n",
       "        text-align: right;\n",
       "    }\n",
       "</style>\n",
       "<table border=\"1\" class=\"dataframe\">\n",
       "  <thead>\n",
       "    <tr style=\"text-align: right;\">\n",
       "      <th></th>\n",
       "      <th>recency</th>\n",
       "      <th>monetary</th>\n",
       "      <th>lifespan</th>\n",
       "      <th>clv</th>\n",
       "    </tr>\n",
       "    <tr>\n",
       "      <th>client_id</th>\n",
       "      <th></th>\n",
       "      <th></th>\n",
       "      <th></th>\n",
       "      <th></th>\n",
       "    </tr>\n",
       "  </thead>\n",
       "  <tbody>\n",
       "    <tr>\n",
       "      <th>1474013</th>\n",
       "      <td>0</td>\n",
       "      <td>90</td>\n",
       "      <td>0</td>\n",
       "      <td>30</td>\n",
       "    </tr>\n",
       "    <tr>\n",
       "      <th>2051002</th>\n",
       "      <td>0</td>\n",
       "      <td>5149</td>\n",
       "      <td>132</td>\n",
       "      <td>600</td>\n",
       "    </tr>\n",
       "    <tr>\n",
       "      <th>816252</th>\n",
       "      <td>0</td>\n",
       "      <td>2051</td>\n",
       "      <td>47</td>\n",
       "      <td>525</td>\n",
       "    </tr>\n",
       "    <tr>\n",
       "      <th>224301</th>\n",
       "      <td>0</td>\n",
       "      <td>5962</td>\n",
       "      <td>75</td>\n",
       "      <td>880</td>\n",
       "    </tr>\n",
       "    <tr>\n",
       "      <th>1474574</th>\n",
       "      <td>0</td>\n",
       "      <td>2396</td>\n",
       "      <td>67</td>\n",
       "      <td>1064</td>\n",
       "    </tr>\n",
       "  </tbody>\n",
       "</table>\n",
       "</div>"
      ],
      "text/plain": [
       "           recency  monetary  lifespan   clv\n",
       "client_id                                   \n",
       "1474013          0        90         0    30\n",
       "2051002          0      5149       132   600\n",
       "816252           0      2051        47   525\n",
       "224301           0      5962        75   880\n",
       "1474574          0      2396        67  1064"
      ]
     },
     "execution_count": 15,
     "metadata": {},
     "output_type": "execute_result"
    }
   ],
   "source": [
    "# Extracting the potential churners from the master dataset and creating a separate dataset that will be used to simulate\n",
    "# real-life unseen data for customer churn predictions.\n",
    "\n",
    "# We first have to change the data types into strings in order to be able to manipulate the columns as required\n",
    "df['cluster_labels'] = df['cluster_labels'].astype(str)\n",
    "# Locating and extracting all the information for potential churners\n",
    "potential_churners = df.loc[(df['cluster_labels'] == 'potential_churner')]\n",
    "# Saving and copying the extracted information into a new dataframe\n",
    "topredict = potential_churners.copy()\n",
    "# Dropping the cluster_labels & cluster_number column as we only need the dependent features for use later on upon \n",
    "# finalising our classifictaion model\n",
    "topredict = topredict.drop(['cluster_labels','cluster_number'], axis=1)\n",
    "topredict.head()"
   ]
  },
  {
   "cell_type": "code",
   "execution_count": 16,
   "id": "b1222e33",
   "metadata": {
    "scrolled": true
   },
   "outputs": [
    {
     "data": {
      "text/html": [
       "<div>\n",
       "<style scoped>\n",
       "    .dataframe tbody tr th:only-of-type {\n",
       "        vertical-align: middle;\n",
       "    }\n",
       "\n",
       "    .dataframe tbody tr th {\n",
       "        vertical-align: top;\n",
       "    }\n",
       "\n",
       "    .dataframe thead th {\n",
       "        text-align: right;\n",
       "    }\n",
       "</style>\n",
       "<table border=\"1\" class=\"dataframe\">\n",
       "  <thead>\n",
       "    <tr style=\"text-align: right;\">\n",
       "      <th></th>\n",
       "      <th>recency</th>\n",
       "      <th>monetary</th>\n",
       "      <th>lifespan</th>\n",
       "      <th>clv</th>\n",
       "      <th>cluster_number</th>\n",
       "    </tr>\n",
       "    <tr>\n",
       "      <th>client_id</th>\n",
       "      <th></th>\n",
       "      <th></th>\n",
       "      <th></th>\n",
       "      <th></th>\n",
       "      <th></th>\n",
       "    </tr>\n",
       "  </thead>\n",
       "  <tbody>\n",
       "    <tr>\n",
       "      <th>1146680</th>\n",
       "      <td>0</td>\n",
       "      <td>11412</td>\n",
       "      <td>363</td>\n",
       "      <td>3450</td>\n",
       "      <td>4</td>\n",
       "    </tr>\n",
       "    <tr>\n",
       "      <th>1474013</th>\n",
       "      <td>0</td>\n",
       "      <td>90</td>\n",
       "      <td>0</td>\n",
       "      <td>30</td>\n",
       "      <td>2</td>\n",
       "    </tr>\n",
       "    <tr>\n",
       "      <th>816507</th>\n",
       "      <td>0</td>\n",
       "      <td>17730</td>\n",
       "      <td>363</td>\n",
       "      <td>4810</td>\n",
       "      <td>4</td>\n",
       "    </tr>\n",
       "    <tr>\n",
       "      <th>2051002</th>\n",
       "      <td>0</td>\n",
       "      <td>5149</td>\n",
       "      <td>132</td>\n",
       "      <td>600</td>\n",
       "      <td>2</td>\n",
       "    </tr>\n",
       "    <tr>\n",
       "      <th>224223</th>\n",
       "      <td>0</td>\n",
       "      <td>33042</td>\n",
       "      <td>361</td>\n",
       "      <td>6566</td>\n",
       "      <td>4</td>\n",
       "    </tr>\n",
       "  </tbody>\n",
       "</table>\n",
       "</div>"
      ],
      "text/plain": [
       "           recency  monetary  lifespan   clv  cluster_number\n",
       "client_id                                                   \n",
       "1146680          0     11412       363  3450               4\n",
       "1474013          0        90         0    30               2\n",
       "816507           0     17730       363  4810               4\n",
       "2051002          0      5149       132   600               2\n",
       "224223           0     33042       361  6566               4"
      ]
     },
     "execution_count": 16,
     "metadata": {},
     "output_type": "execute_result"
    }
   ],
   "source": [
    "# Dropping recency and cluster_labels from the master dataset. We will be using 1/Recency column and the cluster numbers instead.\n",
    "df = df.drop(['cluster_labels'], axis=1)\n",
    "df.head()"
   ]
  },
  {
   "cell_type": "code",
   "execution_count": 17,
   "id": "08f4feee",
   "metadata": {},
   "outputs": [
    {
     "data": {
      "text/plain": [
       "1    55669\n",
       "2    33956\n",
       "3    20912\n",
       "4    17748\n",
       "Name: cluster_number, dtype: int64"
      ]
     },
     "execution_count": 17,
     "metadata": {},
     "output_type": "execute_result"
    }
   ],
   "source": [
    "# Checking the count for each cluster number\n",
    "df.cluster_number.value_counts()"
   ]
  },
  {
   "cell_type": "code",
   "execution_count": 18,
   "id": "06937256",
   "metadata": {},
   "outputs": [
    {
     "data": {
      "text/plain": [
       "1    55669\n",
       "3    20912\n",
       "4    17748\n",
       "Name: cluster_number, dtype: int64"
      ]
     },
     "execution_count": 18,
     "metadata": {},
     "output_type": "execute_result"
    }
   ],
   "source": [
    "# Only keeping information pertaining to cluster numbers 1,3,4 and excluding 2 since it represents the potential churners, the\n",
    "# information of which we extracted and saved previously\n",
    "df2 = df[df.cluster_number != 2]\n",
    "df2.cluster_number.value_counts()"
   ]
  },
  {
   "cell_type": "code",
   "execution_count": 19,
   "id": "fb389f7e",
   "metadata": {},
   "outputs": [
    {
     "data": {
      "text/html": [
       "<div>\n",
       "<style scoped>\n",
       "    .dataframe tbody tr th:only-of-type {\n",
       "        vertical-align: middle;\n",
       "    }\n",
       "\n",
       "    .dataframe tbody tr th {\n",
       "        vertical-align: top;\n",
       "    }\n",
       "\n",
       "    .dataframe thead th {\n",
       "        text-align: right;\n",
       "    }\n",
       "</style>\n",
       "<table border=\"1\" class=\"dataframe\">\n",
       "  <thead>\n",
       "    <tr style=\"text-align: right;\">\n",
       "      <th></th>\n",
       "      <th>recency</th>\n",
       "      <th>monetary</th>\n",
       "      <th>lifespan</th>\n",
       "      <th>clv</th>\n",
       "      <th>cluster_number</th>\n",
       "      <th>churned</th>\n",
       "    </tr>\n",
       "    <tr>\n",
       "      <th>client_id</th>\n",
       "      <th></th>\n",
       "      <th></th>\n",
       "      <th></th>\n",
       "      <th></th>\n",
       "      <th></th>\n",
       "      <th></th>\n",
       "    </tr>\n",
       "  </thead>\n",
       "  <tbody>\n",
       "    <tr>\n",
       "      <th>1146680</th>\n",
       "      <td>0</td>\n",
       "      <td>11412</td>\n",
       "      <td>363</td>\n",
       "      <td>3450</td>\n",
       "      <td>4</td>\n",
       "      <td>0</td>\n",
       "    </tr>\n",
       "    <tr>\n",
       "      <th>816507</th>\n",
       "      <td>0</td>\n",
       "      <td>17730</td>\n",
       "      <td>363</td>\n",
       "      <td>4810</td>\n",
       "      <td>4</td>\n",
       "      <td>0</td>\n",
       "    </tr>\n",
       "    <tr>\n",
       "      <th>224223</th>\n",
       "      <td>0</td>\n",
       "      <td>33042</td>\n",
       "      <td>361</td>\n",
       "      <td>6566</td>\n",
       "      <td>4</td>\n",
       "      <td>0</td>\n",
       "    </tr>\n",
       "    <tr>\n",
       "      <th>1474305</th>\n",
       "      <td>0</td>\n",
       "      <td>1290</td>\n",
       "      <td>222</td>\n",
       "      <td>245</td>\n",
       "      <td>1</td>\n",
       "      <td>1</td>\n",
       "    </tr>\n",
       "    <tr>\n",
       "      <th>2050789</th>\n",
       "      <td>0</td>\n",
       "      <td>6746</td>\n",
       "      <td>346</td>\n",
       "      <td>2844</td>\n",
       "      <td>1</td>\n",
       "      <td>1</td>\n",
       "    </tr>\n",
       "  </tbody>\n",
       "</table>\n",
       "</div>"
      ],
      "text/plain": [
       "           recency  monetary  lifespan   clv  cluster_number  churned\n",
       "client_id                                                            \n",
       "1146680          0     11412       363  3450               4        0\n",
       "816507           0     17730       363  4810               4        0\n",
       "224223           0     33042       361  6566               4        0\n",
       "1474305          0      1290       222   245               1        1\n",
       "2050789          0      6746       346  2844               1        1"
      ]
     },
     "execution_count": 19,
     "metadata": {},
     "output_type": "execute_result"
    }
   ],
   "source": [
    "# Defining a function that will create the our binary target churn variable {Churned: 1, Not churned: 0}\n",
    "def churners(column):\n",
    "    if column['cluster_number'] == 3:\n",
    "        return 0\n",
    "    if column['cluster_number'] == 4:\n",
    "        return 0\n",
    "    else:\n",
    "        return 1 \n",
    "    \n",
    "df2['churned'] = df2.apply (lambda column: churners(column), axis=1)\n",
    "df2.head()"
   ]
  },
  {
   "cell_type": "code",
   "execution_count": 20,
   "id": "67fada9d",
   "metadata": {},
   "outputs": [
    {
     "data": {
      "text/html": [
       "<div>\n",
       "<style scoped>\n",
       "    .dataframe tbody tr th:only-of-type {\n",
       "        vertical-align: middle;\n",
       "    }\n",
       "\n",
       "    .dataframe tbody tr th {\n",
       "        vertical-align: top;\n",
       "    }\n",
       "\n",
       "    .dataframe thead th {\n",
       "        text-align: right;\n",
       "    }\n",
       "</style>\n",
       "<table border=\"1\" class=\"dataframe\">\n",
       "  <thead>\n",
       "    <tr style=\"text-align: right;\">\n",
       "      <th></th>\n",
       "      <th>recency</th>\n",
       "      <th>monetary</th>\n",
       "      <th>lifespan</th>\n",
       "      <th>clv</th>\n",
       "      <th>churned</th>\n",
       "    </tr>\n",
       "    <tr>\n",
       "      <th>client_id</th>\n",
       "      <th></th>\n",
       "      <th></th>\n",
       "      <th></th>\n",
       "      <th></th>\n",
       "      <th></th>\n",
       "    </tr>\n",
       "  </thead>\n",
       "  <tbody>\n",
       "    <tr>\n",
       "      <th>1146680</th>\n",
       "      <td>0</td>\n",
       "      <td>11412</td>\n",
       "      <td>363</td>\n",
       "      <td>3450</td>\n",
       "      <td>0</td>\n",
       "    </tr>\n",
       "    <tr>\n",
       "      <th>816507</th>\n",
       "      <td>0</td>\n",
       "      <td>17730</td>\n",
       "      <td>363</td>\n",
       "      <td>4810</td>\n",
       "      <td>0</td>\n",
       "    </tr>\n",
       "    <tr>\n",
       "      <th>224223</th>\n",
       "      <td>0</td>\n",
       "      <td>33042</td>\n",
       "      <td>361</td>\n",
       "      <td>6566</td>\n",
       "      <td>0</td>\n",
       "    </tr>\n",
       "    <tr>\n",
       "      <th>1474305</th>\n",
       "      <td>0</td>\n",
       "      <td>1290</td>\n",
       "      <td>222</td>\n",
       "      <td>245</td>\n",
       "      <td>1</td>\n",
       "    </tr>\n",
       "    <tr>\n",
       "      <th>2050789</th>\n",
       "      <td>0</td>\n",
       "      <td>6746</td>\n",
       "      <td>346</td>\n",
       "      <td>2844</td>\n",
       "      <td>1</td>\n",
       "    </tr>\n",
       "  </tbody>\n",
       "</table>\n",
       "</div>"
      ],
      "text/plain": [
       "           recency  monetary  lifespan   clv  churned\n",
       "client_id                                            \n",
       "1146680          0     11412       363  3450        0\n",
       "816507           0     17730       363  4810        0\n",
       "224223           0     33042       361  6566        0\n",
       "1474305          0      1290       222   245        1\n",
       "2050789          0      6746       346  2844        1"
      ]
     },
     "execution_count": 20,
     "metadata": {},
     "output_type": "execute_result"
    }
   ],
   "source": [
    "# Dropping the cluster_number column since we do not need it anymore\n",
    "df2 = df2.drop(['cluster_number'], axis=1)\n",
    "df2.head()"
   ]
  },
  {
   "cell_type": "code",
   "execution_count": 21,
   "id": "d81810c5",
   "metadata": {},
   "outputs": [
    {
     "data": {
      "text/plain": [
       "[Text(0, 0, '55669'), Text(0, 0, '38660')]"
      ]
     },
     "execution_count": 21,
     "metadata": {},
     "output_type": "execute_result"
    },
    {
     "data": {
      "image/png": "[encoded data removed]",
      "text/plain": [
       "<Figure size 432x288 with 1 Axes>"
      ]
     },
     "metadata": {
      "needs_background": "light"
     },
     "output_type": "display_data"
    }
   ],
   "source": [
    "# Checking the count for each class for the target variable\n",
    "ax = sns.countplot(x=df2['churned'],\n",
    "                   order=df2['churned'].value_counts(ascending=False).index);\n",
    "abs_values = df2['churned'].value_counts(ascending=False).values\n",
    "ax.bar_label(container=ax.containers[0], labels=abs_values)"
   ]
  },
  {
   "cell_type": "code",
   "execution_count": 22,
   "id": "b6a8af9a",
   "metadata": {},
   "outputs": [
    {
     "data": {
      "image/png": "[encoded data removed]",
      "text/plain": [
       "<Figure size 720x504 with 2 Axes>"
      ]
     },
     "metadata": {
      "needs_background": "light"
     },
     "output_type": "display_data"
    }
   ],
   "source": [
    "# Calculating pairwise-correlation between the features\n",
    "matrix = df2.corr()\n",
    "\n",
    "# Create a mask\n",
    "mask = np.triu(np.ones_like(matrix, dtype=bool))\n",
    "\n",
    "# Create a custom divergin palette\n",
    "cmap = sns.diverging_palette(250, 15, s=75, l=40,\n",
    "                            n=9, center=\"light\", as_cmap=True)\n",
    "\n",
    "plt.figure(figsize=(10, 7))\n",
    "sns.heatmap(matrix, mask=mask, center=0, annot=True,\n",
    "            fmt='.2f', square=True, cmap=cmap)\n",
    "\n",
    "plt.show();"
   ]
  },
  {
   "cell_type": "markdown",
   "id": "c93b97f3",
   "metadata": {},
   "source": [
    "From the correlation matrix we can see that monetary and clv features are highly correlated. We need to avoid strong correlation between our dependent features since correlated features do not improve machine learning models. Thus, we will proceed with dropping the monetary variable. The reason being that customer lifetime value (clv) contains more significant and deterministic information to train our model for churn prediction. This monetary feature will also be dropped in our topredict dataset."
   ]
  },
  {
   "cell_type": "code",
   "execution_count": 23,
   "id": "e84341cb",
   "metadata": {},
   "outputs": [],
   "source": [
    "# Dropping the Monetary feature in the master and topredict dataset.\n",
    "df2 = df2.drop(['monetary'], axis=1)\n",
    "topredict = topredict.drop(['monetary'], axis=1)"
   ]
  },
  {
   "cell_type": "code",
   "execution_count": 24,
   "id": "1ca91657",
   "metadata": {},
   "outputs": [
    {
     "data": {
      "text/html": [
       "<div>\n",
       "<style scoped>\n",
       "    .dataframe tbody tr th:only-of-type {\n",
       "        vertical-align: middle;\n",
       "    }\n",
       "\n",
       "    .dataframe tbody tr th {\n",
       "        vertical-align: top;\n",
       "    }\n",
       "\n",
       "    .dataframe thead th {\n",
       "        text-align: right;\n",
       "    }\n",
       "</style>\n",
       "<table border=\"1\" class=\"dataframe\">\n",
       "  <thead>\n",
       "    <tr style=\"text-align: right;\">\n",
       "      <th></th>\n",
       "      <th>recency</th>\n",
       "      <th>lifespan</th>\n",
       "      <th>clv</th>\n",
       "      <th>churned</th>\n",
       "    </tr>\n",
       "    <tr>\n",
       "      <th>client_id</th>\n",
       "      <th></th>\n",
       "      <th></th>\n",
       "      <th></th>\n",
       "      <th></th>\n",
       "    </tr>\n",
       "  </thead>\n",
       "  <tbody>\n",
       "    <tr>\n",
       "      <th>1146680</th>\n",
       "      <td>0</td>\n",
       "      <td>363</td>\n",
       "      <td>3450</td>\n",
       "      <td>0</td>\n",
       "    </tr>\n",
       "    <tr>\n",
       "      <th>816507</th>\n",
       "      <td>0</td>\n",
       "      <td>363</td>\n",
       "      <td>4810</td>\n",
       "      <td>0</td>\n",
       "    </tr>\n",
       "    <tr>\n",
       "      <th>224223</th>\n",
       "      <td>0</td>\n",
       "      <td>361</td>\n",
       "      <td>6566</td>\n",
       "      <td>0</td>\n",
       "    </tr>\n",
       "    <tr>\n",
       "      <th>1474305</th>\n",
       "      <td>0</td>\n",
       "      <td>222</td>\n",
       "      <td>245</td>\n",
       "      <td>1</td>\n",
       "    </tr>\n",
       "    <tr>\n",
       "      <th>2050789</th>\n",
       "      <td>0</td>\n",
       "      <td>346</td>\n",
       "      <td>2844</td>\n",
       "      <td>1</td>\n",
       "    </tr>\n",
       "  </tbody>\n",
       "</table>\n",
       "</div>"
      ],
      "text/plain": [
       "           recency  lifespan   clv  churned\n",
       "client_id                                  \n",
       "1146680          0       363  3450        0\n",
       "816507           0       363  4810        0\n",
       "224223           0       361  6566        0\n",
       "1474305          0       222   245        1\n",
       "2050789          0       346  2844        1"
      ]
     },
     "execution_count": 24,
     "metadata": {},
     "output_type": "execute_result"
    }
   ],
   "source": [
    "df2.head()"
   ]
  },
  {
   "cell_type": "code",
   "execution_count": 25,
   "id": "b054e8cd",
   "metadata": {},
   "outputs": [
    {
     "data": {
      "text/plain": [
       "(94329, 4)"
      ]
     },
     "execution_count": 25,
     "metadata": {},
     "output_type": "execute_result"
    }
   ],
   "source": [
    "df2.shape"
   ]
  },
  {
   "cell_type": "code",
   "execution_count": 26,
   "id": "3d9a46b6",
   "metadata": {},
   "outputs": [
    {
     "data": {
      "text/html": [
       "<div>\n",
       "<style scoped>\n",
       "    .dataframe tbody tr th:only-of-type {\n",
       "        vertical-align: middle;\n",
       "    }\n",
       "\n",
       "    .dataframe tbody tr th {\n",
       "        vertical-align: top;\n",
       "    }\n",
       "\n",
       "    .dataframe thead th {\n",
       "        text-align: right;\n",
       "    }\n",
       "</style>\n",
       "<table border=\"1\" class=\"dataframe\">\n",
       "  <thead>\n",
       "    <tr style=\"text-align: right;\">\n",
       "      <th></th>\n",
       "      <th>recency</th>\n",
       "      <th>lifespan</th>\n",
       "      <th>clv</th>\n",
       "    </tr>\n",
       "    <tr>\n",
       "      <th>client_id</th>\n",
       "      <th></th>\n",
       "      <th></th>\n",
       "      <th></th>\n",
       "    </tr>\n",
       "  </thead>\n",
       "  <tbody>\n",
       "    <tr>\n",
       "      <th>1474013</th>\n",
       "      <td>0</td>\n",
       "      <td>0</td>\n",
       "      <td>30</td>\n",
       "    </tr>\n",
       "    <tr>\n",
       "      <th>2051002</th>\n",
       "      <td>0</td>\n",
       "      <td>132</td>\n",
       "      <td>600</td>\n",
       "    </tr>\n",
       "    <tr>\n",
       "      <th>816252</th>\n",
       "      <td>0</td>\n",
       "      <td>47</td>\n",
       "      <td>525</td>\n",
       "    </tr>\n",
       "    <tr>\n",
       "      <th>224301</th>\n",
       "      <td>0</td>\n",
       "      <td>75</td>\n",
       "      <td>880</td>\n",
       "    </tr>\n",
       "    <tr>\n",
       "      <th>1474574</th>\n",
       "      <td>0</td>\n",
       "      <td>67</td>\n",
       "      <td>1064</td>\n",
       "    </tr>\n",
       "  </tbody>\n",
       "</table>\n",
       "</div>"
      ],
      "text/plain": [
       "           recency  lifespan   clv\n",
       "client_id                         \n",
       "1474013          0         0    30\n",
       "2051002          0       132   600\n",
       "816252           0        47   525\n",
       "224301           0        75   880\n",
       "1474574          0        67  1064"
      ]
     },
     "execution_count": 26,
     "metadata": {},
     "output_type": "execute_result"
    }
   ],
   "source": [
    "topredict.head()"
   ]
  },
  {
   "cell_type": "code",
   "execution_count": 27,
   "id": "f147b4f7",
   "metadata": {},
   "outputs": [
    {
     "data": {
      "text/plain": [
       "(33956, 3)"
      ]
     },
     "execution_count": 27,
     "metadata": {},
     "output_type": "execute_result"
    }
   ],
   "source": [
    "topredict.shape"
   ]
  },
  {
   "cell_type": "markdown",
   "id": "d67faa1e",
   "metadata": {},
   "source": [
    "## Split the dataset into dependent and independent variables, and then perform numerical feature scaling."
   ]
  },
  {
   "cell_type": "code",
   "execution_count": 28,
   "id": "0f4114fe",
   "metadata": {},
   "outputs": [],
   "source": [
    "# Separate the dataset into X and y values. \n",
    "# y wil be the ‘Churn’ column whilst x contains the remaining list of independent variables in the master dataset.\n",
    "x = df2.iloc[:, :-1]\n",
    "y = df2['churned']"
   ]
  },
  {
   "cell_type": "code",
   "execution_count": 29,
   "id": "487f8f57",
   "metadata": {},
   "outputs": [
    {
     "data": {
      "text/plain": [
       "(94329, 3)"
      ]
     },
     "execution_count": 29,
     "metadata": {},
     "output_type": "execute_result"
    }
   ],
   "source": [
    "x.shape"
   ]
  },
  {
   "cell_type": "code",
   "execution_count": 30,
   "id": "da774454",
   "metadata": {},
   "outputs": [
    {
     "data": {
      "text/plain": [
       "(94329,)"
      ]
     },
     "execution_count": 30,
     "metadata": {},
     "output_type": "execute_result"
    }
   ],
   "source": [
    "y.shape"
   ]
  },
  {
   "cell_type": "code",
   "execution_count": 31,
   "id": "137f6613",
   "metadata": {},
   "outputs": [
    {
     "data": {
      "text/plain": [
       "[(75463, 3), (75463,), (18866, 3), (18866,)]"
      ]
     },
     "execution_count": 31,
     "metadata": {},
     "output_type": "execute_result"
    }
   ],
   "source": [
    "# Generate training and test datasets by decoupling the master dataset into training and test set with an 80%-20% ratio.\n",
    "x_train, x_test, y_train, y_test = train_test_split(x,y,test_size = 0.2,random_state=0)\n",
    "list(map(lambda x: x.shape, [x_train, y_train, x_test, y_test]))"
   ]
  },
  {
   "cell_type": "code",
   "execution_count": 32,
   "id": "c4c909f0",
   "metadata": {},
   "outputs": [],
   "source": [
    "# Scaling the numerical features so that all the training and test variables are scaled within a range of 0 to 1.\n",
    "scaler = StandardScaler()\n",
    "\n",
    "numerical_cols = ['recency','lifespan','clv']\n",
    "\n",
    "x_train[numerical_cols] = scaler.fit_transform(x_train[numerical_cols])\n",
    "x_test[numerical_cols] = scaler.fit_transform(x_test[numerical_cols])"
   ]
  },
  {
   "cell_type": "code",
   "execution_count": 33,
   "id": "cc5a24da",
   "metadata": {},
   "outputs": [
    {
     "name": "stdout",
     "output_type": "stream",
     "text": [
      "            recency  lifespan       clv\n",
      "client_id                              \n",
      "2006474    2.690826 -1.939257 -0.809047\n",
      "1871451   -0.762951  0.870470  0.126075\n",
      "894623     0.480791 -0.153413 -0.011255\n",
      "1662931    0.232043 -0.058168 -0.806719\n",
      "1936186   -0.724682 -0.201036 -0.365053\n",
      "(75463, 3)\n"
     ]
    }
   ],
   "source": [
    "print(x_train.head())\n",
    "print(x_train.shape)"
   ]
  },
  {
   "cell_type": "code",
   "execution_count": 34,
   "id": "56c43b5b",
   "metadata": {},
   "outputs": [
    {
     "name": "stdout",
     "output_type": "stream",
     "text": [
      "client_id\n",
      "2006474    0\n",
      "1871451    0\n",
      "894623     1\n",
      "1662931    1\n",
      "1936186    1\n",
      "Name: churned, dtype: int64\n",
      "(75463,)\n"
     ]
    }
   ],
   "source": [
    "print(y_train.head())\n",
    "print(y_train.shape)"
   ]
  },
  {
   "cell_type": "markdown",
   "id": "9825d0c6",
   "metadata": {},
   "source": [
    "# Model Selection"
   ]
  },
  {
   "cell_type": "markdown",
   "id": "3b72d5de",
   "metadata": {},
   "source": [
    "Classification accuracy is one of the most common classification evaluation metrics to compare baseline algorithms as it is the number of correct predictions made as a ratio of total predictions. The following classification algorithms were modelled over the training dataset, with their respective evaluation metrics for the first iteration. These include:\n",
    "\n",
    "1) Logistic Regression\n",
    "2) SVM Linear\n",
    "3) K-Nearest Neighbour\n",
    "4) SVM RBF\n",
    "5) Naive Bayes\n",
    "6) Decision Tree\n",
    "7) Random Forest\n",
    "8) Bagging Classifier"
   ]
  },
  {
   "cell_type": "code",
   "execution_count": 35,
   "id": "51327195",
   "metadata": {},
   "outputs": [
    {
     "data": {
      "text/plain": [
       "1    44518\n",
       "0    30945\n",
       "Name: churned, dtype: int64"
      ]
     },
     "execution_count": 35,
     "metadata": {},
     "output_type": "execute_result"
    }
   ],
   "source": [
    "y_train.value_counts()"
   ]
  },
  {
   "cell_type": "code",
   "execution_count": 36,
   "id": "770fa9b2",
   "metadata": {},
   "outputs": [
    {
     "name": "stdout",
     "output_type": "stream",
     "text": [
      "                 Model  Accuracy  Precision    Recall  F1 Score  F2 Score\n",
      "0  Logistic Regression  0.924785   0.926618  0.947807  0.937093  0.943492\n"
     ]
    }
   ],
   "source": [
    "# Fitting Logistic Regression to the Training set\n",
    "classifier_lr = LogisticRegression(random_state = 0)\n",
    "classifier_lr.fit(x_train, y_train)\n",
    "# Predicting the Test set results\n",
    "y_pred = classifier_lr.predict(x_test)\n",
    "#Evaluate results\n",
    "acc = accuracy_score(y_test, y_pred )\n",
    "prec = precision_score(y_test, y_pred )\n",
    "rec = recall_score(y_test, y_pred )\n",
    "f1 = f1_score(y_test, y_pred )\n",
    "f2 = fbeta_score(y_test, y_pred, beta=2.0)\n",
    "results = pd.DataFrame([['Logistic Regression', \n",
    "acc, prec, rec, f1, f2]], columns = ['Model', \n",
    "'Accuracy', 'Precision', 'Recall', 'F1 Score', \n",
    "'F2 Score'])\n",
    "results = results.sort_values([\"Precision\", \n",
    "\"Recall\", \"F2 Score\"], ascending = False)\n",
    "print (results)"
   ]
  },
  {
   "cell_type": "code",
   "execution_count": 37,
   "id": "3d511809",
   "metadata": {},
   "outputs": [
    {
     "name": "stdout",
     "output_type": "stream",
     "text": [
      "                 Model  Accuracy  Precision    Recall  F1 Score  F2 Score\n",
      "0  Logistic Regression  0.924785   0.926618  0.947807  0.937093  0.943492\n",
      "1         SVM (Linear)  0.924785   0.926618  0.947807  0.937093  0.943492\n"
     ]
    }
   ],
   "source": [
    "# Fitting SVM (SVC class) to the Training set\n",
    "classifier_svm_linear = SVC(kernel = 'linear', random_state = 0)\n",
    "classifier_svm_linear.fit(x_train, y_train)\n",
    "# Predicting the Test set results y_pred = classifier.predict(X_test)\n",
    "#Evaluate results\n",
    "acc = accuracy_score(y_test, y_pred )\n",
    "prec = precision_score(y_test, y_pred )\n",
    "rec = recall_score(y_test, y_pred)\n",
    "f1 = f1_score(y_test, y_pred )\n",
    "f2 = fbeta_score(y_test, y_pred, beta=2.0)\n",
    "model_results = pd.DataFrame(\n",
    "[['SVM (Linear)', acc, prec, rec, f1, f2]],\n",
    "columns = ['Model', 'Accuracy', 'Precision', \n",
    "'Recall', 'F1 Score', 'F2 Score'])\n",
    "results = results.append(model_results, ignore_index = True)\n",
    "results = results.sort_values([\"Precision\", \n",
    "\"Recall\", \"F2 Score\"], ascending = False)\n",
    "print (results)"
   ]
  },
  {
   "cell_type": "code",
   "execution_count": 38,
   "id": "fc8d172e",
   "metadata": {},
   "outputs": [
    {
     "name": "stdout",
     "output_type": "stream",
     "text": [
      "                  Model  Accuracy  Precision    Recall  F1 Score  F2 Score\n",
      "2  K-Nearest Neighbours  0.942012   0.946620  0.955789  0.951183  0.953941\n",
      "0   Logistic Regression  0.924785   0.926618  0.947807  0.937093  0.943492\n",
      "1          SVM (Linear)  0.924785   0.926618  0.947807  0.937093  0.943492\n"
     ]
    }
   ],
   "source": [
    "# Fitting KNN to the Training set:\n",
    "classifier_knn = KNeighborsClassifier(\n",
    "n_neighbors = 22, \n",
    "metric = 'minkowski', p = 2)\n",
    "classifier_knn.fit(x_train, y_train)\n",
    "# Predicting the Test set results \n",
    "y_pred  = classifier_knn.predict(x_test)\n",
    "#Evaluate results\n",
    "acc = accuracy_score(y_test, y_pred )\n",
    "prec = precision_score(y_test, y_pred )\n",
    "rec = recall_score(y_test, y_pred )\n",
    "f1 = f1_score(y_test, y_pred )\n",
    "f2 = fbeta_score(y_test, y_pred, beta=2.0)\n",
    "model_results = pd.DataFrame([['K-Nearest Neighbours', \n",
    "acc, prec, rec, f1, f2]], columns = ['Model',\n",
    " 'Accuracy', 'Precision', 'Recall',\n",
    " 'F1 Score', 'F2 Score'])\n",
    "results = results.append(model_results, ignore_index = True)\n",
    "results = results.sort_values([\"Precision\", \n",
    "\"Recall\", \"F2 Score\"], ascending = False)\n",
    "print (results)"
   ]
  },
  {
   "cell_type": "code",
   "execution_count": 39,
   "id": "f48db679",
   "metadata": {},
   "outputs": [
    {
     "name": "stdout",
     "output_type": "stream",
     "text": [
      "                  Model  Accuracy  Precision    Recall  F1 Score  F2 Score\n",
      "0  K-Nearest Neighbours  0.942012   0.946620  0.955789  0.951183  0.953941\n",
      "3               SVM RBF  0.942012   0.946620  0.955789  0.951183  0.953941\n",
      "1   Logistic Regression  0.924785   0.926618  0.947807  0.937093  0.943492\n",
      "2          SVM (Linear)  0.924785   0.926618  0.947807  0.937093  0.943492\n"
     ]
    }
   ],
   "source": [
    "# Fitting Kernel SVM to the Training set:\n",
    "classifier_svm_rbf = SVC(kernel = 'rbf', random_state = 0)\n",
    "classifier_svm_rbf.fit(x_train, y_train)\n",
    "# Predicting the Test set results \n",
    "y_pred_svm = classifier_svm_rbf.predict(x_test)\n",
    "#Evaluate results\n",
    "acc = accuracy_score(y_test, y_pred )\n",
    "prec = precision_score(y_test, y_pred )\n",
    "rec = recall_score(y_test, y_pred )\n",
    "f1 = f1_score(y_test, y_pred )\n",
    "f2 = fbeta_score(y_test, y_pred, beta=2.0)\n",
    "model_results = pd.DataFrame([[\n",
    "'SVM RBF', acc, prec, rec, f1, f2]],\n",
    "columns = ['Model', 'Accuracy', 'Precision', \n",
    "'Recall', 'F1 Score', 'F2 Score'])\n",
    "results = results.append(model_results, ignore_index = True)\n",
    "results = results.sort_values([\"Precision\", \n",
    "\"Recall\", \"F2 Score\"], ascending = False)\n",
    "print (results)"
   ]
  },
  {
   "cell_type": "code",
   "execution_count": 40,
   "id": "c8c4fb22",
   "metadata": {},
   "outputs": [
    {
     "name": "stdout",
     "output_type": "stream",
     "text": [
      "                  Model  Accuracy  Precision    Recall  F1 Score  F2 Score\n",
      "0  K-Nearest Neighbours  0.942012   0.946620  0.955789  0.951183  0.953941\n",
      "1               SVM RBF  0.942012   0.946620  0.955789  0.951183  0.953941\n",
      "2   Logistic Regression  0.924785   0.926618  0.947807  0.937093  0.943492\n",
      "3          SVM (Linear)  0.924785   0.926618  0.947807  0.937093  0.943492\n",
      "4            Naive Byes  0.908566   0.899069  0.952202  0.924873  0.941078\n"
     ]
    }
   ],
   "source": [
    "# Fitting Naive Byes to the Training set:\n",
    "classifier_gb = GaussianNB()\n",
    "classifier_gb.fit(x_train, y_train)\n",
    "# Predicting the Test set results \n",
    "y_pred = classifier_gb.predict(x_test)\n",
    "#Evaluate results\n",
    "acc = accuracy_score(y_test, y_pred )\n",
    "prec = precision_score(y_test, y_pred )\n",
    "rec = recall_score(y_test, y_pred )\n",
    "f1 = f1_score(y_test, y_pred )\n",
    "f2 = fbeta_score(y_test, y_pred, beta=2.0)\n",
    "model_results = pd.DataFrame([[\n",
    "'Naive Byes', acc, prec, rec, f1, f2]],\n",
    "columns = ['Model', 'Accuracy', 'Precision',\n",
    "'Recall', 'F1 Score', 'F2 Score'])\n",
    "results = results.append(model_results, ignore_index = True)\n",
    "results = results.sort_values([\"Precision\", \n",
    "\"Recall\", \"F2 Score\"], ascending = False)\n",
    "print (results)"
   ]
  },
  {
   "cell_type": "code",
   "execution_count": 41,
   "id": "2f7a3fdb",
   "metadata": {},
   "outputs": [
    {
     "name": "stdout",
     "output_type": "stream",
     "text": [
      "                  Model  Accuracy  Precision    Recall  F1 Score  F2 Score\n",
      "0  K-Nearest Neighbours  0.942012   0.946620  0.955789  0.951183  0.953941\n",
      "1               SVM RBF  0.942012   0.946620  0.955789  0.951183  0.953941\n",
      "2   Logistic Regression  0.924785   0.926618  0.947807  0.937093  0.943492\n",
      "3          SVM (Linear)  0.924785   0.926618  0.947807  0.937093  0.943492\n",
      "4            Naive Byes  0.908566   0.899069  0.952202  0.924873  0.941078\n",
      "5         Decision Tree  0.908566   0.899069  0.952202  0.924873  0.941078\n"
     ]
    }
   ],
   "source": [
    "# Fitting Decision Tree to the Training set:\n",
    "classifier_dt = DecisionTreeClassifier(criterion = 'entropy', random_state = 0)\n",
    "classifier_dt.fit(x_train, y_train)\n",
    "# Predicting the Test set results \n",
    "y_pred_dt = classifier_dt.predict(x_test)\n",
    "#Evaluate results\n",
    "acc = accuracy_score(y_test, y_pred )\n",
    "prec = precision_score(y_test, y_pred )\n",
    "rec = recall_score(y_test, y_pred )\n",
    "f1 = f1_score(y_test, y_pred )\n",
    "f2 = fbeta_score(y_test, y_pred, beta=2.0)\n",
    "model_results = pd.DataFrame([[\n",
    "'Decision Tree', acc, prec, rec, f1, f2]],\n",
    " columns = ['Model', 'Accuracy', 'Precision', \n",
    "'Recall', 'F1 Score', 'F2 Score'])\n",
    "results = results.append(model_results, ignore_index = True)\n",
    "results = results.sort_values([\"Precision\", \n",
    "\"Recall\", \"F2 Score\"], ascending = False)\n",
    "print (results)"
   ]
  },
  {
   "cell_type": "code",
   "execution_count": 42,
   "id": "22c42fc7",
   "metadata": {
    "scrolled": true
   },
   "outputs": [
    {
     "name": "stdout",
     "output_type": "stream",
     "text": [
      "                  Model  Accuracy  Precision    Recall  F1 Score  F2 Score\n",
      "0  K-Nearest Neighbours  0.942012   0.946620  0.955789  0.951183  0.953941\n",
      "1               SVM RBF  0.942012   0.946620  0.955789  0.951183  0.953941\n",
      "6         Random Forest  0.930934   0.935675  0.948345  0.941968  0.945784\n",
      "2   Logistic Regression  0.924785   0.926618  0.947807  0.937093  0.943492\n",
      "3          SVM (Linear)  0.924785   0.926618  0.947807  0.937093  0.943492\n",
      "4            Naive Byes  0.908566   0.899069  0.952202  0.924873  0.941078\n",
      "5         Decision Tree  0.908566   0.899069  0.952202  0.924873  0.941078\n"
     ]
    }
   ],
   "source": [
    "# Fitting Random Forest to the Training set:\n",
    "    \n",
    "classifier_rf = RandomForestClassifier(n_estimators = 72,criterion = 'entropy', random_state = 0)\n",
    "classifier_rf.fit(x_train, y_train)\n",
    "# Predicting the Test set results \n",
    "y_pred = classifier_rf.predict(x_test)\n",
    "#Evaluate results\n",
    "from sklearn.metrics import confusion_matrix\n",
    "accuracy_score, f1_score, precision_score, recall_score\n",
    "acc = accuracy_score(y_test, y_pred )\n",
    "prec = precision_score(y_test, y_pred )\n",
    "rec = recall_score(y_test, y_pred )\n",
    "f1 = f1_score(y_test, y_pred )\n",
    "f2 = fbeta_score(y_test, y_pred, beta=2.0)\n",
    "model_results = pd.DataFrame([['Random Forest', acc, prec, rec, f1, f2]],\n",
    "columns = ['Model', 'Accuracy', 'Precision','Recall', 'F1 Score', 'F2 Score'])\n",
    "results = results.append(model_results, ignore_index = True)\n",
    "results = results.sort_values([\"Precision\",\"Recall\", \"F2 Score\"], ascending = False)\n",
    "print (results)"
   ]
  },
  {
   "cell_type": "code",
   "execution_count": 43,
   "id": "645e5666",
   "metadata": {},
   "outputs": [
    {
     "name": "stdout",
     "output_type": "stream",
     "text": [
      "                  Model  Accuracy  Precision    Recall  F1 Score  F2 Score\n",
      "0  K-Nearest Neighbours  0.942012   0.946620  0.955789  0.951183  0.953941\n",
      "1               SVM RBF  0.942012   0.946620  0.955789  0.951183  0.953941\n",
      "2         Random Forest  0.930934   0.935675  0.948345  0.941968  0.945784\n",
      "7    Bagging Classifier  0.930934   0.935675  0.948345  0.941968  0.945784\n",
      "3   Logistic Regression  0.924785   0.926618  0.947807  0.937093  0.943492\n",
      "4          SVM (Linear)  0.924785   0.926618  0.947807  0.937093  0.943492\n",
      "5            Naive Byes  0.908566   0.899069  0.952202  0.924873  0.941078\n",
      "6         Decision Tree  0.908566   0.899069  0.952202  0.924873  0.941078\n"
     ]
    }
   ],
   "source": [
    "# Fitting Bagging Classifier to the Training set:\n",
    "bagging_dtree = DecisionTreeClassifier(max_depth=3,\n",
    "                                       criterion='entropy', random_state=0)\n",
    "    \n",
    "classifier_bag =  BaggingClassifier(base_estimator=bagging_dtree,\n",
    "                                max_samples=10, n_estimators=10,\n",
    "                                max_features=2, n_jobs=-1,\n",
    "                                random_state=0)\n",
    "classifier_bag.fit(x_train, y_train)\n",
    "# Predicting the Test set results \n",
    "y_pred_bag = classifier_bag.predict(x_test)\n",
    "#Evaluate results\n",
    "from sklearn.metrics import confusion_matrix\n",
    "accuracy_score, f1_score, precision_score, recall_score\n",
    "acc = accuracy_score(y_test, y_pred )\n",
    "prec = precision_score(y_test, y_pred )\n",
    "rec = recall_score(y_test, y_pred )\n",
    "f1 = f1_score(y_test, y_pred )\n",
    "f2 = fbeta_score(y_test, y_pred, beta=2.0)\n",
    "model_results = pd.DataFrame([['Bagging Classifier', acc, prec, rec, f1, f2]],\n",
    "columns = ['Model', 'Accuracy', 'Precision','Recall', 'F1 Score', 'F2 Score'])\n",
    "results = results.append(model_results, ignore_index = True)\n",
    "results = results.sort_values([\"Precision\",\"Recall\", \"F2 Score\"], ascending = False)\n",
    "print (results)"
   ]
  },
  {
   "cell_type": "code",
   "execution_count": 44,
   "id": "06783d1f",
   "metadata": {},
   "outputs": [
    {
     "data": {
      "text/html": [
       "<div>\n",
       "<style scoped>\n",
       "    .dataframe tbody tr th:only-of-type {\n",
       "        vertical-align: middle;\n",
       "    }\n",
       "\n",
       "    .dataframe tbody tr th {\n",
       "        vertical-align: top;\n",
       "    }\n",
       "\n",
       "    .dataframe thead th {\n",
       "        text-align: right;\n",
       "    }\n",
       "</style>\n",
       "<table border=\"1\" class=\"dataframe\">\n",
       "  <thead>\n",
       "    <tr style=\"text-align: right;\">\n",
       "      <th></th>\n",
       "      <th>Model</th>\n",
       "      <th>Accuracy</th>\n",
       "      <th>Precision</th>\n",
       "      <th>Recall</th>\n",
       "      <th>F1 Score</th>\n",
       "      <th>F2 Score</th>\n",
       "    </tr>\n",
       "  </thead>\n",
       "  <tbody>\n",
       "    <tr>\n",
       "      <th>0</th>\n",
       "      <td>K-Nearest Neighbours</td>\n",
       "      <td>0.942012</td>\n",
       "      <td>0.946620</td>\n",
       "      <td>0.955789</td>\n",
       "      <td>0.951183</td>\n",
       "      <td>0.953941</td>\n",
       "    </tr>\n",
       "    <tr>\n",
       "      <th>1</th>\n",
       "      <td>SVM RBF</td>\n",
       "      <td>0.942012</td>\n",
       "      <td>0.946620</td>\n",
       "      <td>0.955789</td>\n",
       "      <td>0.951183</td>\n",
       "      <td>0.953941</td>\n",
       "    </tr>\n",
       "    <tr>\n",
       "      <th>2</th>\n",
       "      <td>Random Forest</td>\n",
       "      <td>0.930934</td>\n",
       "      <td>0.935675</td>\n",
       "      <td>0.948345</td>\n",
       "      <td>0.941968</td>\n",
       "      <td>0.945784</td>\n",
       "    </tr>\n",
       "    <tr>\n",
       "      <th>7</th>\n",
       "      <td>Bagging Classifier</td>\n",
       "      <td>0.930934</td>\n",
       "      <td>0.935675</td>\n",
       "      <td>0.948345</td>\n",
       "      <td>0.941968</td>\n",
       "      <td>0.945784</td>\n",
       "    </tr>\n",
       "    <tr>\n",
       "      <th>3</th>\n",
       "      <td>Logistic Regression</td>\n",
       "      <td>0.924785</td>\n",
       "      <td>0.926618</td>\n",
       "      <td>0.947807</td>\n",
       "      <td>0.937093</td>\n",
       "      <td>0.943492</td>\n",
       "    </tr>\n",
       "    <tr>\n",
       "      <th>4</th>\n",
       "      <td>SVM (Linear)</td>\n",
       "      <td>0.924785</td>\n",
       "      <td>0.926618</td>\n",
       "      <td>0.947807</td>\n",
       "      <td>0.937093</td>\n",
       "      <td>0.943492</td>\n",
       "    </tr>\n",
       "    <tr>\n",
       "      <th>5</th>\n",
       "      <td>Naive Byes</td>\n",
       "      <td>0.908566</td>\n",
       "      <td>0.899069</td>\n",
       "      <td>0.952202</td>\n",
       "      <td>0.924873</td>\n",
       "      <td>0.941078</td>\n",
       "    </tr>\n",
       "    <tr>\n",
       "      <th>6</th>\n",
       "      <td>Decision Tree</td>\n",
       "      <td>0.908566</td>\n",
       "      <td>0.899069</td>\n",
       "      <td>0.952202</td>\n",
       "      <td>0.924873</td>\n",
       "      <td>0.941078</td>\n",
       "    </tr>\n",
       "  </tbody>\n",
       "</table>\n",
       "</div>"
      ],
      "text/plain": [
       "                  Model  Accuracy  Precision    Recall  F1 Score  F2 Score\n",
       "0  K-Nearest Neighbours  0.942012   0.946620  0.955789  0.951183  0.953941\n",
       "1               SVM RBF  0.942012   0.946620  0.955789  0.951183  0.953941\n",
       "2         Random Forest  0.930934   0.935675  0.948345  0.941968  0.945784\n",
       "7    Bagging Classifier  0.930934   0.935675  0.948345  0.941968  0.945784\n",
       "3   Logistic Regression  0.924785   0.926618  0.947807  0.937093  0.943492\n",
       "4          SVM (Linear)  0.924785   0.926618  0.947807  0.937093  0.943492\n",
       "5            Naive Byes  0.908566   0.899069  0.952202  0.924873  0.941078\n",
       "6         Decision Tree  0.908566   0.899069  0.952202  0.924873  0.941078"
      ]
     },
     "execution_count": 44,
     "metadata": {},
     "output_type": "execute_result"
    }
   ],
   "source": [
    "results.head(8).sort_values(by='Accuracy',ascending=False)"
   ]
  },
  {
   "cell_type": "markdown",
   "id": "53e5540c",
   "metadata": {},
   "source": [
    "From this first iteration, we concluded that the Decision Tree and Naive Bayes were the two baseline models that underperformed the most for this given dataset. This decision was based on two important evaluation metrics: accuracy and recall. Having a high accuracy is a good factor in determing how correct the classifier has been overall. Secondly, in this business case, having false negatives (i.e., falsely predicting that a customer will not churn) is detrimental to the profitability of the business. Thus, out of all the five-evaluation metrics, Recall was an important metric that helped narrow our choice from eight to six classification models that had the highest recall."
   ]
  },
  {
   "cell_type": "markdown",
   "id": "48fecc62",
   "metadata": {},
   "source": [
    "# K-fold Cross Validation"
   ]
  },
  {
   "cell_type": "markdown",
   "id": "cb3190db",
   "metadata": {},
   "source": [
    "K-fold cross-validation method that primarily focuses on addressing the issue of variance. This occurs when the model shows good accuracy when run on the training and test set but shows different metrics when run on another test set. To address this, a K-fold of 10 was used. The training set was divided into ten folds, wherein nine were used as training before testing it on the final ‘test’ fold.\n",
    "\n",
    "Thus, we proceeded with checking the accuracies with standard deviation for each classification algorithm as shown in the below code:"
   ]
  },
  {
   "cell_type": "code",
   "execution_count": 47,
   "id": "53f3ca5f",
   "metadata": {},
   "outputs": [],
   "source": [
    "accuraciesrf = cross_val_score(estimator = classifier_rf,\n",
    "X = x_train, y = y_train, cv = 10)"
   ]
  },
  {
   "cell_type": "code",
   "execution_count": 48,
   "id": "8be26b72",
   "metadata": {},
   "outputs": [],
   "source": [
    "accuraciessvmrbf = cross_val_score(estimator = classifier_svm_rbf,\n",
    "X = x_train, y = y_train, cv = 10)"
   ]
  },
  {
   "cell_type": "code",
   "execution_count": 49,
   "id": "9db1ddf4",
   "metadata": {},
   "outputs": [],
   "source": [
    "accuraciesknn = cross_val_score(estimator = classifier_knn,\n",
    "X = x_train, y = y_train, cv = 10)"
   ]
  },
  {
   "cell_type": "code",
   "execution_count": 50,
   "id": "88832ced",
   "metadata": {},
   "outputs": [],
   "source": [
    "accuraciesbag = cross_val_score(estimator = classifier_bag,\n",
    "X = x_train, y = y_train, cv = 10)"
   ]
  },
  {
   "cell_type": "code",
   "execution_count": 51,
   "id": "4dc2d051",
   "metadata": {},
   "outputs": [],
   "source": [
    "accuracieslr = cross_val_score(estimator = classifier_lr,\n",
    "X = x_train, y = y_train, cv = 10)"
   ]
  },
  {
   "cell_type": "code",
   "execution_count": 52,
   "id": "92b266b0",
   "metadata": {},
   "outputs": [],
   "source": [
    "accuraciessvm = cross_val_score(estimator = classifier_svm_linear,\n",
    "X = x_train, y = y_train, cv = 10)"
   ]
  },
  {
   "cell_type": "code",
   "execution_count": 53,
   "id": "6d93fa17",
   "metadata": {},
   "outputs": [
    {
     "name": "stdout",
     "output_type": "stream",
     "text": [
      "Decision Tree with Bagging Classifier Accuracy: 0.93 (+/- 0.02)\n",
      "Logistic Regression Classifier Accuracy: 0.93 (+/- 0.00)\n",
      "SVM Linear Kernel Accuracy: 0.93 (+/- 0.00)\n",
      "SVM RBF Kernel Accuracy: 0.92 (+/- 0.01)\n",
      "KNN Accuracy: 0.93 (+/- 0.00)\n",
      "Random Forest: 0.93 (+/- 0.01)\n"
     ]
    }
   ],
   "source": [
    "print(\"Decision Tree with Bagging Classifier Accuracy: %0.2f (+/- %0.2f)\" % (accuraciesbag.mean(),accuraciesbag.std() * 2))\n",
    "print(\"Logistic Regression Classifier Accuracy: %0.2f (+/- %0.2f)\" % (accuracieslr.mean(),accuracieslr.std() * 2))\n",
    "print(\"SVM Linear Kernel Accuracy: %0.2f (+/- %0.2f)\" % (accuraciessvm.mean(),accuraciessvm.std() * 2))\n",
    "print(\"SVM RBF Kernel Accuracy: %0.2f (+/- %0.2f)\" % (accuraciesdt.mean(),accuraciesdt.std() * 2))\n",
    "print(\"KNN Accuracy: %0.2f (+/- %0.2f)\" % (accuraciessvm.mean(),accuraciessvm.std() * 2))\n",
    "print(\"Random Forest: %0.2f (+/- %0.2f)\" % (accuraciesrf.mean(),accuraciesrf.std() * 2))"
   ]
  },
  {
   "cell_type": "markdown",
   "id": "f40eddcf",
   "metadata": {},
   "source": [
    "These results show us by how much i.e the range by which each classifier will vary in terms of accuracy."
   ]
  },
  {
   "cell_type": "markdown",
   "id": "d518edd4",
   "metadata": {},
   "source": [
    "# Training the chosen models on the training dataset and evaluating their results."
   ]
  },
  {
   "cell_type": "markdown",
   "id": "35e77b24",
   "metadata": {},
   "source": [
    "Unfortunately, we were not able to evaluate the Linear and RBF kernels for SVM due to computational power limitations."
   ]
  },
  {
   "cell_type": "markdown",
   "id": "28b580d1",
   "metadata": {},
   "source": [
    "These models were also re-evaluated using a Confusion Matrix and a Receiver Operating Characteristic (ROC) Graph. The Confusion Matrix was used to define the performance of each classification algorithm by visualising and summarising its performance. This also allowed a comparative evaluation between the classifiers. In addition, the ROC Graph is a good graphical representation of the capability of each model to distinguish between churn and no-churn based on the AUC Mean Score. The orange line represents the ROC of any randomly chosen classifier. A very good classifier will push upwards and away from it as much as possible, whereas a bad one will push downwards and away from it meaning that its performance is worse than any random classifier. \n"
   ]
  },
  {
   "cell_type": "markdown",
   "id": "67390260",
   "metadata": {},
   "source": [
    "## Decision Tree Confusion Matrix & ROC"
   ]
  },
  {
   "cell_type": "code",
   "execution_count": 54,
   "id": "a762cc12",
   "metadata": {},
   "outputs": [],
   "source": [
    "from sklearn.model_selection import train_test_split\n",
    "\n",
    "data_splits = train_test_split(x, y, test_size=0.20, random_state=0,shuffle=True)\n",
    "x_train_dt, x_test_dt, y_train_dt, y_test_dt = data_splits"
   ]
  },
  {
   "cell_type": "code",
   "execution_count": 55,
   "id": "6f488f00",
   "metadata": {},
   "outputs": [
    {
     "data": {
      "image/png": "[encoded data removed]",
      "text/plain": [
       "<Figure size 1008x432 with 1 Axes>"
      ]
     },
     "metadata": {
      "needs_background": "light"
     },
     "output_type": "display_data"
    }
   ],
   "source": [
    "classifier_dt.fit(x_train_dt, y_train_dt) \n",
    "probs = classifier_dt.predict_proba(x_test_dt) \n",
    "probs = probs[:, 1] \n",
    "classifier_roc_auc = accuracy_score(y_test_dt, y_pred)\n",
    "rf_fpr, rf_tpr, rf_thresholds = roc_curve(y_test_dt, classifier_dt.predict_proba(x_test_dt)[:,1])\n",
    "plt.figure(figsize=(14, 6))\n",
    "# Plot Logistic Regression ROC\n",
    "plt.plot(rf_fpr, rf_tpr, \n",
    "label='Decision Tree (area = %0.2f)' % classifier_roc_auc)\n",
    "# Plot Base Rate ROC\n",
    "plt.plot([0,1], [0,1],label='Base Rate' 'k--')\n",
    "plt.xlim([0.0, 1.0])\n",
    "plt.ylim([0.0, 1.05])\n",
    "plt.ylabel('True Positive Rate \\n',horizontalalignment=\"center\",\n",
    "fontstyle = \"normal\", fontsize = \"medium\", \n",
    "fontfamily = \"sans-serif\")\n",
    "plt.xlabel('\\nFalse Positive Rate \\n',horizontalalignment=\"center\",\n",
    "fontstyle = \"normal\", fontsize = \"medium\", \n",
    "fontfamily = \"sans-serif\")\n",
    "plt.title('ROC Graph Decision Tree \\n',horizontalalignment=\"center\", \n",
    "fontstyle = \"normal\", fontsize = \"22\", \n",
    "fontfamily = \"sans-serif\")\n",
    "plt.legend(loc=\"lower right\", fontsize = \"medium\")\n",
    "plt.xticks(rotation=0, horizontalalignment=\"center\")\n",
    "plt.yticks(rotation=0, horizontalalignment=\"right\")\n",
    "plt.show()"
   ]
  },
  {
   "cell_type": "code",
   "execution_count": 56,
   "id": "6045063d",
   "metadata": {},
   "outputs": [
    {
     "data": {
      "text/plain": [
       "Text(0.5, 16.0, 'Predicted label\\n')"
      ]
     },
     "execution_count": 56,
     "metadata": {},
     "output_type": "execute_result"
    },
    {
     "data": {
      "text/plain": [
       "<Figure size 2016x1440 with 0 Axes>"
      ]
     },
     "metadata": {},
     "output_type": "display_data"
    },
    {
     "data": {
      "image/png": "[encoded data removed]",
      "text/plain": [
       "<Figure size 432x288 with 2 Axes>"
      ]
     },
     "metadata": {
      "needs_background": "light"
     },
     "output_type": "display_data"
    }
   ],
   "source": [
    "cm = confusion_matrix(y_test_dt, y_pred) \n",
    "df_cm = pd.DataFrame(cm, index = (0, 1), columns = (0, 1))\n",
    "plt.figure(figsize = (28,20))\n",
    "fig, ax = plt.subplots()\n",
    "sns.set(font_scale=1.4)\n",
    "sns.heatmap(df_cm, annot=True, fmt='g'#,cmap=\"YlGnBu\" \n",
    "           )\n",
    "class_names=[0,1]\n",
    "tick_marks = np.arange(len(class_names))\n",
    "plt.tight_layout()\n",
    "plt.title('Confusion matrix Decision Tree\\n', y=1.1)\n",
    "plt.xticks(tick_marks, class_names)\n",
    "plt.yticks(tick_marks, class_names)\n",
    "ax.xaxis.set_label_position(\"top\")\n",
    "plt.ylabel('Actual label\\n')\n",
    "plt.xlabel('Predicted label\\n')"
   ]
  },
  {
   "cell_type": "markdown",
   "id": "47075b71",
   "metadata": {},
   "source": [
    "## K-Nearest Neighbour Confusion Matrix & ROC"
   ]
  },
  {
   "cell_type": "code",
   "execution_count": 57,
   "id": "0298703e",
   "metadata": {},
   "outputs": [],
   "source": [
    "from sklearn.model_selection import train_test_split\n",
    "\n",
    "data_splits = train_test_split(x, y, test_size=0.20, random_state=0,shuffle=True)\n",
    "x_train_knn, x_test_knn, y_train_knn, y_test_knn = data_splits"
   ]
  },
  {
   "cell_type": "code",
   "execution_count": 58,
   "id": "8e4ddec0",
   "metadata": {},
   "outputs": [
    {
     "data": {
      "image/png": "[encoded data removed]",
      "text/plain": [
       "<Figure size 1008x432 with 1 Axes>"
      ]
     },
     "metadata": {},
     "output_type": "display_data"
    }
   ],
   "source": [
    "classifier_knn.fit(x_train_knn, y_train_knn) \n",
    "probs = classifier_knn.predict_proba(x_test_knn) \n",
    "probs = probs[:, 1] \n",
    "classifier_roc_auc = accuracy_score(y_test_knn, y_pred)\n",
    "rf_fpr, rf_tpr, rf_thresholds = roc_curve(y_test_knn, classifier_knn.predict_proba(x_test_knn)[:,1])\n",
    "plt.figure(figsize=(14, 6))\n",
    "# Plot Logistic Regression ROC\n",
    "plt.plot(rf_fpr, rf_tpr, \n",
    "label='KNN (area = %0.2f)' % classifier_roc_auc)\n",
    "# Plot Base Rate ROC\n",
    "plt.plot([0,1], [0,1],label='Base Rate' 'k--')\n",
    "plt.xlim([0.0, 1.0])\n",
    "plt.ylim([0.0, 1.05])\n",
    "plt.ylabel('True Positive Rate \\n',horizontalalignment=\"center\",\n",
    "fontstyle = \"normal\", fontsize = \"medium\", \n",
    "fontfamily = \"sans-serif\")\n",
    "plt.xlabel('\\nFalse Positive Rate \\n',horizontalalignment=\"center\",\n",
    "fontstyle = \"normal\", fontsize = \"medium\", \n",
    "fontfamily = \"sans-serif\")\n",
    "plt.title('ROC Graph KNN \\n',horizontalalignment=\"center\", \n",
    "fontstyle = \"normal\", fontsize = \"22\", \n",
    "fontfamily = \"sans-serif\")\n",
    "plt.legend(loc=\"lower right\", fontsize = \"medium\")\n",
    "plt.xticks(rotation=0, horizontalalignment=\"center\")\n",
    "plt.yticks(rotation=0, horizontalalignment=\"right\")\n",
    "plt.show()"
   ]
  },
  {
   "cell_type": "code",
   "execution_count": 59,
   "id": "8d8145ba",
   "metadata": {},
   "outputs": [
    {
     "data": {
      "text/plain": [
       "Text(0.5, 8.5, 'Predicted label\\n')"
      ]
     },
     "execution_count": 59,
     "metadata": {},
     "output_type": "execute_result"
    },
    {
     "data": {
      "text/plain": [
       "<Figure size 2016x1440 with 0 Axes>"
      ]
     },
     "metadata": {},
     "output_type": "display_data"
    },
    {
     "data": {
      "image/png": "[encoded data removed]",
      "text/plain": [
       "<Figure size 432x288 with 2 Axes>"
      ]
     },
     "metadata": {},
     "output_type": "display_data"
    }
   ],
   "source": [
    "cm = confusion_matrix(y_test_knn, y_pred) \n",
    "df_cm = pd.DataFrame(cm, index = (0, 1), columns = (0, 1))\n",
    "plt.figure(figsize = (28,20))\n",
    "fig, ax = plt.subplots()\n",
    "sns.set(font_scale=1.4)\n",
    "sns.heatmap(df_cm, annot=True, fmt='g'#,cmap=\"YlGnBu\" \n",
    "           )\n",
    "class_names=[0,1]\n",
    "tick_marks = np.arange(len(class_names))\n",
    "plt.tight_layout()\n",
    "plt.title('Confusion matrix KNN\\n', y=1.1)\n",
    "plt.xticks(tick_marks, class_names)\n",
    "plt.yticks(tick_marks, class_names)\n",
    "ax.xaxis.set_label_position(\"top\")\n",
    "plt.ylabel('Actual label\\n')\n",
    "plt.xlabel('Predicted label\\n')"
   ]
  },
  {
   "cell_type": "markdown",
   "id": "325f88c9",
   "metadata": {},
   "source": [
    "## Logistic Regression Confusion Matrix & ROC"
   ]
  },
  {
   "cell_type": "code",
   "execution_count": 60,
   "id": "35a6f405",
   "metadata": {},
   "outputs": [],
   "source": [
    "from sklearn.model_selection import train_test_split\n",
    "\n",
    "data_splits = train_test_split(x, y, test_size=0.20, random_state=0,shuffle=True)\n",
    "x_train_lr, x_test_lr, y_train_lr, y_test_lr = data_splits"
   ]
  },
  {
   "cell_type": "code",
   "execution_count": 61,
   "id": "6a9d6a3e",
   "metadata": {},
   "outputs": [
    {
     "data": {
      "image/png": "[encoded data removed]",
      "text/plain": [
       "<Figure size 1008x432 with 1 Axes>"
      ]
     },
     "metadata": {},
     "output_type": "display_data"
    }
   ],
   "source": [
    "classifier_lr.fit(x_train_lr, y_train_lr) \n",
    "probs = classifier_lr.predict_proba(x_test_lr) \n",
    "probs = probs[:, 1] \n",
    "classifier_roc_auc = accuracy_score(y_test_lr, y_pred)\n",
    "rf_fpr, rf_tpr, rf_thresholds = roc_curve(y_test_lr, classifier_lr.predict_proba(x_test_lr)[:,1])\n",
    "plt.figure(figsize=(14, 6))\n",
    "# Plot Logistic Regression ROC\n",
    "plt.plot(rf_fpr, rf_tpr, \n",
    "label='Logistic Regression (area = %0.2f)' % classifier_roc_auc)\n",
    "# Plot Base Rate ROC\n",
    "plt.plot([0,1], [0,1],label='Base Rate' 'k--')\n",
    "plt.xlim([0.0, 1.0])\n",
    "plt.ylim([0.0, 1.05])\n",
    "plt.ylabel('True Positive Rate \\n',horizontalalignment=\"center\",\n",
    "fontstyle = \"normal\", fontsize = \"medium\", \n",
    "fontfamily = \"sans-serif\")\n",
    "plt.xlabel('\\nFalse Positive Rate \\n',horizontalalignment=\"center\",\n",
    "fontstyle = \"normal\", fontsize = \"medium\", \n",
    "fontfamily = \"sans-serif\")\n",
    "plt.title('ROC Graph Logistic Regression \\n',horizontalalignment=\"center\", \n",
    "fontstyle = \"normal\", fontsize = \"22\", \n",
    "fontfamily = \"sans-serif\")\n",
    "plt.legend(loc=\"lower right\", fontsize = \"medium\")\n",
    "plt.xticks(rotation=0, horizontalalignment=\"center\")\n",
    "plt.yticks(rotation=0, horizontalalignment=\"right\")\n",
    "plt.show()"
   ]
  },
  {
   "cell_type": "code",
   "execution_count": 62,
   "id": "c4603350",
   "metadata": {},
   "outputs": [
    {
     "data": {
      "text/plain": [
       "Text(0.5, 8.5, 'Predicted label\\n')"
      ]
     },
     "execution_count": 62,
     "metadata": {},
     "output_type": "execute_result"
    },
    {
     "data": {
      "text/plain": [
       "<Figure size 2016x1440 with 0 Axes>"
      ]
     },
     "metadata": {},
     "output_type": "display_data"
    },
    {
     "data": {
      "image/png": "[encoded data removed]",
      "text/plain": [
       "<Figure size 432x288 with 2 Axes>"
      ]
     },
     "metadata": {},
     "output_type": "display_data"
    }
   ],
   "source": [
    "cm = confusion_matrix(y_test_lr, y_pred) \n",
    "df_cm = pd.DataFrame(cm, index = (0, 1), columns = (0, 1))\n",
    "plt.figure(figsize = (28,20))\n",
    "fig, ax = plt.subplots()\n",
    "sns.set(font_scale=1.4)\n",
    "sns.heatmap(df_cm, annot=True, fmt='g'#,cmap=\"YlGnBu\" \n",
    "           )\n",
    "class_names=[0,1]\n",
    "tick_marks = np.arange(len(class_names))\n",
    "plt.tight_layout()\n",
    "plt.title('Confusion matrix Logistic Regression\\n', y=1.1)\n",
    "plt.xticks(tick_marks, class_names)\n",
    "plt.yticks(tick_marks, class_names)\n",
    "ax.xaxis.set_label_position(\"top\")\n",
    "plt.ylabel('Actual label\\n')\n",
    "plt.xlabel('Predicted label\\n')"
   ]
  },
  {
   "cell_type": "code",
   "execution_count": 63,
   "id": "c681e1d9",
   "metadata": {},
   "outputs": [
    {
     "data": {
      "text/html": [
       "<div>\n",
       "<style scoped>\n",
       "    .dataframe tbody tr th:only-of-type {\n",
       "        vertical-align: middle;\n",
       "    }\n",
       "\n",
       "    .dataframe tbody tr th {\n",
       "        vertical-align: top;\n",
       "    }\n",
       "\n",
       "    .dataframe thead th {\n",
       "        text-align: right;\n",
       "    }\n",
       "</style>\n",
       "<table border=\"1\" class=\"dataframe\">\n",
       "  <thead>\n",
       "    <tr style=\"text-align: right;\">\n",
       "      <th></th>\n",
       "      <th>features</th>\n",
       "      <th>coef</th>\n",
       "    </tr>\n",
       "  </thead>\n",
       "  <tbody>\n",
       "    <tr>\n",
       "      <th>1</th>\n",
       "      <td>lifespan</td>\n",
       "      <td>0.022526</td>\n",
       "    </tr>\n",
       "    <tr>\n",
       "      <th>2</th>\n",
       "      <td>clv</td>\n",
       "      <td>-0.002535</td>\n",
       "    </tr>\n",
       "    <tr>\n",
       "      <th>0</th>\n",
       "      <td>recency</td>\n",
       "      <td>-0.014923</td>\n",
       "    </tr>\n",
       "  </tbody>\n",
       "</table>\n",
       "</div>"
      ],
      "text/plain": [
       "   features      coef\n",
       "1  lifespan  0.022526\n",
       "2       clv -0.002535\n",
       "0   recency -0.014923"
      ]
     },
     "execution_count": 63,
     "metadata": {},
     "output_type": "execute_result"
    }
   ],
   "source": [
    "# Analyzing Coefficients\n",
    "feature_importances = pd.concat([\n",
    "pd.DataFrame(x_train_lr.\n",
    "columns, columns = [\"features\"]),\n",
    "pd.DataFrame(np.transpose(classifier_lr.coef_), \n",
    "columns = [\"coef\"])],axis = 1)\n",
    "feature_importances.sort_values(\"coef\", ascending = False)"
   ]
  },
  {
   "cell_type": "markdown",
   "id": "cc535417",
   "metadata": {},
   "source": [
    "Logistic Regression has the internal capability of determining the key features that have the most significance in predicting the target, which in this case is ‘Churn’."
   ]
  },
  {
   "cell_type": "markdown",
   "id": "de97ca85",
   "metadata": {},
   "source": [
    "## Bagging Classifier Confusion Matrix & ROC"
   ]
  },
  {
   "cell_type": "code",
   "execution_count": 64,
   "id": "7ef93296",
   "metadata": {},
   "outputs": [],
   "source": [
    "from sklearn.model_selection import train_test_split\n",
    "\n",
    "data_splits = train_test_split(x, y, test_size=0.20, random_state=0,shuffle=True)\n",
    "x_train_bag, x_test_bag, y_train_bag, y_test_bag = data_splits"
   ]
  },
  {
   "cell_type": "code",
   "execution_count": 65,
   "id": "55b00dd3",
   "metadata": {},
   "outputs": [
    {
     "data": {
      "image/png": "[encoded data removed]",
      "text/plain": [
       "<Figure size 1008x432 with 1 Axes>"
      ]
     },
     "metadata": {},
     "output_type": "display_data"
    }
   ],
   "source": [
    "classifier_bag.fit(x_train_bag, y_train_bag) \n",
    "probs = classifier_bag.predict_proba(x_test_bag) \n",
    "probs = probs[:, 1] \n",
    "classifier_roc_auc = accuracy_score(y_test_bag, y_pred_bag)\n",
    "rf_fpr, rf_tpr, rf_thresholds = roc_curve(y_test_bag\n",
    "                                          , classifier_bag.predict_proba(x_test_bag)[:,1])\n",
    "plt.figure(figsize=(14, 6))\n",
    "# Plot Logistic Regression ROC\n",
    "plt.plot(rf_fpr, rf_tpr, \n",
    "label='Bagging Classifier Tree (area = %0.2f)' % classifier_roc_auc)\n",
    "# Plot Base Rate ROC\n",
    "plt.plot([0,1], [0,1],label='Base Rate' 'k--')\n",
    "plt.xlim([0.0, 1.0])\n",
    "plt.ylim([0.0, 1.05])\n",
    "plt.ylabel('True Positive Rate \\n',horizontalalignment=\"center\",\n",
    "fontstyle = \"normal\", fontsize = \"medium\", \n",
    "fontfamily = \"sans-serif\")\n",
    "plt.xlabel('\\nFalse Positive Rate \\n',horizontalalignment=\"center\",\n",
    "fontstyle = \"normal\", fontsize = \"medium\", \n",
    "fontfamily = \"sans-serif\")\n",
    "plt.title('ROC Graph Bagging Classifier \\n',horizontalalignment=\"center\", \n",
    "fontstyle = \"normal\", fontsize = \"22\", \n",
    "fontfamily = \"sans-serif\")\n",
    "plt.legend(loc=\"lower right\", fontsize = \"medium\")\n",
    "plt.xticks(rotation=0, horizontalalignment=\"center\")\n",
    "plt.yticks(rotation=0, horizontalalignment=\"right\")\n",
    "plt.show()"
   ]
  },
  {
   "cell_type": "code",
   "execution_count": 66,
   "id": "666ef72a",
   "metadata": {},
   "outputs": [
    {
     "data": {
      "text/plain": [
       "Text(0.5, 8.5, 'Predicted label\\n')"
      ]
     },
     "execution_count": 66,
     "metadata": {},
     "output_type": "execute_result"
    },
    {
     "data": {
      "text/plain": [
       "<Figure size 2016x1440 with 0 Axes>"
      ]
     },
     "metadata": {},
     "output_type": "display_data"
    },
    {
     "data": {
      "image/png": "[encoded data removed]",
      "text/plain": [
       "<Figure size 432x288 with 2 Axes>"
      ]
     },
     "metadata": {},
     "output_type": "display_data"
    }
   ],
   "source": [
    "cm = confusion_matrix(y_test_bag, y_pred_bag) \n",
    "df_cm = pd.DataFrame(cm, index = (0, 1), columns = (0, 1))\n",
    "plt.figure(figsize = (28,20))\n",
    "fig, ax = plt.subplots()\n",
    "sns.set(font_scale=1.4)\n",
    "sns.heatmap(df_cm, annot=True, fmt='g'#,cmap=\"YlGnBu\" \n",
    "           )\n",
    "class_names=[0,1]\n",
    "tick_marks = np.arange(len(class_names))\n",
    "plt.tight_layout()\n",
    "plt.title('Confusion matrix Bagging Classifier Tree \\n', y=1.1)\n",
    "plt.xticks(tick_marks, class_names)\n",
    "plt.yticks(tick_marks, class_names)\n",
    "ax.xaxis.set_label_position(\"top\")\n",
    "plt.ylabel('Actual label\\n')\n",
    "plt.xlabel('Predicted label\\n')"
   ]
  },
  {
   "cell_type": "markdown",
   "id": "06c1ed84",
   "metadata": {},
   "source": [
    "We decided to proceed with the Logistic Regression Classifier and the Bagging Classifier. Logistic Regression is well known to be one of the most effective algorithms for XOR problems. We proceeded with Bagging Classifier too since it was the only algorithm that showed different values for the confusion matrix. We wanted to check whether these could be improved with hyperparameter tuning"
   ]
  },
  {
   "cell_type": "markdown",
   "id": "affcacfa",
   "metadata": {},
   "source": [
    "# Hyperparameter Tuning Logistic Regression & Decision Tree Bagging Classifier"
   ]
  },
  {
   "cell_type": "markdown",
   "id": "8795905f",
   "metadata": {},
   "source": [
    "The next step was to improve the models by choosing the best hyperparameters. These configurable values that are external to the model that is not determined by the data are given and were optimized through a common parameter tuning technique called Grid Search. This was done for Logistic Regression and Bagging Classifier."
   ]
  },
  {
   "cell_type": "markdown",
   "id": "ef736343",
   "metadata": {},
   "source": [
    "## Logistic Regression Classifier"
   ]
  },
  {
   "cell_type": "markdown",
   "id": "ec31689c",
   "metadata": {},
   "source": [
    "For Logistic Regression we determined whether L1 or L2 Regularisation best suited the model for this dataset."
   ]
  },
  {
   "cell_type": "code",
   "execution_count": 67,
   "id": "e91725d1",
   "metadata": {},
   "outputs": [
    {
     "name": "stdout",
     "output_type": "stream",
     "text": [
      "Took 6.18 seconds\n"
     ]
    },
    {
     "data": {
      "text/plain": [
       "(0.919546409388785, {'C': 0.001, 'penalty': 'l2'})"
      ]
     },
     "execution_count": 67,
     "metadata": {},
     "output_type": "execute_result"
    }
   ],
   "source": [
    "from sklearn.model_selection import GridSearchCV\n",
    "from sklearn.model_selection import train_test_split\n",
    "\n",
    "data_splits = train_test_split(x, y, test_size=0.20, random_state=0,shuffle=True)\n",
    "x_train_lr, x_test_lr, y_train_lr, y_test_lr = data_splits\n",
    "\n",
    "\n",
    "# Round 1:\n",
    " \n",
    "# Select Regularization Method   \n",
    "import time\n",
    "penalty = ['l1', 'l2']\n",
    "# Create regularization hyperparameter space\n",
    "C = [0.001, 0.01, 0.1, 1, 10, 100, 1000]\n",
    "# Combine Parameters\n",
    "parameters = dict(C=C, penalty=penalty)\n",
    "lr_classifier = GridSearchCV(estimator = classifier_lr,\n",
    "                           param_grid = parameters,\n",
    "                           scoring = \"balanced_accuracy\",\n",
    "                           cv = 10,\n",
    "                           n_jobs = -1)\n",
    "t0 = time.time()\n",
    "lr_classifier  = lr_classifier.fit(x_train_lr, y_train_lr)\n",
    "t1 = time.time()\n",
    "print(\"Took %0.2f seconds\" % (t1 - t0))\n",
    "lr_best_accuracy = lr_classifier.best_score_\n",
    "lr_best_parameters = lr_classifier.best_params_\n",
    "lr_best_accuracy, lr_best_parameters"
   ]
  },
  {
   "cell_type": "code",
   "execution_count": 68,
   "id": "103e26b8",
   "metadata": {},
   "outputs": [
    {
     "name": "stdout",
     "output_type": "stream",
     "text": [
      "Took 3.36 seconds\n"
     ]
    },
    {
     "data": {
      "text/plain": [
       "(0.919546409388785, {'C': 0.0001, 'penalty': 'l2'})"
      ]
     },
     "execution_count": 68,
     "metadata": {},
     "output_type": "execute_result"
    }
   ],
   "source": [
    "# Round 2:\n",
    "# Select Regularization Method\n",
    "import time\n",
    "penalty = ['l2']\n",
    "# Create regularization hyperparameter space\n",
    "C = [ 0.0001, 0.001, 0.01, 0.02, 0.05]\n",
    "# Combine Parameters\n",
    "parameters = dict(C=C, penalty=penalty)\n",
    "lr_classifier = GridSearchCV(estimator = classifier_lr,\n",
    "                           param_grid = parameters,\n",
    "                           scoring = \"balanced_accuracy\",\n",
    "                           cv = 10,\n",
    "                           n_jobs = -1)\n",
    "t0 = time.time()\n",
    "lr_classifier  = lr_classifier .fit(x_train_lr, y_train_lr)\n",
    "t1 = time.time()\n",
    "print(\"Took %0.2f seconds\" % (t1 - t0))\n",
    "lr_best_accuracy = lr_classifier.best_score_\n",
    "lr_best_parameters = lr_classifier.best_params_\n",
    "lr_best_accuracy, lr_best_parameters"
   ]
  },
  {
   "cell_type": "code",
   "execution_count": 69,
   "id": "bcca7bc7",
   "metadata": {},
   "outputs": [],
   "source": [
    "from sklearn.linear_model import LogisticRegressionCV\n",
    "lr_classifier = LogisticRegressionCV(cv=10, max_iter=1000,\n",
    "                                scoring='f1', penalty='l2', solver='liblinear',\n",
    "                                n_jobs=-1, random_state=0, refit=True, verbose=0)\n",
    "lr_classifier.fit(x_train_lr, y_train_lr)\n",
    "# Predict the Test set results\n",
    "y_pred_lr = lr_classifier.predict(x_test_lr)\n",
    "#probability score\n",
    "y_pred_probs_lr = lr_classifier.predict_proba(x_test_lr)\n",
    "y_pred_probs_lr  = y_pred_probs_lr [:, 1]"
   ]
  },
  {
   "cell_type": "code",
   "execution_count": 70,
   "id": "df4f4a4b",
   "metadata": {},
   "outputs": [
    {
     "name": "stdout",
     "output_type": "stream",
     "text": [
      "[[ 6878   837]\n",
      " [  603 10548]]\n",
      "Test Data Accuracy: 0.9309\n"
     ]
    },
    {
     "data": {
      "text/plain": [
       "<Figure size 2016x1440 with 0 Axes>"
      ]
     },
     "metadata": {},
     "output_type": "display_data"
    },
    {
     "data": {
      "image/png": "[encoded data removed]",
      "text/plain": [
       "<Figure size 432x288 with 2 Axes>"
      ]
     },
     "metadata": {},
     "output_type": "display_data"
    }
   ],
   "source": [
    "#Revalidate final results with Confusion Matrix:\n",
    "cm = confusion_matrix(y_test_lr, y_pred_lr) \n",
    "print (cm)\n",
    "#Confusion Matrix as a quick Crosstab:\n",
    "    \n",
    "pd.crosstab(y_test_lr,pd.Series(y_pred_lr),\n",
    "rownames=['ACTUAL'],colnames=['PRED'])\n",
    "#visualize Confusion Matrix:\n",
    "cm = confusion_matrix(y_test_lr, y_pred_lr) \n",
    "df_cm = pd.DataFrame(cm, index = (0, 1), columns = (0, 1))\n",
    "plt.figure(figsize = (28,20))\n",
    "fig, ax = plt.subplots()\n",
    "sns.set(font_scale=1.4)\n",
    "sns.heatmap(df_cm, annot=True, fmt='g'#,cmap=\"YlGnBu\" \n",
    "           )\n",
    "class_names=[0,1]\n",
    "tick_marks = np.arange(len(class_names))\n",
    "plt.tight_layout()\n",
    "plt.title('Confusion matrix Logistic Regression Tuned \\n', y=1.1)\n",
    "plt.xticks(tick_marks, class_names)\n",
    "plt.yticks(tick_marks, class_names)\n",
    "ax.xaxis.set_label_position(\"top\")\n",
    "plt.ylabel('Actual label\\n')\n",
    "plt.xlabel('Predicted label\\n')\n",
    "print(\"Test Data Accuracy: %0.4f\" % accuracy_score(y_test, y_pred))"
   ]
  },
  {
   "cell_type": "markdown",
   "id": "028429fa",
   "metadata": {},
   "source": [
    "## Decision Tree with Bagging Classifier"
   ]
  },
  {
   "cell_type": "markdown",
   "id": "ef6b3f1f",
   "metadata": {},
   "source": [
    "For the Decision Tree with Bagging Classifier, we proceeded to check which were the best hyperparameters for both the Decision Tree Classifier and the Bagging Classifier algorithms using Grid Search. "
   ]
  },
  {
   "cell_type": "code",
   "execution_count": 71,
   "id": "6c81262e",
   "metadata": {},
   "outputs": [],
   "source": [
    "from sklearn.model_selection import GridSearchCV\n",
    "#Creating a GridSearchCV object:\n",
    "\n",
    "parameters = {'max_depth':[15,20,25,30], 'max_features':[1,2,3]}\n",
    "forest = DecisionTreeClassifier()\n",
    "clf = GridSearchCV(estimator=forest, param_grid=parameters, n_jobs=-1, cv=5)"
   ]
  },
  {
   "cell_type": "code",
   "execution_count": 72,
   "id": "c2c82293",
   "metadata": {},
   "outputs": [
    {
     "data": {
      "text/plain": [
       "GridSearchCV(cv=5, estimator=DecisionTreeClassifier(), n_jobs=-1,\n",
       "             param_grid={'max_depth': [15, 20, 25, 30],\n",
       "                         'max_features': [1, 2, 3]})"
      ]
     },
     "execution_count": 72,
     "metadata": {},
     "output_type": "execute_result"
    }
   ],
   "source": [
    "clf.fit(x, y)"
   ]
  },
  {
   "cell_type": "code",
   "execution_count": 73,
   "id": "634c56fb",
   "metadata": {},
   "outputs": [
    {
     "data": {
      "text/plain": [
       "{'max_depth': 15, 'max_features': 3}"
      ]
     },
     "execution_count": 73,
     "metadata": {},
     "output_type": "execute_result"
    }
   ],
   "source": [
    "# Checking the best parameters and overall accuracy:\n",
    "clf.best_params_"
   ]
  },
  {
   "cell_type": "code",
   "execution_count": 74,
   "id": "aab5661f",
   "metadata": {},
   "outputs": [],
   "source": [
    "bagparameters = {'n_estimators':[150,200,250,300],'max_samples':[20,40,60,80], 'max_features':[1,2,3]}\n",
    "bagforest = BaggingClassifier()\n",
    "bagclf = GridSearchCV(estimator=bagforest, param_grid=bagparameters, n_jobs=-1, cv=5)"
   ]
  },
  {
   "cell_type": "code",
   "execution_count": 75,
   "id": "591733b2",
   "metadata": {},
   "outputs": [
    {
     "data": {
      "text/plain": [
       "GridSearchCV(cv=5, estimator=BaggingClassifier(), n_jobs=-1,\n",
       "             param_grid={'max_features': [1, 2, 3],\n",
       "                         'max_samples': [20, 40, 60, 80],\n",
       "                         'n_estimators': [150, 200, 250, 300]})"
      ]
     },
     "execution_count": 75,
     "metadata": {},
     "output_type": "execute_result"
    }
   ],
   "source": [
    "bagclf.fit(x, y)"
   ]
  },
  {
   "cell_type": "code",
   "execution_count": 76,
   "id": "f9bcb1fb",
   "metadata": {},
   "outputs": [
    {
     "data": {
      "text/plain": [
       "{'max_features': 3, 'max_samples': 40, 'n_estimators': 200}"
      ]
     },
     "execution_count": 76,
     "metadata": {},
     "output_type": "execute_result"
    }
   ],
   "source": [
    "# Checking the best parameters and overall accuracy:\n",
    "bagclf.best_params_"
   ]
  },
  {
   "cell_type": "code",
   "execution_count": 77,
   "id": "0d88a34c",
   "metadata": {},
   "outputs": [],
   "source": [
    "bagging_dtree = DecisionTreeClassifier(max_depth=20,\n",
    "                                       criterion='entropy', random_state=0)\n",
    "\n",
    "bagging_classifier = BaggingClassifier(base_estimator=bagging_dtree,\n",
    "                                max_samples=40, n_estimators=300,\n",
    "                                max_features=3, n_jobs=-1,\n",
    "                                random_state=0)"
   ]
  },
  {
   "cell_type": "code",
   "execution_count": 78,
   "id": "26159cbf",
   "metadata": {},
   "outputs": [],
   "source": [
    "bagging_classifier.fit(x_train_bag, y_train_bag)\n",
    "# Predict the Test set results\n",
    "y_pred_bag_improved = bagging_classifier.predict(x_test_bag)\n",
    "#probability score\n",
    "y_pred_probs_bag_improved = bagging_classifier.predict_proba(x_test_bag)\n",
    "y_pred_probs_bag_improved  = y_pred_probs_bag_improved [:, 1]"
   ]
  },
  {
   "cell_type": "code",
   "execution_count": 79,
   "id": "8dfcf204",
   "metadata": {},
   "outputs": [
    {
     "name": "stdout",
     "output_type": "stream",
     "text": [
      "[[ 7369   346]\n",
      " [ 1131 10020]]\n",
      "Test Data Accuracy: 0.9217\n"
     ]
    },
    {
     "data": {
      "text/plain": [
       "<Figure size 2016x1440 with 0 Axes>"
      ]
     },
     "metadata": {},
     "output_type": "display_data"
    },
    {
     "data": {
      "image/png": "[encoded data removed]",
      "text/plain": [
       "<Figure size 432x288 with 2 Axes>"
      ]
     },
     "metadata": {},
     "output_type": "display_data"
    }
   ],
   "source": [
    "#Revalidate final results with Confusion Matrix:\n",
    "cm = confusion_matrix(y_test_bag, y_pred_bag) \n",
    "print (cm)\n",
    "#Confusion Matrix as a quick Crosstab:\n",
    "    \n",
    "pd.crosstab(y_test_bag,pd.Series(y_pred_bag),\n",
    "rownames=['ACTUAL'],colnames=['PRED'])\n",
    "#visualize Confusion Matrix:\n",
    "cm = confusion_matrix(y_test_bag, y_pred_bag) \n",
    "df_cm = pd.DataFrame(cm, index = (0, 1), columns = (0, 1))\n",
    "plt.figure(figsize = (28,20))\n",
    "fig, ax = plt.subplots()\n",
    "sns.set(font_scale=1.4)\n",
    "sns.heatmap(df_cm, annot=True, fmt='g'#,cmap=\"YlGnBu\" \n",
    "           )\n",
    "class_names=[0,1]\n",
    "tick_marks = np.arange(len(class_names))\n",
    "plt.tight_layout()\n",
    "plt.title('Confusion matrix Bagging Classifier Tuned \\n', y=1.1)\n",
    "plt.xticks(tick_marks, class_names)\n",
    "plt.yticks(tick_marks, class_names)\n",
    "ax.xaxis.set_label_position(\"top\")\n",
    "plt.ylabel('Actual label\\n')\n",
    "plt.xlabel('Predicted label\\n')\n",
    "print(\"Test Data Accuracy: %0.4f\" % accuracy_score(y_test_bag, y_pred_bag))"
   ]
  },
  {
   "cell_type": "markdown",
   "id": "89d26bd8",
   "metadata": {},
   "source": [
    "However, upon upgrading these configurable values for the ensemble Bagging Classifier model, no improvement was noted as evidenced by its correlation matrices before and after hyperparameter tuning.\n",
    "\n",
    "Conclusively, the accuracy and error rate for the Bagging Classifier remained the same following hyper-parameter tuning. In contrast, for the tuned Logistic Regression Classifier, the accuracy rate decreased by 0.72 % and the error rate increased by 0.73 % This may not seem much but when dealing with thousands of clients it amounts to a lot."
   ]
  },
  {
   "cell_type": "markdown",
   "id": "41777aa9",
   "metadata": {},
   "source": [
    "# Saving the final model"
   ]
  },
  {
   "cell_type": "markdown",
   "id": "3bcc49cf",
   "metadata": {},
   "source": [
    "Based on the results so far, the baseline Logistic Regression classifier has been chosen as our final model. Even though hyperparameter tuning did not improve the model, but rather decreased the accuracy score (and increased the error rate) when compared to the original one, it still has better evaluation metrics compared to the untuned and tuned Bagging Classifier."
   ]
  },
  {
   "cell_type": "code",
   "execution_count": 80,
   "id": "9dd315a3",
   "metadata": {},
   "outputs": [
    {
     "data": {
      "text/plain": [
       "['final_model_lr.pkl.pkl']"
      ]
     },
     "execution_count": 80,
     "metadata": {},
     "output_type": "execute_result"
    }
   ],
   "source": [
    "# Saving the final classifier model\n",
    "import joblib as joblib\n",
    "joblib.dump(lr_classifier, 'final_model_lr.pkl.pkl')"
   ]
  },
  {
   "cell_type": "markdown",
   "id": "47d95f23",
   "metadata": {},
   "source": [
    "# Propensity to Churn"
   ]
  },
  {
   "cell_type": "markdown",
   "id": "3134b786",
   "metadata": {},
   "source": [
    "Beyond the technical aspect of building a predictive model, the business side of the churn problem that is being addressed requires that the unpredictability and risk modelled by the model be further translated into a business metric. One that can be used and exploited by the company’s executives and managers to continue to drive profitability through a customer-centric approach. In reality, such customer churn prediction models, besides the predicated binary outcome, are accompanied by a propensity score. Thus, to keep on threading the business aim of this project, we proceeded to create a propensity score for each customer. This score highlights each customer’s individual percentage probability of churning, with some having a higher probability than others. Hence, this gives the company the ability to prioritise its communication and commercial activity in the following weeks to maximise the number of product sales by targeting the higher at-risk customers. "
   ]
  },
  {
   "cell_type": "code",
   "execution_count": 85,
   "id": "5d7825ad",
   "metadata": {},
   "outputs": [
    {
     "data": {
      "text/html": [
       "<div>\n",
       "<style scoped>\n",
       "    .dataframe tbody tr th:only-of-type {\n",
       "        vertical-align: middle;\n",
       "    }\n",
       "\n",
       "    .dataframe tbody tr th {\n",
       "        vertical-align: top;\n",
       "    }\n",
       "\n",
       "    .dataframe thead th {\n",
       "        text-align: right;\n",
       "    }\n",
       "</style>\n",
       "<table border=\"1\" class=\"dataframe\">\n",
       "  <thead>\n",
       "    <tr style=\"text-align: right;\">\n",
       "      <th></th>\n",
       "      <th>churned</th>\n",
       "      <th>predictions</th>\n",
       "      <th>propensity_to_churn(%)</th>\n",
       "      <th>Ranking</th>\n",
       "    </tr>\n",
       "    <tr>\n",
       "      <th>client_id</th>\n",
       "      <th></th>\n",
       "      <th></th>\n",
       "      <th></th>\n",
       "      <th></th>\n",
       "    </tr>\n",
       "  </thead>\n",
       "  <tbody>\n",
       "    <tr>\n",
       "      <th>945282</th>\n",
       "      <td>1</td>\n",
       "      <td>1</td>\n",
       "      <td>99.60</td>\n",
       "      <td>1</td>\n",
       "    </tr>\n",
       "    <tr>\n",
       "      <th>868041</th>\n",
       "      <td>1</td>\n",
       "      <td>1</td>\n",
       "      <td>98.95</td>\n",
       "      <td>2</td>\n",
       "    </tr>\n",
       "    <tr>\n",
       "      <th>2045730</th>\n",
       "      <td>1</td>\n",
       "      <td>1</td>\n",
       "      <td>94.99</td>\n",
       "      <td>4</td>\n",
       "    </tr>\n",
       "    <tr>\n",
       "      <th>1851321</th>\n",
       "      <td>1</td>\n",
       "      <td>1</td>\n",
       "      <td>60.47</td>\n",
       "      <td>6</td>\n",
       "    </tr>\n",
       "    <tr>\n",
       "      <th>497819</th>\n",
       "      <td>0</td>\n",
       "      <td>0</td>\n",
       "      <td>4.65</td>\n",
       "      <td>8</td>\n",
       "    </tr>\n",
       "    <tr>\n",
       "      <th>1232059</th>\n",
       "      <td>0</td>\n",
       "      <td>0</td>\n",
       "      <td>4.26</td>\n",
       "      <td>8</td>\n",
       "    </tr>\n",
       "    <tr>\n",
       "      <th>729959</th>\n",
       "      <td>0</td>\n",
       "      <td>0</td>\n",
       "      <td>1.37</td>\n",
       "      <td>9</td>\n",
       "    </tr>\n",
       "    <tr>\n",
       "      <th>1606032</th>\n",
       "      <td>0</td>\n",
       "      <td>0</td>\n",
       "      <td>0.06</td>\n",
       "      <td>10</td>\n",
       "    </tr>\n",
       "    <tr>\n",
       "      <th>329064</th>\n",
       "      <td>0</td>\n",
       "      <td>0</td>\n",
       "      <td>0.00</td>\n",
       "      <td>10</td>\n",
       "    </tr>\n",
       "    <tr>\n",
       "      <th>1632653</th>\n",
       "      <td>0</td>\n",
       "      <td>0</td>\n",
       "      <td>0.00</td>\n",
       "      <td>10</td>\n",
       "    </tr>\n",
       "  </tbody>\n",
       "</table>\n",
       "</div>"
      ],
      "text/plain": [
       "           churned  predictions  propensity_to_churn(%) Ranking\n",
       "client_id                                                      \n",
       "945282           1            1                   99.60       1\n",
       "868041           1            1                   98.95       2\n",
       "2045730          1            1                   94.99       4\n",
       "1851321          1            1                   60.47       6\n",
       "497819           0            0                    4.65       8\n",
       "1232059          0            0                    4.26       8\n",
       "729959           0            0                    1.37       9\n",
       "1606032          0            0                    0.06      10\n",
       "329064           0            0                    0.00      10\n",
       "1632653          0            0                    0.00      10"
      ]
     },
     "execution_count": 85,
     "metadata": {},
     "output_type": "execute_result"
    }
   ],
   "source": [
    "# Calculating propensity to churn\n",
    "final_results = pd.concat([x_test_lr, y_test_lr], axis = 1).dropna()\n",
    "final_results['predictions'] = y_pred_lr\n",
    "final_results[\"propensity_to_churn(%)\"] = y_pred_probs_lr\n",
    "final_results[\"propensity_to_churn(%)\"] = final_results[\"propensity_to_churn(%)\"]*100\n",
    "final_results[\"propensity_to_churn(%)\"]=final_results[\"propensity_to_churn(%)\"].round(2)\n",
    "final_results = final_results[['churned', 'predictions', 'propensity_to_churn(%)']]\n",
    "final_results ['Ranking'] = pd.qcut(final_results['propensity_to_churn(%)'].rank(method = 'first'),10,labels=range(10,0,-1))\n",
    "final_results.head(10).sort_values(by='propensity_to_churn(%)',ascending=False)"
   ]
  },
  {
   "cell_type": "code",
   "execution_count": 83,
   "id": "1f21f039",
   "metadata": {},
   "outputs": [
    {
     "data": {
      "text/plain": [
       "(18866, 3)"
      ]
     },
     "execution_count": 83,
     "metadata": {},
     "output_type": "execute_result"
    }
   ],
   "source": [
    "final_results.shape"
   ]
  },
  {
   "cell_type": "code",
   "execution_count": 84,
   "id": "9940cbe3",
   "metadata": {},
   "outputs": [
    {
     "data": {
      "text/plain": [
       "[Text(0, 0, '11385'), Text(0, 0, '7481')]"
      ]
     },
     "execution_count": 84,
     "metadata": {},
     "output_type": "execute_result"
    },
    {
     "data": {
      "image/png": "[encoded data removed]",
      "text/plain": [
       "<Figure size 432x288 with 1 Axes>"
      ]
     },
     "metadata": {},
     "output_type": "display_data"
    }
   ],
   "source": [
    "# Checking distribution of predicted churners in our X-test\n",
    "ax = sns.countplot(x=final_results['predictions'],\n",
    "                   order=final_results['predictions'].value_counts(ascending=False).index);\n",
    "abs_values = final_results['predictions'].value_counts(ascending=False).values\n",
    "ax.bar_label(container=ax.containers[0], labels=abs_values)"
   ]
  },
  {
   "cell_type": "markdown",
   "id": "4e948f0a",
   "metadata": {},
   "source": [
    "# Predicting the identified Potential to Churn customers (medium to low value customer segment) using the final model."
   ]
  },
  {
   "cell_type": "code",
   "execution_count": 86,
   "id": "20bf1bb1",
   "metadata": {},
   "outputs": [],
   "source": [
    "# Predicting on our potential to churn customers\n",
    "pred = lr_classifier.predict(topredict)"
   ]
  },
  {
   "cell_type": "code",
   "execution_count": 87,
   "id": "436488c2",
   "metadata": {},
   "outputs": [
    {
     "data": {
      "text/plain": [
       "(33956,)"
      ]
     },
     "execution_count": 87,
     "metadata": {},
     "output_type": "execute_result"
    }
   ],
   "source": [
    "# Checking that there are the same amount of predictions as there are rows in the topredict dataframe\n",
    "pred.shape"
   ]
  },
  {
   "cell_type": "code",
   "execution_count": 88,
   "id": "9879771e",
   "metadata": {},
   "outputs": [
    {
     "data": {
      "text/plain": [
       "(33956, 3)"
      ]
     },
     "execution_count": 88,
     "metadata": {},
     "output_type": "execute_result"
    }
   ],
   "source": [
    "# Checking shape of dataset - confirming that there are correct number of predictions as shown above.\n",
    "topredict.shape"
   ]
  },
  {
   "cell_type": "code",
   "execution_count": 89,
   "id": "abced7c1",
   "metadata": {},
   "outputs": [],
   "source": [
    "# Resetting the index so that client id is no longer an index but a column\n",
    "topredict.reset_index(inplace=True)"
   ]
  },
  {
   "cell_type": "code",
   "execution_count": 90,
   "id": "2581d838",
   "metadata": {},
   "outputs": [
    {
     "data": {
      "text/html": [
       "<div>\n",
       "<style scoped>\n",
       "    .dataframe tbody tr th:only-of-type {\n",
       "        vertical-align: middle;\n",
       "    }\n",
       "\n",
       "    .dataframe tbody tr th {\n",
       "        vertical-align: top;\n",
       "    }\n",
       "\n",
       "    .dataframe thead th {\n",
       "        text-align: right;\n",
       "    }\n",
       "</style>\n",
       "<table border=\"1\" class=\"dataframe\">\n",
       "  <thead>\n",
       "    <tr style=\"text-align: right;\">\n",
       "      <th></th>\n",
       "      <th>client_id</th>\n",
       "      <th>recency</th>\n",
       "      <th>lifespan</th>\n",
       "      <th>clv</th>\n",
       "    </tr>\n",
       "  </thead>\n",
       "  <tbody>\n",
       "    <tr>\n",
       "      <th>0</th>\n",
       "      <td>1474013</td>\n",
       "      <td>0</td>\n",
       "      <td>0</td>\n",
       "      <td>30</td>\n",
       "    </tr>\n",
       "    <tr>\n",
       "      <th>1</th>\n",
       "      <td>2051002</td>\n",
       "      <td>0</td>\n",
       "      <td>132</td>\n",
       "      <td>600</td>\n",
       "    </tr>\n",
       "    <tr>\n",
       "      <th>2</th>\n",
       "      <td>816252</td>\n",
       "      <td>0</td>\n",
       "      <td>47</td>\n",
       "      <td>525</td>\n",
       "    </tr>\n",
       "    <tr>\n",
       "      <th>3</th>\n",
       "      <td>224301</td>\n",
       "      <td>0</td>\n",
       "      <td>75</td>\n",
       "      <td>880</td>\n",
       "    </tr>\n",
       "    <tr>\n",
       "      <th>4</th>\n",
       "      <td>1474574</td>\n",
       "      <td>0</td>\n",
       "      <td>67</td>\n",
       "      <td>1064</td>\n",
       "    </tr>\n",
       "  </tbody>\n",
       "</table>\n",
       "</div>"
      ],
      "text/plain": [
       "   client_id  recency  lifespan   clv\n",
       "0    1474013        0         0    30\n",
       "1    2051002        0       132   600\n",
       "2     816252        0        47   525\n",
       "3     224301        0        75   880\n",
       "4    1474574        0        67  1064"
      ]
     },
     "execution_count": 90,
     "metadata": {},
     "output_type": "execute_result"
    }
   ],
   "source": [
    "topredict.head()"
   ]
  },
  {
   "cell_type": "code",
   "execution_count": 91,
   "id": "6db7dc55",
   "metadata": {},
   "outputs": [],
   "source": [
    "# Putting the predicted results in a list\n",
    "y_pred_logistic_regression = []\n",
    "for prediction in pred:\n",
    "    if prediction >0.5:\n",
    "        y_pred_logistic_regression.append(1)\n",
    "    else:\n",
    "        y_pred_logistic_regression.append(0)"
   ]
  },
  {
   "cell_type": "code",
   "execution_count": 92,
   "id": "6f914f77",
   "metadata": {},
   "outputs": [
    {
     "name": "stdout",
     "output_type": "stream",
     "text": [
      "[0, 1, 0, 0, 0, 0, 0, 0, 1, 0, 0, 0, 0, 0, 1, 0, 0, 1, 0, 0]\n"
     ]
    }
   ],
   "source": [
    "# Printing the predicted values\n",
    "print(y_pred_logistic_regression[:20]) "
   ]
  },
  {
   "cell_type": "code",
   "execution_count": 93,
   "id": "883006f4",
   "metadata": {},
   "outputs": [],
   "source": [
    "# Converting array into a dataframe to be able to concatenate with the independent variables\n",
    "data_pred = y_pred_logistic_regression\n",
    "results = pd.DataFrame(data=data_pred)"
   ]
  },
  {
   "cell_type": "code",
   "execution_count": 94,
   "id": "d0a9275f",
   "metadata": {},
   "outputs": [],
   "source": [
    "# Concatenating the predictions with the independent variables\n",
    "potential_churners_predicted = pd.concat([topredict,results],axis=1)"
   ]
  },
  {
   "cell_type": "code",
   "execution_count": 95,
   "id": "888be6e2",
   "metadata": {},
   "outputs": [],
   "source": [
    "# Changing the prediction column name from 0 to 'prediction' for ease of reference\n",
    "potential_churners_predicted = potential_churners_predicted.rename(columns = { 0: 'prediction'})"
   ]
  },
  {
   "cell_type": "code",
   "execution_count": 96,
   "id": "2412a23c",
   "metadata": {},
   "outputs": [
    {
     "data": {
      "text/html": [
       "<div>\n",
       "<style scoped>\n",
       "    .dataframe tbody tr th:only-of-type {\n",
       "        vertical-align: middle;\n",
       "    }\n",
       "\n",
       "    .dataframe tbody tr th {\n",
       "        vertical-align: top;\n",
       "    }\n",
       "\n",
       "    .dataframe thead th {\n",
       "        text-align: right;\n",
       "    }\n",
       "</style>\n",
       "<table border=\"1\" class=\"dataframe\">\n",
       "  <thead>\n",
       "    <tr style=\"text-align: right;\">\n",
       "      <th></th>\n",
       "      <th>client_id</th>\n",
       "      <th>prediction</th>\n",
       "    </tr>\n",
       "  </thead>\n",
       "  <tbody>\n",
       "    <tr>\n",
       "      <th>0</th>\n",
       "      <td>1474013</td>\n",
       "      <td>0</td>\n",
       "    </tr>\n",
       "    <tr>\n",
       "      <th>1</th>\n",
       "      <td>2051002</td>\n",
       "      <td>1</td>\n",
       "    </tr>\n",
       "    <tr>\n",
       "      <th>2</th>\n",
       "      <td>816252</td>\n",
       "      <td>0</td>\n",
       "    </tr>\n",
       "    <tr>\n",
       "      <th>3</th>\n",
       "      <td>224301</td>\n",
       "      <td>0</td>\n",
       "    </tr>\n",
       "    <tr>\n",
       "      <th>4</th>\n",
       "      <td>1474574</td>\n",
       "      <td>0</td>\n",
       "    </tr>\n",
       "  </tbody>\n",
       "</table>\n",
       "</div>"
      ],
      "text/plain": [
       "   client_id  prediction\n",
       "0    1474013           0\n",
       "1    2051002           1\n",
       "2     816252           0\n",
       "3     224301           0\n",
       "4    1474574           0"
      ]
     },
     "execution_count": 96,
     "metadata": {},
     "output_type": "execute_result"
    }
   ],
   "source": [
    "# Removing the the rest of the features and keeping the client_id and predictions only\n",
    "potential_churners_predictions = potential_churners_predicted.drop(['recency','lifespan','clv'], axis = 1)\n",
    "potential_churners_predictions.head()"
   ]
  },
  {
   "cell_type": "code",
   "execution_count": 97,
   "id": "7151e0e7",
   "metadata": {},
   "outputs": [
    {
     "data": {
      "text/plain": [
       "[Text(0, 0, '21085'), Text(0, 0, '12871')]"
      ]
     },
     "execution_count": 97,
     "metadata": {},
     "output_type": "execute_result"
    },
    {
     "data": {
      "image/png": "[encoded data removed]",
      "text/plain": [
       "<Figure size 432x288 with 1 Axes>"
      ]
     },
     "metadata": {},
     "output_type": "display_data"
    }
   ],
   "source": [
    "# Checking distribution of our predictions for our potential churners cluster\n",
    "ax = sns.countplot(x=potential_churners_predictions['prediction'],\n",
    "                   order=potential_churners_predictions['prediction'].value_counts(ascending=False).index);\n",
    "abs_values = potential_churners_predictions['prediction'].value_counts(ascending=False).values\n",
    "ax.bar_label(container=ax.containers[0], labels=abs_values)"
   ]
  },
  {
   "cell_type": "code",
   "execution_count": 98,
   "id": "c8b2f372",
   "metadata": {},
   "outputs": [],
   "source": [
    "#Saving the dataframe as a csv file\n",
    "potential_churners_predictions.to_csv(r'C:\\Users\\cilia\\potential_churners_predictions.csv', index=False)"
   ]
  }
 ],
 "metadata": {
  "kernelspec": {
   "display_name": "Python 3 (ipykernel)",
   "language": "python",
   "name": "python3"
  },
  "language_info": {
   "codemirror_mode": {
    "name": "ipython",
    "version": 3
   },
   "file_extension": ".py",
   "mimetype": "text/x-python",
   "name": "python",
   "nbconvert_exporter": "python",
   "pygments_lexer": "ipython3",
   "version": "3.9.12"
  }
 },
 "nbformat": 4,
 "nbformat_minor": 5
}
